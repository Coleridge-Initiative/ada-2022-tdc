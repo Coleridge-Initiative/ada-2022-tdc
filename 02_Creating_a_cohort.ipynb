{
 "cells": [
  {
   "cell_type": "markdown",
   "metadata": {},
   "source": [
    "<center><br><br>\n",
    "    TANF Data Collaborative <br>\n",
    "    Applied Data Analytics Training | Spring 2022\n",
    "    <h1> Creating a Cohort </h1>\n",
    "    <span style=\"font-size: 1.5em;\">\n",
    "        <a href='https://www.coleridgeinitiative.org'>Coleridge Initiative</a>\n",
    "    </span>\n",
    "    <center>Benjamin Feder, Maryah Garner, Allison Nunez, Carolyn D. Gorman</center>\n",
    "</center>\n",
    "\n",
    "***"
   ]
  },
  {
   "cell_type": "markdown",
   "metadata": {},
   "source": [
    "Now that you have been introduced to the datasets available for you in this training and have taken a sufficient amount of time to explore potentially relevant variables, you should be ready to begin mapping out the beginnings of your longitudinal analysis. This notebook introduces you to the concept of creating a group or a \"cohort\" that defines the primary population of interest in much research. A cohort is a group of individuals that share a time-based characteristic. For the purposes of this training program, your cohort will consist of a population of TANF recipients. Once created, cohorts may then be used to link to other data sources, such as employment data.\n",
    "\n",
    "As we create a cohort in this notebook, we will walk you through some of the decisions that need to be made when defining a population of TANF recipients; such as filters to define exiters, the amount of exits, age, and work-eligibility. Once this is complete, we will construct descriptive statistics to better understand the population of interest."
   ]
  },
  {
   "cell_type": "markdown",
   "metadata": {},
   "source": [
    "## 1. Getting started"
   ]
  },
  {
   "cell_type": "code",
   "execution_count": null,
   "metadata": {},
   "outputs": [],
   "source": [
    "options(warn = -1)                   # switches warnings off\n",
    "\n",
    "suppressMessages(library(odbc))      # allows R to connect with the database\n",
    "suppressMessages(library(tidyverse)) # useful for data manipulation and visualization\n",
    "suppressMessages(library(scales))    # to calculate percentages, graphing\n",
    "suppressMessages(library(lubridate)) # for easy working with dates \n",
    "\n",
    "options(warn = 0)                    # switches warnings on \n",
    "options(scipen=999)                  # prevents scientific notation"
   ]
  },
  {
   "cell_type": "code",
   "execution_count": null,
   "metadata": {},
   "outputs": [],
   "source": [
    "# server connection\n",
    "con <- DBI::dbConnect(odbc::odbc(),\n",
    "                     Driver = \"SQL Server\",\n",
    "                     Server = \"msssql01.c7bdq4o2yhxo.us-gov-west-1.rds.amazonaws.com\",\n",
    "                     Trusted_Connection = \"True\")"
   ]
  },
  {
   "cell_type": "markdown",
   "metadata": {},
   "source": [
    "## 2. Defining a Cohort\n",
    " In this notebook, we will explore a cohort of individuals who exited TANF during the second quarter of 2018. In your own projects, you might want to explore alternative constructions; such as individuals who entered TANF during a particular time window. \n",
    " \n",
    "> Note: We use the condition WHERE **tanf_end = 1** to select only observations that are the last record of a spell, or span of time. \n",
    "\n",
    "We will start our cohort exploration by defining this basic analytical frame from the complete **person_month_cleaned** table in the **tr_tdc_2022** database. It may take a few seconds to read the data. \n",
    "\n",
    "> Note: It is common practice to only include the necessary variables within your cohort definition. You can narrow down the list of variables through a combination of an exploratory data analysis and familiarizing yourself with the data dictionary. Also note that we are using the complete **person_month_cleaned** table because we are only selecting individuals who exited TANF during the second quarter of 2018. Please do not try to use the entire **person_month_cleaned** table without selecting out a small subset of individuals.* "
   ]
  },
  {
   "cell_type": "code",
   "execution_count": null,
   "metadata": {},
   "outputs": [],
   "source": [
    "# Create query character string\n",
    "    # Database name: tr_tdc_2022\n",
    "    # Schema name: dbo\n",
    "    # Table name: person_month_clean\n",
    "\n",
    "query <- \"\n",
    "SELECT ssn, caseid, dob, yr_month, welig, affil, tanf_total_months, tanf_start, hispan, \n",
    "    native, asian, black, hawaia, white, county\n",
    "FROM tr_tdc_2022.dbo.person_month_clean\n",
    "WHERE yr_quarter = '2018 Q2'  AND tanf_end = 1\n",
    "\"\n",
    "\n",
    "tanf_cohort <- dbGetQuery(con, query)\n",
    "\n",
    "# view the first 6 observations\n",
    "head(tanf_cohort)"
   ]
  },
  {
   "cell_type": "markdown",
   "metadata": {},
   "source": [
    "With our 10% sample, we saw that there were instances where the same individual would show up multiple times in the data. Let's see if this also occurs when we focus on a time-bound group of exiters."
   ]
  },
  {
   "cell_type": "code",
   "execution_count": null,
   "metadata": {},
   "outputs": [],
   "source": [
    "# find number of rows, unique people, and unique cases in TANF data\n",
    "tanf_cohort %>%\n",
    "    summarize(\n",
    "        n_rows = n(),\n",
    "        n_cases = n_distinct(caseid),\n",
    "        n_people = n_distinct(ssn)\n",
    "    )"
   ]
  },
  {
   "cell_type": "markdown",
   "metadata": {},
   "source": [
    "Indeed, this does appear to be the case, as evidenced by the difference between the number of rows and the number of people."
   ]
  },
  {
   "cell_type": "markdown",
   "metadata": {},
   "source": [
    "### Potential Cohort Filters\n",
    "\n",
    "The previous analysis indicates that there are some people that show up more than once with multiple TANF exits within the same quarter in our base cohort (exiters in **2018 Q2**). Additionally, based on our work in the Exploratory Data Analysis notebook, we expect there to be some minors in our cohort. For this analysis, we may want to filter out such individuals from our final analytical cohort.\n",
    "\n",
    "In this section, we will explore a handful of potential cohort filters. As you work through this section, we encourage you to think about other filters you may want to explore when developing your own cohort."
   ]
  },
  {
   "cell_type": "markdown",
   "metadata": {},
   "source": [
    "#### Multiple Exits\n",
    "\n",
    "Duplicates are often present in administrative data, especially when working with data that result from merging two or more data sets together. Regardless of your population of interest, you may be working with sets of duplicate rows on your unit of interest (**ssn**). Depending on the analysis, you may not want to double-count individuals that satisfy the cohort constraint (TANF exits within a quarter). Instead, in this notebook, we may want to focus only on their most recent occurrence (exit).\n",
    "\n",
    "Let's look at an instance where an individual appears multiple times in the data."
   ]
  },
  {
   "cell_type": "code",
   "execution_count": null,
   "metadata": {},
   "outputs": [],
   "source": [
    "# find example of someone showing up multiple times\n",
    "# use pull to isolate the contents of the variable (individual ssn) and save as an object\n",
    "ssn_dup <- tanf_cohort %>%\n",
    "    count(ssn) %>%\n",
    "    arrange(desc(n)) %>%\n",
    "    head(1) %>% \n",
    "    pull(ssn)\n",
    "\n",
    "tanf_cohort %>%\n",
    "    filter(ssn == ssn_dup)"
   ]
  },
  {
   "cell_type": "markdown",
   "metadata": {},
   "source": [
    "You can see that the **tanf_total_months** variable updates between their exits. Let's limit our cohort to only instances of a last TANF exit within this time frame."
   ]
  },
  {
   "cell_type": "code",
   "execution_count": null,
   "metadata": {},
   "outputs": [],
   "source": [
    "# select last exit (yr_month) for each ssn\n",
    "tanf_cohort_clean <- tanf_cohort %>%\n",
    "    arrange(ssn, desc(yr_month)) %>%\n",
    "    distinct(ssn, .keep_all = T) "
   ]
  },
  {
   "cell_type": "code",
   "execution_count": null,
   "metadata": {},
   "outputs": [],
   "source": [
    "# confirm we have one row per ssn\n",
    "tanf_cohort_clean %>%\n",
    "    summarize(\n",
    "        n_rows = n(),\n",
    "        n_people = n_distinct(ssn)\n",
    "    )"
   ]
  },
  {
   "cell_type": "markdown",
   "metadata": {},
   "source": [
    "By applying this restriction, we now have a unique sample of observations."
   ]
  },
  {
   "cell_type": "markdown",
   "metadata": {},
   "source": [
    "#### Age\n",
    "\n",
    "Next, we will use the code we developed in the EDA notebook to manually create our **age** variable. In this notebook, we will additionally standardize the age across the multiple months of exit (second quarter) by finding their age at the end of the quarter."
   ]
  },
  {
   "cell_type": "code",
   "execution_count": null,
   "metadata": {},
   "outputs": [],
   "source": [
    "# calculate age_end\n",
    "tanf_cohort_clean <- tanf_cohort_clean %>%  \n",
    "    mutate(\n",
    "        age_end = trunc((dob %--% ymd('2018/06/30')) / years(1)) # find age at end of Q2 2018\n",
    "    ) \n",
    "\n",
    "# see age_end as the last variable\n",
    "head(tanf_cohort_clean)"
   ]
  },
  {
   "cell_type": "markdown",
   "metadata": {},
   "source": [
    "Let's see if the data frame contains minors."
   ]
  },
  {
   "cell_type": "code",
   "execution_count": null,
   "metadata": {},
   "outputs": [],
   "source": [
    "# count number of minors and non-minors\n",
    "tanf_cohort_clean %>%\n",
    "    mutate(\n",
    "        adult_ind = ifelse(age_end >= 18, \"Adult\", \"Not_Adult\")\n",
    "    ) %>%\n",
    "    count(adult_ind)"
   ]
  },
  {
   "cell_type": "markdown",
   "metadata": {},
   "source": [
    "Because minors are less likely work-eligibile, with the context of focusing on employment outcomes, we will filter out all individuals who were not 18 at the end of 2018 Q2."
   ]
  },
  {
   "cell_type": "code",
   "execution_count": null,
   "metadata": {},
   "outputs": [],
   "source": [
    "# filter for 18+\n",
    "tanf_cohort_clean <- tanf_cohort_clean %>%\n",
    "    filter(age_end >= 18)\n",
    "\n",
    "# confirm filter worked as intended-n_people should be the same as the number of adults found above\n",
    "tanf_cohort_clean %>%\n",
    "    summarize(\n",
    "        n_people = n_distinct(ssn)\n",
    "    )"
   ]
  },
  {
   "cell_type": "markdown",
   "metadata": {},
   "source": [
    "#### Work-Eligibility Status\n",
    "\n",
    "The variable **welig**, the work-eligible individual indicator, will help us to delve further into the work-eligibility statuses of these individuals."
   ]
  },
  {
   "cell_type": "code",
   "execution_count": null,
   "metadata": {},
   "outputs": [],
   "source": [
    "# see breakdown of individuals by welig\n",
    "# note: can use count() because there is one row per ssn, otherwise would use summarize(n_distinct(ssn))\n",
    "tanf_cohort_clean %>%\n",
    "    count(welig)"
   ]
  },
  {
   "cell_type": "markdown",
   "metadata": {},
   "source": [
    "We *highly* encourage you to explore the data dictionary for this variable, as there may be certain values you want to exclude from your analytical frame. The **welig** value of 12, for example, indicates that the individual has passed away. Additionally, according to the data dictionary, all **welig** values greater than 5 stipulate that the person was not eligible for work.\n",
    "\n",
    "For the sake of the exercise, we will filter out all individuals who were not eligible for work. "
   ]
  },
  {
   "cell_type": "code",
   "execution_count": null,
   "metadata": {},
   "outputs": [],
   "source": [
    "# filter all non-work eligible individuals\n",
    "tanf_cohort_clean <- tanf_cohort_clean %>%\n",
    "    filter(welig %in% c(\"01\", \"02\", \"03\", \"04\", \"05\"))\n",
    "\n",
    "# see number of individuals\n",
    "tanf_cohort_clean %>%\n",
    "    summarize(\n",
    "        n_people = n_distinct(ssn)\n",
    "    )"
   ]
  },
  {
   "cell_type": "markdown",
   "metadata": {},
   "source": [
    "#### Family Affiliation\n",
    "\n",
    "To narrow the cohort definition even further, we can focus on the **affil** variable, which tracks the affiliation of the individual to the one receiving assistance."
   ]
  },
  {
   "cell_type": "code",
   "execution_count": null,
   "metadata": {},
   "outputs": [],
   "source": [
    "# see distribution of affil\n",
    "tanf_cohort_clean %>%\n",
    "    count(affil)"
   ]
  },
  {
   "cell_type": "markdown",
   "metadata": {},
   "source": [
    "We can see that a portion of the current sample includes **affil** values of 2, which refers to a parent of the minor child in the eligible family receiving assistance. If you wanted to only concentrate on the member of the family receiving assistance, as is the case for this example, you would want to filter for only individuals with **affil** values equal to 1.\n",
    "\n",
    "> Note: While we are exploring the employment outcomes of TANF recipients in this notebook, there is also strong interest in understanding the employment outcomes of individuals who are parents, guardians, or caretakers of minors who are TANF recipients. You may want to explore this on your own."
   ]
  },
  {
   "cell_type": "code",
   "execution_count": null,
   "metadata": {},
   "outputs": [],
   "source": [
    "# filter for only affil = 1\n",
    "tanf_cohort_clean <- tanf_cohort_clean %>%\n",
    "    filter(affil == 1)\n",
    "\n",
    "tanf_cohort_clean %>% \n",
    "    summarize(\n",
    "        n_people = n_distinct(ssn)\n",
    "    )"
   ]
  },
  {
   "cell_type": "markdown",
   "metadata": {},
   "source": [
    "Now that we have settled on a specific data-driven cohort definition, we will explore our cohort to get a better sense of our analytical frame."
   ]
  },
  {
   "cell_type": "markdown",
   "metadata": {},
   "source": [
    "## 3. Understanding the Cohort\n",
    "\n",
    "After creating your cohort, you may want to transition right into record linkage and begin your longitudinal analysis. While this is understandable, it is important to take the time to learn more about your cohort. This step will provide you with additional verification of the cohort construction and allow you to contextualize future findings. As with EDA, we strongly encourage you to examine your analytical frame and discuss any missingness and abnormal values.\n",
    "\n",
    "In this notebook, we will calculate descriptive statistics on the following:\n",
    "- Time on TANF\n",
    "- Race/Ethnicity\n",
    "\n",
    "As you're working through this section, think about possible subgroup and measurement distributions you may want to implement in your project."
   ]
  },
  {
   "cell_type": "markdown",
   "metadata": {},
   "source": [
    "### Time Receiving TANF\n",
    "\n",
    "Because our research question focuses on a group of individuals exiting a TANF spell, we will take a look at the distribution of the **tanf_total_months** variable."
   ]
  },
  {
   "cell_type": "code",
   "execution_count": null,
   "metadata": {},
   "outputs": [],
   "source": [
    "# visual summary of total time on tanf\n",
    "tanf_cohort_clean %>%\n",
    "    ggplot(aes(x=tanf_total_months)) + \n",
    "    geom_histogram()"
   ]
  },
  {
   "cell_type": "markdown",
   "metadata": {},
   "source": [
    "Recall that this variable is right-censored (values will not be higher than a certain amount) because all TANF cases were recorded as new cases in the data if they existed in the TANF system in the first month of the data. If this censoring had not occured, such individuals would likely show up in the data with even longer TANF spells."
   ]
  },
  {
   "cell_type": "markdown",
   "metadata": {},
   "source": [
    "Instead of treating **tanf_total_months** as a numeric variable, we may want to recode the column to group lengths of TANF stays in order to classify our cohort into potential subgroups. The **tanf_length_cat** variable was constructed following the guidance of our TDC pilot teams. "
   ]
  },
  {
   "cell_type": "code",
   "execution_count": null,
   "metadata": {},
   "outputs": [],
   "source": [
    "# create a categorical variable based on tanf_total_months\n",
    "tanf_cohort_clean <- tanf_cohort_clean %>%\n",
    "    mutate(\n",
    "        tanf_length_cat = case_when(\n",
    "            tanf_total_months <= 6 ~ \"short\",\n",
    "            tanf_total_months > 6 & tanf_total_months <= 24 ~ \"medium\", \n",
    "            tanf_total_months > 24 ~ \"long\",\n",
    "            TRUE ~ \"error\"\n",
    "        )\n",
    "    ) \n",
    "    \n",
    "# see distribution of stays\n",
    "tanf_cohort_clean %>%\n",
    "    count(tanf_length_cat)"
   ]
  },
  {
   "cell_type": "markdown",
   "metadata": {},
   "source": [
    "By analyzing the spell variable in a categorical fashion, we can see that there are far fewer individuals with long TANF stays. \n",
    "\n",
    "> Note: In the next notebook, after linking the cohort to Indiana wage records, we will examine employment outcomes for those in the cohort based on their relative length of times receiving TANF benefits (**tanf_length_cat**)."
   ]
  },
  {
   "cell_type": "markdown",
   "metadata": {},
   "source": [
    "### Race/Ethnicity Distribution\n",
    "\n",
    "An important demographic breakdown worth considering in your analytical framework is the race/ethnicity distribution of the cohort. There are a multitude of race- and ethnicity-related variables in the TANF data. By examining the set of columns in **tanf_cohort_clean** (and **person_month_clean**), we can see just how many variables there are."
   ]
  },
  {
   "cell_type": "code",
   "execution_count": null,
   "metadata": {},
   "outputs": [],
   "source": [
    "# see all of the different race-related variables (focus on variables from hispan to white)\n",
    "names(tanf_cohort_clean)"
   ]
  },
  {
   "cell_type": "markdown",
   "metadata": {},
   "source": [
    "Upon inspection, there appear to be six related variables. We could look at the distribution of the six variables grouped together:"
   ]
  },
  {
   "cell_type": "code",
   "execution_count": null,
   "metadata": {},
   "outputs": [],
   "source": [
    "# example of doing all in one big table--it's hard to read!! and doesn't meet disclosure thresholds!!\n",
    "tanf_cohort_clean %>%\n",
    "    count(hispan, native, asian, black, hawaia, white)"
   ]
  },
  {
   "cell_type": "markdown",
   "metadata": {},
   "source": [
    "Instead, we can combine these variables into an all-encompassing one. Due to the small counts within the combination of these six variables, we will opt to recode them as an indicator that an individual's race/ethnicity is white, non-hispanic:"
   ]
  },
  {
   "cell_type": "code",
   "execution_count": null,
   "metadata": {},
   "outputs": [],
   "source": [
    "# instead can recode race/ethnicity to get only white indicator\n",
    "tanf_cohort_clean %>%\n",
    "    mutate(\n",
    "        white_only_ind = ifelse(white == '1' & hispan == '2' & native == '2' & asian == '2' & black == '2' & hawaia == '2' , \"white only\", \"not white only\")\n",
    "    ) %>%\n",
    "    count(white_only_ind)"
   ]
  },
  {
   "cell_type": "markdown",
   "metadata": {},
   "source": [
    "We can see that the majority of individuals in the cohort are not non-hispanic white."
   ]
  },
  {
   "cell_type": "markdown",
   "metadata": {},
   "source": [
    "## 4. Saving as a Permanent Table\n",
    "\n",
    "Since we performed the cohort filtering in R, we can save the final cohort definition as a csv file. We can also save the file as a permanent table in R, which will allow us to leverage SQL's join functionality to link the cohort to large tables that are unable to be read into R due to memory constraints. The following code blocks demonstrate how to convert an R data frame to a permanent table by creating the table **nb_cohort** in the TDC training workspace database **tr_tdc_2022** from the data frame **tanf_cohort_clean**.\n",
    "\n",
    "> Note: Saving your cohort as a permanent table is *highly* recommended. When doing so, please save your table with the prefix **team#** (ex. **team1_cohort**) to differentiate between tables for each project."
   ]
  },
  {
   "cell_type": "markdown",
   "metadata": {},
   "source": [
    "    qry <- \"use tr_tdc_2022;\"\n",
    "    DBI::dbExecute(con, qry)"
   ]
  },
  {
   "cell_type": "markdown",
   "metadata": {},
   "source": [
    "    DBI::dbWriteTable(\n",
    "        conn = con,\n",
    "        name = DBI::SQL(\"dbo.nb_cohort\"), \n",
    "        value = tanf_cohort_clean\n",
    "    )"
   ]
  },
  {
   "cell_type": "markdown",
   "metadata": {},
   "source": [
    "> Note: If you run this code, you will get an error because a table with the name `nb_cohort` already exists in the `tr_tdc_2022` database."
   ]
  },
  {
   "cell_type": "markdown",
   "metadata": {},
   "source": [
    "## 5. Teaser: Linking Different Cohorts\n",
    "\n",
    "Given the ultimate focus of tracking employment outcomes of TANF exiters, we can justify some of our cohort creation decisions. As an extra step, we can compare the linkage rate to the wage records in the following year after TANF exit based on the loose cohort construction presented at the beginning of the notebook compared to the one we eventually narrowed down to (`tanf_cohort_clean`).\n",
    "\n",
    "> Note: We will cover the programmatic steps involved in the linkage in the following notebook. "
   ]
  },
  {
   "cell_type": "code",
   "execution_count": null,
   "metadata": {},
   "outputs": [],
   "source": [
    "# linkage with initial cohort definition of all TANF exiters during the second quarter of 2018\n",
    "# also includes potential duplicates\n",
    "qry <- \"\n",
    "select *\n",
    "from tr_tdc_2022.dbo.example_cohort_link\n",
    "\"\n",
    "df_initial <- dbGetQuery(con, qry)\n",
    "\n",
    "initial_wages <- df_initial %>%\n",
    "    summarize(\n",
    "        n_individuals = n_distinct(ssn)\n",
    "    )\n",
    "\n",
    "initial_wages"
   ]
  },
  {
   "cell_type": "code",
   "execution_count": null,
   "metadata": {},
   "outputs": [],
   "source": [
    "# linkage with refined cohort definition (tanf_cohort_clean)\n",
    "qry <- \"\n",
    "select *\n",
    "from tr_tdc_2022.dbo.nb_cohort_link\n",
    "\"\n",
    "df_refined <- dbGetQuery(con, qry)\n",
    "\n",
    "refined_wages <- df_refined %>%\n",
    "    summarize(\n",
    "        n_individuals = n_distinct(ssn)\n",
    "    )\n",
    "\n",
    "refined_wages"
   ]
  },
  {
   "cell_type": "code",
   "execution_count": null,
   "metadata": {},
   "outputs": [],
   "source": [
    "# see percentage of people with employment records in at least one quarter in the following year\n",
    "initial_result <- tanf_cohort %>%\n",
    "    summarize(\n",
    "        cohort_size = n_distinct(ssn),\n",
    "        cohort_w_wages = initial_wages$n_individuals,\n",
    "        match_prop = initial_wages$n_individuals/cohort_size\n",
    "    ) %>%\n",
    "    mutate(\n",
    "        cohort_definition = \"initial\"\n",
    "    )\n",
    "\n",
    "initial_result"
   ]
  },
  {
   "cell_type": "code",
   "execution_count": null,
   "metadata": {},
   "outputs": [],
   "source": [
    "# see percentage of people with employment records in at least one quarter in the following year\n",
    "cohort_result <- tanf_cohort_clean %>%\n",
    "    summarize(\n",
    "        cohort_size = n_distinct(ssn),\n",
    "        cohort_w_wages = refined_wages$n_individuals,\n",
    "        match_prop = refined_wages$n_individuals/cohort_size\n",
    "    ) %>%\n",
    "    mutate(\n",
    "        cohort_definition = \"refined\"\n",
    "    )\n",
    "\n",
    "cohort_result"
   ]
  },
  {
   "cell_type": "code",
   "execution_count": null,
   "metadata": {},
   "outputs": [],
   "source": [
    "# see match rate in a bar plot\n",
    "# rbind() combines the two data frames as long as they have the same column names and types\n",
    "initial_result %>%\n",
    "    rbind(cohort_result) %>%\n",
    "    ggplot(aes(x=cohort_definition, y = match_prop)) +\n",
    "    geom_col()"
   ]
  },
  {
   "cell_type": "markdown",
   "metadata": {},
   "source": [
    "Despite narrowing the cohort size by nearly REDACTED, we only lose out on employment records for less than REDACTED individuals while increasing the linkage by almost REDACTED. Due to our explicit focus on employment outcomes, we can further justify the filtering process in our cohort creation to more directly involve only those individuals likely to be employed. "
   ]
  },
  {
   "cell_type": "markdown",
   "metadata": {},
   "source": [
    "## References\n",
    "Cumpton, Greg, Feder, Benjamin, Barrett, Nathan, & Mian, Rukhshan. (2022, April 4). Data Exploration for Cohort Analysis using Texas Higher Education Coordinating Board Data. Zenodo. https://doi.org/10.5281/zenodo.6412617"
   ]
  }
 ],
 "metadata": {
  "kernelspec": {
   "display_name": "R",
   "language": "R",
   "name": "ir"
  },
  "language_info": {
   "codemirror_mode": "r",
   "file_extension": ".r",
   "mimetype": "text/x-r-source",
   "name": "R",
   "pygments_lexer": "r",
   "version": "4.0.3"
  }
 },
 "nbformat": 4,
 "nbformat_minor": 4
}
