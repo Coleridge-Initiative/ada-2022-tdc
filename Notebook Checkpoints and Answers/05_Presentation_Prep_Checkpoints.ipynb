{
 "cells": [
  {
   "cell_type": "markdown",
   "metadata": {},
   "source": [
    "<center><br><br>\n",
    "    Arkansas Work-Based Learning to Workforce Outcomes <br>\n",
    "    Applied Data Analytics Training | Spring 2022\n",
    "    <h1> Presentation Preparation Checkpoints </h1>\n",
    "    <span style=\"font-size: 1.5em;\">\n",
    "        <a href='https://www.coleridgeinitiative.org'>Coleridge Initiative</a>\n",
    "    </span>\n",
    "    <center>Joshua Edelmann and Benjamin Feder</center>\n",
    "</center>\n",
    "\n",
    "***"
   ]
  },
  {
   "cell_type": "markdown",
   "metadata": {},
   "source": [
    "# Introduction\n",
    "\n",
    "The purpose of this checkpoint notebook is to apply the methods you saw in `05_Presentation_Prep.ipynb` to a potential visualization of your cohort. Here, we will produce an image depicting your cohort's wages by an aggregated race variable and confirm that the final visual will pass export review.\n",
    "\n",
    "In the checkpoint notebooks `02_Creating_a_cohort.ipynb`, you were asked to create and save your cohort as an SQL table. You will be utilizing the cohort you created as part of this checkpoint notebook (or perhaps an updated cohort you have since created). \n",
    "\n",
    "At each checkpoint, you will be replacing the `___` with the appropriate variable, function or R code snippet. \n",
    "\n",
    "You are encouraged to attempt the checkpoints on your own. Having said that, hints and suggested solutions are provided and these can be accessed by utilizing the following code:\n",
    "\n",
    "Hints: `check_#.hint()`\n",
    "\n",
    "Solutions: `check_#.solution()` – your solutions may vary based on how you define your cohort. We have shared our suggested solutions.\n",
    "\n",
    "In both cases, # refers to the checkpoint number. For example: we can access the hint and solution for Checkpoint 2 using: `check_2.hint()` and `check_2.solution()`, respectively.\n",
    "\n",
    "> Note: This checkpoint notebook has been created by keeping a cohort of apprenticeship completers in mind. We encourage you to reach out to your team facilitator to learn more about the methods you can use if your cohort is defined differently, such as by apprenticeship starters. Also, the code for accessing hints and solutions is currently commented out – in order for the cells to run, you will need to uncomment them first. "
   ]
  },
  {
   "cell_type": "markdown",
   "metadata": {},
   "source": [
    "As a reminder, the export rules for this class are as follows:"
   ]
  },
  {
   "cell_type": "markdown",
   "metadata": {},
   "source": [
    "# AR 2022 Class Export Review Guidelines \n",
    "\n",
    "- **Each team will be able to export up to 10 figures/tables**\n",
    "    \n",
    "    \n",
    "- **Every statistic for export must be based on at least 11 individuals and at least 3 employers (when using wage records)**\n",
    "     - Statistics that are based off of 0-10 individuals must be supressed\n",
    "     - Statistics that are based off of 0-2 employers must be supressed\n",
    "    \n",
    "    \n",
    "- **All counts will need to be rounded**\n",
    "    - Counts below 1000 should be rounded to the nearest ten\n",
    "    - Counts greater than or equal to 1000 should be rounded to the nearest hundred\n",
    "    > For example, a count of 868 would be rounded to 870 and a count of 1868 would be rounded to 1900\n",
    "\n",
    "- **All reported wages will need to be rounded to the nearest hundred** \n",
    "    \n",
    "- **All reported averages will need to be rounded to the nearest hundredth** \n",
    "   \n",
    "- **All percentages and proportions need to be rounded**\n",
    "    - The same rounding rule that is applied to counts must be applied to both the numerator and denominator\n",
    "    - Percentages must then be rounded to the nearest percent\n",
    "    - Proportions must be rounded to the nearest hundredth\n",
    "\n",
    "\n",
    "- **Exact percentiles can not be exported** \n",
    "    - Instead, for example, you may calculate a “fuzzy median”, by averaging the true 45th and 55th percentiles\n",
    "       - If you are calculating the fuzzy percentiles for wage, you will need to round to the nearest hundred after calculating the fuzzy percentile\n",
    "       - If you are calculating the fuzzy percentile for a number of individuals, you will need to round to the nearest 10 if the count is less than 1000 and to the nearest hundred if the count is greater than or equal to 1000\n",
    "  \n",
    "- **Exact Maxima and Minima can not be exported**\n",
    "    - Suppress maximum and minimum values in general\n",
    "    - You may replace an exact maximum or minimum with a top-coded value or a fuzzy maximum or minimum value. For example: If the maximum value for earnings is 154,325, it could be top-coded as '100,000+'. And a fuzzy maximum value could be: \n",
    "    $$\\frac{95th\\ percentile\\ of\\ earnings + 154325}{2}$$\n",
    " \n",
    " \n",
    "- **Complementary suppression**\n",
    "    - If your figures include totals or are dependent on a preceding or subsequent figures, you need to take into account complementary disclosure risks—that is, whether the figure totals or the separate figures when read together, might disclose information about less then 11 individuals in the data in a way that a single, simpler table would not. Team facilitators and export reviewers will work with you by offering guidance on implementing any necessary complementary suppression techniques"
   ]
  },
  {
   "cell_type": "markdown",
   "metadata": {},
   "source": [
    "##  Supporting Documentation for Exports\n",
    "\n",
    "For each exported figure, you will need to provide a table with **underlying counts** of individuals and employers (when appropriate) for each statistic depicted in the figure. \n",
    "\n",
    "- You will need to include both the rounded and the unrounded counts of individuals\n",
    "\n",
    "- If percentages or proportions are to be exported, you must report both the rounded and the unrounded counts of individuals for the numerator and denominator. You must also report the counts of employers for both the numerator and the denominator when working with wage records\n",
    "\n",
    "**Code**\n",
    "- Please provide the code for every output that needs to be exported and the code generating every table (csv) with underlying counts. It is important for the ADRF staff to have the code to better understand what exactly was done and to be able to replicate results. Understanding how research results are created is important in understanding the research output. Thus, it is important to document every step of the analysis in the Jupyter notebook."
   ]
  },
  {
   "cell_type": "markdown",
   "metadata": {},
   "source": [
    "# R Setup\n",
    "\n",
    "In this notebook, we will use colors from this color-blind friendly selection:\n",
    "\n",
    "\"#009E73\", \"#0072B2\", \"#D55E00\", \"#CC79A7\", \"#999999\", \"#E69F00\",  \"#56B4E9\", \"#F0E442\""
   ]
  },
  {
   "cell_type": "code",
   "execution_count": null,
   "metadata": {},
   "outputs": [],
   "source": [
    "# switching off warnings\n",
    "options(warn=-1)\n",
    "\n",
    "#database interaction imports\n",
    "suppressMessages(library(odbc))\n",
    "\n",
    "# for data manipulation/visualization\n",
    "suppressMessages(library(tidyverse))\n",
    "\n",
    "# scaling data, calculating percentages, overriding default graphing\n",
    "suppressMessages(library(scales))\n",
    "\n",
    "# to better view images\n",
    "# For easier viewing of graphs\n",
    "# Adjust repr.plot.width and repr.plot.height to change the size of graphs\n",
    "theme_set(theme_gray(base_size = 24))\n",
    "options(repr.plot.width = 20, repr.plot.height = 12)\n",
    "options(warn=0)\n",
    "\n",
    "source('05_Presentation_Prep_checkpoints_hints_solutions.txt')\n",
    "\n",
    "# implementing option\n",
    "options(scipen = 100) "
   ]
  },
  {
   "cell_type": "code",
   "execution_count": null,
   "metadata": {},
   "outputs": [],
   "source": [
    "# Connect to the database\n",
    "con <- DBI::dbConnect(odbc::odbc(),\n",
    "                     Driver = \"SQL Server\",\n",
    "                     Server = \"msssql01.c7bdq4o2yhxo.us-gov-west-1.rds.amazonaws.com\",\n",
    "                     Trusted_Connection = \"True\")"
   ]
  },
  {
   "cell_type": "markdown",
   "metadata": {},
   "source": [
    "# Checkpoint 1: Pulling linked cohort-wage data\n",
    "\n",
    "\n",
    "You will start by combining your cohort of apprenticeship completers with UI Wage Records. We have provided 1 blank space to fill in with your cohort."
   ]
  },
  {
   "cell_type": "code",
   "execution_count": null,
   "metadata": {},
   "outputs": [],
   "source": [
    "qry <- \"\n",
    "SELECT C.race,\n",
    "F.Quarter_ID - P.Apprenticeship_End_Quarter_ID AS Quarters_Relative_to_Completion,\n",
    "P.Person_ID,\n",
    "F.Primary_Employer_Wages ,\n",
    "PE.Federal_EIN,\n",
    "C.apprnumber --pulling in for later\n",
    "FROM \n",
    "tr_ar_2022.dbo.___ C --COHORT\n",
    "JOIN tr_ar_2022.dbo.AR_MDIM_Person P ON (P.Apprentice_Number=C.apprnumber) --PERSON\n",
    "JOIN tr_ar_2022.dbo.AR_FACT_Quarterly_Observation F --QUARTERLY OBSERVATION FACT\n",
    "    ON (P.Person_ID=F.Person_ID) \n",
    "    AND (F.Quarter_ID BETWEEN (P.Apprenticeship_End_Quarter_ID + 1) AND (P.Apprenticeship_End_Quarter_ID+4))  --QTRS POST COMPLETION\n",
    "JOIN tr_ar_2022.dbo.AR_RDIM_NAICS_National_Industry NNI ON (P.Apprenticeship_NAICS_National_Industry_ID=NNI.NAICS_National_Industry_ID) --APPRENTICESHIP INDUSTRY\n",
    "JOIN tr_ar_2022.dbo.AR_MDIM_Employer PE ON (PE.Employer_ID=F.Primary_Employer_ID)  --PRIMARY EMPLOYER\n",
    "\"\n",
    "\n",
    "# create binary race variable\n",
    "cohort_wages <- dbGetQuery(con, qry) %>%\n",
    "    mutate(binary_race = ifelse(race != \"White\" | is.na(race), \"Non-White\", \"White\"))\n",
    "    \n",
    "head(cohort_wages)"
   ]
  },
  {
   "cell_type": "code",
   "execution_count": null,
   "metadata": {},
   "outputs": [],
   "source": [
    "# hint\n",
    "# check_1.hint()"
   ]
  },
  {
   "cell_type": "code",
   "execution_count": null,
   "metadata": {},
   "outputs": [],
   "source": [
    "# solution\n",
    "# check_1.solution()"
   ]
  },
  {
   "cell_type": "markdown",
   "metadata": {},
   "source": [
    "## Create a wage indicator\n",
    "\n",
    "Recall that we hope to visualize an employment outcome for our cohort by the aggregated race variable, **binary_race**. The employment outcome we will use in this example is a binary indicator tracking if an individual at their primary employer in a given quarter earned more than $5720 (minimum wage in Arkansas in 2022).\n",
    "\n",
    "We will walk through this example looking at how this outcome differs amongst White and Non-White individuals.\n",
    "\n",
    "> Note: As with the other checkpoint notebooks, we recommend working through this example and then coming back and changing the constructed categorical variable to a more relevant one for your project. Additionally, note that the wage records have not been inflation adjusted and do not longitudinally track minimum wage in the state, so this is a rough estimate."
   ]
  },
  {
   "cell_type": "code",
   "execution_count": null,
   "metadata": {},
   "outputs": [],
   "source": [
    "cohort_wages <- cohort_wages %>% \n",
    "    mutate(\n",
    "        wage_ind = ifelse(Primary_Employer_Wages >= 5721, \"Above Minimum Wage\", \"At or Below Minimum Wage\")\n",
    "    )"
   ]
  },
  {
   "cell_type": "markdown",
   "metadata": {},
   "source": [
    "# Checkpoint 2: Calculate Rounded Portion and Counts\n",
    "Now that you have your employment outcome indicator, you will calculate the portion of your cohort meeting this employment outcome by the binary race and quarter variables using all of the appropriate rounding rules. You will also count the number of employers because you need to verify that there are a minimum of 3 employers for each group for the supporting table. Remember that the goal of this checkpoint is to help reinforce the export rules. You will be updating the blanks to:\n",
    "\n",
    "- Round the count of individuals \n",
    "- Round the population count\n",
    "- Round percentages\n",
    "\n",
    "> Note: When rounding counts, you will have to identify the condition for which the different rounding rules apply and the appropriate level of rounding that needs to be applied."
   ]
  },
  {
   "cell_type": "code",
   "execution_count": null,
   "metadata": {},
   "outputs": [],
   "source": [
    "cohort_wages_checkpoint_2 <- cohort_wages %>%\n",
    "    group_by(Quarters_Relative_to_Completion, binary_race) %>%  \n",
    "    mutate(pop = n_distinct(Person_ID)) %>%\n",
    "    ungroup() %>%\n",
    "    group_by(Quarters_Relative_to_Completion, wage_ind, binary_race) %>%\n",
    "    summarise(employer_count = n_distinct(Federal_EIN),\n",
    "              count = n_distinct(Person_ID),\n",
    "               count_round = ifelse(count < ___, round(count, digits = ___), \n",
    "                                   round(count, digits = -2)),\n",
    "              pop = unique(pop),\n",
    "              pop_round = ifelse(pop < ___, round(pop, digits = ___), \n",
    "                round(pop, digits = ___)),\n",
    "             percentage = 100*(count_round/pop_round),\n",
    "             percentage_round = round(percentage, digits = ___))\n",
    "\n",
    "cohort_wages_checkpoint_2"
   ]
  },
  {
   "cell_type": "code",
   "execution_count": null,
   "metadata": {},
   "outputs": [],
   "source": [
    "# hint\n",
    "# check_2.hint()"
   ]
  },
  {
   "cell_type": "code",
   "execution_count": null,
   "metadata": {},
   "outputs": [],
   "source": [
    "# solution\n",
    "# check_2.solution()"
   ]
  },
  {
   "cell_type": "markdown",
   "metadata": {},
   "source": [
    "# Checkpoint 3: Bar plot\n",
    "\n",
    "In this checkpoint, we ask you to create a bar plot that: \n",
    "\n",
    "- Depicts the percentage of each subgroup that meets the previously-established employment outcome on the y-axis\n",
    "- Depicts the quarter relative to graduation on the x-axis\n",
    "- Compares the group of individuals who have a high or low wage \n",
    "\n",
    "Working through this checkpoint will reinforce the overall general structure of `ggplot()` and the ease of customizing your visual."
   ]
  },
  {
   "cell_type": "code",
   "execution_count": null,
   "metadata": {},
   "outputs": [],
   "source": [
    "# color palette\n",
    "fill_color <- c('Non-White' = '#009E73', 'White' = '#0072B2')"
   ]
  },
  {
   "cell_type": "code",
   "execution_count": null,
   "metadata": {},
   "outputs": [],
   "source": [
    "Figure_checkpoint_3 <- cohort_wages_checkpoint_2 %>%\n",
    "    ggplot(aes(x = ___, \n",
    "               y = ___, \n",
    "               fill = ___)) +\n",
    "    geom_bar(stat=\"identity\", position='dodge') +\n",
    "    facet_grid(. ~ fct_relevel(____, 'Above Minimum Wage', 'At or Below Minimum Wage')) +\n",
    "    expand_limits(y = 0) +\n",
    "    labs(colour = \"___\") + # Chance the title for the legend\n",
    "    scale_fill_manual('Race Category', values = fill_color) +\n",
    "    labs(\n",
    "        # Labelling x axis\n",
    "        x = '___', \n",
    "        # Labelling y axis\n",
    "        y = '___', \n",
    "        # Add a title that conveys the main takeaway of the graph\n",
    "        title = '___', \n",
    "        # cite the source of your data\n",
    "        caption = '___'\n",
    "        )"
   ]
  },
  {
   "cell_type": "code",
   "execution_count": null,
   "metadata": {},
   "outputs": [],
   "source": [
    "Figure_checkpoint_3 <- Figure_checkpoint_3 +\n",
    "   theme(\n",
    "        legend.text = element_text(size = 24), # legend text font size\n",
    "        legend.title = element_text(size = 24), # legend title font size\n",
    "        axis.text.x = element_text(size = 24), # x axis label font size\n",
    "        axis.title.x = element_text(size = 24), # x axis title font size\n",
    "        axis.text.y = element_text(size = 24), # y axis label font size\n",
    "        axis.title.y = element_text(size = 24) # y axis title font size\n",
    "    )\n",
    "\n",
    "\n",
    "Figure_checkpoint_3"
   ]
  },
  {
   "cell_type": "code",
   "execution_count": null,
   "metadata": {},
   "outputs": [],
   "source": [
    "# hint\n",
    "# check_3.hint()"
   ]
  },
  {
   "cell_type": "code",
   "execution_count": null,
   "metadata": {},
   "outputs": [],
   "source": [
    "# solution\n",
    "# check_3.solution()"
   ]
  },
  {
   "cell_type": "markdown",
   "metadata": {},
   "source": [
    "# References\n",
    "- Presentation Prep: Advanced Checkpoints, Applied Data Analytics Training, TANF Data Collabarative, 2022\n",
    "- Presentation Prep: Beginner Checkpoints, Applied Data Analytics Training, TANF Data Collabarative, 2022\n",
    "- Presentation Prep, Applied Data Analytics Training, Arkansas WBL, 2022"
   ]
  }
 ],
 "metadata": {
  "kernelspec": {
   "display_name": "R",
   "language": "R",
   "name": "ir"
  },
  "language_info": {
   "codemirror_mode": "r",
   "file_extension": ".r",
   "mimetype": "text/x-r-source",
   "name": "R",
   "pygments_lexer": "r",
   "version": "4.0.3"
  },
  "toc": {
   "nav_menu": {},
   "number_sections": false,
   "sideBar": true,
   "skip_h1_title": false,
   "toc_cell": false,
   "toc_position": {},
   "toc_section_display": "block",
   "toc_window_display": false
  }
 },
 "nbformat": 4,
 "nbformat_minor": 4
}
