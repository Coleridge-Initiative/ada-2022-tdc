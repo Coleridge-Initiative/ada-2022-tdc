{
 "cells": [
  {
   "cell_type": "markdown",
   "metadata": {},
   "source": [
    "<center><br><br>\n",
    "    TANF Data Collaborative <br>\n",
    "    Applied Data Analytics Training | Spring 2022\n",
    "    <h1> Checkpoint Notebook: TANF Enterers</h1>\n",
    "    <span style=\"font-size: 1.5em;\">\n",
    "        <a href='https://www.coleridgeinitiative.org'>Coleridge Initiative</a>\n",
    "    </span>\n",
    "    <center>Maryah Garner and Rukhshan Arif Mian</center>\n",
    "    <a href=\"https://doi.org/10.5281/zenodo.7459799\"><img src=\"https://zenodo.org/badge/DOI/10.5281/zenodo.7459799.svg\" alt=\"DOI\"></a>\n",
    "\n",
    "\n",
    "</center>\n",
    "\n",
    "***Please work on this checkpoints notebook if you used TANF enterers (**tanf_start = 1**) to define your cohort in*** `02_Creating_a_cohort.ipynb`."
   ]
  },
  {
   "cell_type": "markdown",
   "metadata": {},
   "source": [
    "This notebook serves as an overview of what was discussed in `Linkage_and_Longitudinal_Analysis.ipynb` through **5 checkpoints**. \n",
    "\n",
    "At each checkpoint you will be replacing the `___` with the appropriate variable, function or R code snippet. \n",
    "\n",
    "Participants are encouraged to attempt the checkpoints on their own. Having said that, hints and suggested solutions are provided and these can be accessed by utilizing the following code:\n",
    "\n",
    "Hints: `check_#.hint()`\n",
    "\n",
    "Solutions: `check_#.solution()` – your solutions may vary based on how you define your cohort and the name of your cohort table. We have shared our suggested solutions.\n",
    "\n",
    "In both cases, # refers to the checkpoint number. For example: we can access the hint and solution for Checkpoint 2 using: `check_2.hint()` and `check_2.solution` respectively. Note: Codes for accessing hints and solutions are currently commented out – in order for these to run, we would need to uncomment them first. \n",
    "\n",
    "**The purpose of this notebook and all other checkpoint notebooks is to get you to practice making changes to the code that will help construct your own research project. We have given hints and solutions but these are more applicable to a generic research project. You are encouraged to think about how these checkpoints, hints/solutions may help formulate and address your research question.**"
   ]
  },
  {
   "cell_type": "code",
   "execution_count": null,
   "metadata": {},
   "outputs": [],
   "source": [
    "# Switching off warnings\n",
    "options(warn = -1)\n",
    "\n",
    "# Database interaction imports\n",
    "suppressMessages(library(odbc))\n",
    "\n",
    "# for data manipulation/visualization\n",
    "suppressMessages(library(tidyverse))\n",
    "\n",
    "# scaling data, calculating percentages, overriding default graphing\n",
    "suppressMessages(library(scales))\n",
    "\n",
    "#Switching on warnings\n",
    "options(warn = 0)\n",
    "\n",
    "source(\"03_Linkage_and_Longitudinal_Analysis_hints_solutions_Enterers.txt\") # defining hints + solutions"
   ]
  },
  {
   "cell_type": "code",
   "execution_count": null,
   "metadata": {},
   "outputs": [],
   "source": [
    "# Connect to the database\n",
    "con <- DBI::dbConnect(odbc::odbc(),\n",
    "                     Driver = \"SQL Server\",\n",
    "                     Server = \"msssql01.c7bdq4o2yhxo.us-gov-west-1.rds.amazonaws.com\",\n",
    "                     Trusted_Connection = \"True\")"
   ]
  },
  {
   "cell_type": "markdown",
   "metadata": {},
   "source": [
    "<font color='red'>\n",
    "Within `03_Linkage_and_Longitudinal_Analysis.ipynb`, we focused on looking at employment outcomes for TANF recipients who exited during the second quarter of 2018. This checkpoint takes a slightly different approach. Here, we aim to look at TANF experience and certain factors leading up to it. \n",
    "\n",
    "If you selected **tanf_start == 1** in `02_Creating_a_cohort.ipynb`, we encourage you to go through this notebook to understand how you can perform descriptive statistics to understand a recipient's TANF experience. \n",
    "</font> "
   ]
  },
  {
   "cell_type": "markdown",
   "metadata": {},
   "source": [
    "Through this checkpoints notebook you will work on:\n",
    "1. Reading in all instances of when a recipient starts TANF (accounting for multiple spells)\n",
    "2. Creating variables that indicate if a TANF recipient has multiple spells on TANF\n",
    "3. Linking to wage records to create a linked-cohort\n",
    "4. Counting the number of quarters employed in the 1 year (last 4 quarters) leading upto the TANF start date"
   ]
  },
  {
   "cell_type": "markdown",
   "metadata": {},
   "source": [
    "## Checkpoint 1: Reading Cohort\n",
    "\n",
    "To start off, we will combine the enterer cohort that you created in **02_Creating_a_cohort_checkpoints.ipynb** with the complete TANF cohort (**person_month_clean**). For your research project, you may be interested in having a dataframe that contains all TANF spells for an individual.\n",
    "\n",
    "We ask you to make the following changes:\n",
    "1. Fill in the first blank with the name of your cohort of TANF starters that you created in `02_Creating_a_cohort_checkpoints.ipynb`\n",
    "2. Fill in the second blank to keep the year-quarter combination (format: 'YYYY Q#') that you used to create your cohort in `02_Creating_a_cohort_checkpoints.ipynb` :"
   ]
  },
  {
   "cell_type": "code",
   "execution_count": null,
   "metadata": {},
   "outputs": [],
   "source": [
    "qry <- \"SELECT pmc.*\n",
    "FROM tr_tdc_2022.dbo.____ cts\n",
    "JOIN tr_tdc_2022.dbo.person_month_clean pmc\n",
    "ON cts.ssn = pmc.ssn\n",
    "WHERE yr_quarter <= '____' AND pmc.tanf_start = 1\"\n",
    "\n",
    "cohort <- dbGetQuery(con, qry)"
   ]
  },
  {
   "cell_type": "code",
   "execution_count": null,
   "metadata": {},
   "outputs": [],
   "source": [
    "# hint\n",
    "check_1.hint()"
   ]
  },
  {
   "cell_type": "code",
   "execution_count": null,
   "metadata": {},
   "outputs": [],
   "source": [
    "# solution\n",
    "check_1.solution()"
   ]
  },
  {
   "cell_type": "markdown",
   "metadata": {},
   "source": [
    "## Checkpoint 2: Number of Spells\n",
    "\n",
    "One way to understand TANF experience is to check if a recipient has previously availed TANF. For your research project, you may be interested in looking at recipients who have no previous spells or some previous spells. You may also be interested in comparing TANF experiences for first time recipients with recipients who have appeared in TANF before. \n",
    "\n",
    "This checkpoint focuses on creating an indicator that allows us to see if a recipient has been on TANF before. For this purpose, we would want to group by an individual and count the number of times they appear in our joined cohort. If this value is 1, this means this is a recipient's first spell. However, if their value is > 1, this means that they have availed TANF before. \n",
    "\n",
    "Fill in the blank below to group by a recipient. Think about what variable we can use that can help us group by an individual. "
   ]
  },
  {
   "cell_type": "code",
   "execution_count": null,
   "metadata": {},
   "outputs": [],
   "source": [
    "cohort_spells <- cohort %>% \n",
    "    # fill in the blank below\n",
    "    group_by(___) %>% \n",
    "    summarise(count_spells = n()) %>%\n",
    "    mutate(in_tanf_before = ifelse(count_spells > 1, 'Yes', 'No'))"
   ]
  },
  {
   "cell_type": "markdown",
   "metadata": {},
   "source": [
    "Next, we look at the count and proportion of TANF recipients who previous TANF spells. "
   ]
  },
  {
   "cell_type": "code",
   "execution_count": null,
   "metadata": {},
   "outputs": [],
   "source": [
    "# getting the count and proportion for each category within in_tanf_before\n",
    "# no updates required\n",
    "cohort_spells %>% \n",
    "    group_by(in_tanf_before) %>% \n",
    "    summarise(count = n()) %>%\n",
    "    mutate(prop = count/sum(count))"
   ]
  },
  {
   "cell_type": "code",
   "execution_count": null,
   "metadata": {},
   "outputs": [],
   "source": [
    "# hint\n",
    "check_2.hint()"
   ]
  },
  {
   "cell_type": "code",
   "execution_count": null,
   "metadata": {},
   "outputs": [],
   "source": [
    "# solution\n",
    "check_2.solution()"
   ]
  },
  {
   "cell_type": "markdown",
   "metadata": {},
   "source": [
    "## Checkpoint 3: Number of months in previous spells\n",
    "\n",
    "To build on the previous checkpoint, we ask you to to group by the variable indicating if a recipient has multiple spells in TANF and calculate the average and median number of months (across all spells). \n",
    "\n",
    "Fill in the blank below to group by the variable that indicates if someone has multiple spells in TANF. "
   ]
  },
  {
   "cell_type": "code",
   "execution_count": null,
   "metadata": {},
   "outputs": [],
   "source": [
    "cohort_spells %>% \n",
    "    # joining with the cohort\n",
    "    inner_join(cohort, by='ssn') %>% \n",
    "    # sorting by ssn and yr_month in descending order to keep latest value\n",
    "    arrange(ssn, desc(yr_month)) %>%\n",
    "    # dropping duplicates\n",
    "    distinct(ssn, .keep_all=T) %>%\n",
    "    # fill in the blank below with the variable that tells us if a respondent has multiple tanf spells\n",
    "    group_by(___) %>%\n",
    "    # counting the number of individuals in each category, calculating the mean and median for total_tanf_months\n",
    "    summarise(count_individuals = n(), \n",
    "              average_months = mean(tanf_total_months), \n",
    "              median_months = median(tanf_total_months))"
   ]
  },
  {
   "cell_type": "code",
   "execution_count": null,
   "metadata": {},
   "outputs": [],
   "source": [
    "# hint\n",
    "check_3.hint()"
   ]
  },
  {
   "cell_type": "code",
   "execution_count": null,
   "metadata": {},
   "outputs": [],
   "source": [
    "# solution\n",
    "check_3.solution()"
   ]
  },
  {
   "cell_type": "markdown",
   "metadata": {},
   "source": [
    "## Linking cohort to wage records: For first time TANF recipients\n",
    "\n",
    "In the Exiters notebook, we are focusing on analyzing the post-TANF outcomes of adult individuals (age > 18). Since you are looking at Enterers, you may be interested in focusing on a TANF family as opposed to an individual. The next 2 checkpoints look at factors leading up to TANF entry for a TANF case (family) as opposed to a single recipient.\n",
    "\n",
    "One such factor could be their employment in the past year and we can understand this by utilizing Indiana's wage records. To start off, we keep recipients who appeared in TANF for the first time on the start date (quarter) of your choice (defined in Checkpoint 1 and in `02_Creating_a_cohort_checkpoints.ipynb`). For the next set of checkpoints, we consider cases where **in_tanf_before == No** – as we are only interested in looking at first time TANF recipients. \n",
    "\n",
    "> Note: Since we are hoping to look at a TANF family as opposed to an individual, we will end up utilizing **caseid** as opposed to **ssn**. However, we do this in Checkpoint 5 – once we have brought in the wage data."
   ]
  },
  {
   "cell_type": "code",
   "execution_count": null,
   "metadata": {},
   "outputs": [],
   "source": [
    "# no update required\n",
    "first_time_tanf <- cohort_spells %>% \n",
    "    filter(in_tanf_before == \"No\") %>% \n",
    "    inner_join(cohort, by=\"ssn\") %>% \n",
    "    arrange(ssn, desc(yr_month)) %>%\n",
    "    distinct(ssn, .keep_all=T) %>%\n",
    "    select(ssn)"
   ]
  },
  {
   "cell_type": "markdown",
   "metadata": {},
   "source": [
    "## Checkpoint 4: Linking cohort to wage records\n",
    "\n",
    "Next, we ask you to update the code below based on the year-quarter (format: 'YYYY Q#'. Example: '2017 Q2') of your choice (note: this has to be in line with what you chose when creating your cohort in `02_Creating_a_cohort_checkpoints.ipynb`).\n",
    "\n",
    "We ask you to look at employment uptil **one year** before a recipient entered TANF. That is, if someone entered TANF in the second quarter of 2017 (**yr_quarter = '2017 Q2'**), we would want to keep wage records between (but not inclusive of) **yr_quarter = '2016 Q1'** and **yr_quarter = '2017 Q2'** (note: your choice of years might be different).\n",
    "\n",
    "For your research project, you may be interested in looking at wages or employment that spans more than (or less than) 4 pre-TANF quarters. This is one example of looking at circumstances leading upto TANF entry. \n",
    "\n",
    "We ask you to make the following changes:\n",
    "1. Update the first blank with the name of your cohort (this is the same as the first blank from Checkpoint 1).\n",
    "2. Update line 6 with the range of quarters of your choice. You may choose as many or as few quarters as you like.\n",
    "3. Update the last blank with the name of your cohort (same as Checkpoint 1 and first blank in this checkpoint)."
   ]
  },
  {
   "cell_type": "code",
   "execution_count": null,
   "metadata": {},
   "outputs": [],
   "source": [
    "qry <- \"SELECT nb.*, wr.Empr_no, wr.Wage, wr.yr_quarter\n",
    "    FROM (tr_tdc_2022.dbo.____ nb\n",
    "    LEFT JOIN \n",
    "    (SELECT SSN, Empr_no, yr_quarter, Wage \n",
    "    FROM tr_tdc_2022.dbo.wages_tanf\n",
    "    WHERE yr_quarter IN ('___', '___','___', '___')\n",
    "    AND (SSN IN (SELECT DISTINCT SSN FROM tr_tdc_2022.dbo.____))) wr\n",
    "    ON wr.SSN=nb.SSN)\"\n",
    "\n",
    "cohort_wages <- dbGetQuery(con, qry)\n"
   ]
  },
  {
   "cell_type": "code",
   "execution_count": null,
   "metadata": {},
   "outputs": [],
   "source": [
    "# joining with the first_time_tanf dataframe to only keep wages for first_time_tanf_recipients\n",
    "# no update required\n",
    "cohort_wages_first_tanf <- cohort_wages %>% \n",
    "    right_join(first_time_tanf, by='ssn')"
   ]
  },
  {
   "cell_type": "code",
   "execution_count": null,
   "metadata": {},
   "outputs": [],
   "source": [
    "# hint\n",
    "check_4.hint()"
   ]
  },
  {
   "cell_type": "code",
   "execution_count": null,
   "metadata": {},
   "outputs": [],
   "source": [
    "# solution\n",
    "check_4.solution()"
   ]
  },
  {
   "cell_type": "markdown",
   "metadata": {},
   "source": [
    "## Checkpoint 5: Number of Quarters employed Pre-TANF\n",
    "Next, we ask you to fill in the blank below to get the total wages by each **caseid** in each quarter. We use **caseid** here because our goal is to look at the pre-TANF employment for a TANF family as opposed to a recipient. As a reminder, missing wages for a **caseid** in a given quarter implies no employment for anyone within the family receiving TANF. \n",
    "\n",
    "Fill in the blank below with the variable associated with wages. "
   ]
  },
  {
   "cell_type": "code",
   "execution_count": null,
   "metadata": {},
   "outputs": [],
   "source": [
    "tot_wages <- cohort_wages_first_tanf %>% \n",
    "    group_by(caseid, yr_quarter) %>% \n",
    "    # fill in the blank below with the variable associated with wages\n",
    "    summarise(totalwages=sum(___))"
   ]
  },
  {
   "cell_type": "code",
   "execution_count": null,
   "metadata": {},
   "outputs": [],
   "source": [
    "# number of quarters employed pre-TANF\n",
    "tot_q_emp <- tot_wages %>% \n",
    "    group_by(caseid) %>%\n",
    "    summarise(quarters_employed = sum(!is.na(totalwages)))\n",
    "\n",
    "# number of quarters employed across TANF families in the year (4 quarters) leading upto TANF entry\n",
    "tot_q_emp %>%\n",
    "    group_by(quarters_employed) %>%\n",
    "    summarise(count_cases=n())"
   ]
  },
  {
   "cell_type": "code",
   "execution_count": null,
   "metadata": {},
   "outputs": [],
   "source": [
    "# hint\n",
    "check_5.hint()"
   ]
  },
  {
   "cell_type": "code",
   "execution_count": null,
   "metadata": {},
   "outputs": [],
   "source": [
    "check_5.solution()"
   ]
  },
  {
   "cell_type": "code",
   "execution_count": null,
   "metadata": {},
   "outputs": [],
   "source": []
  }
 ],
 "metadata": {
  "kernelspec": {
   "display_name": "R",
   "language": "R",
   "name": "ir"
  },
  "language_info": {
   "codemirror_mode": "r",
   "file_extension": ".r",
   "mimetype": "text/x-r-source",
   "name": "R",
   "pygments_lexer": "r",
   "version": "3.6.3"
  }
 },
 "nbformat": 4,
 "nbformat_minor": 4
}
