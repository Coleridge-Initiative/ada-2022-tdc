{
 "cells": [
  {
   "cell_type": "markdown",
   "metadata": {},
   "source": [
    "<center><br><br>\n",
    "    Arkansas Work-Based Learning to Workforce Outcomes <br>\n",
    "    Applied Data Analytics Training | Spring 2022\n",
    "    <h1> Characterizing Demand: Descriptive Analysis Checkpoints </h1>\n",
    "    <span style=\"font-size: 1.5em;\">\n",
    "        <a href='https://www.coleridgeinitiative.org'>Coleridge Initiative</a>\n",
    "    </span>\n",
    "    <center> Joshua Edelmann, Rukhshan Arif Mian, Benjamin Feder</center>\n",
    "</center>\n",
    "\n",
    "***"
   ]
  },
  {
   "cell_type": "markdown",
   "metadata": {},
   "source": [
    "## Introduction\n",
    "\n",
    "The purpose of this checkpoint notebook is to apply the methods we used in `04_Characterizing_Demand_Beginner.ipynb` to your cohort by utilizing a measure of your choice. \n",
    "\n",
    "In the checkpoint notebooks for `02_Creating_a_cohort.ipynb`, we asked you to create and save your cohort as an SQL table. You will be utilizing the cohort you created as part of this checkpoint notebook. \n",
    "\n",
    "At each checkpoint, you will be replacing the `___` with the appropriate variable, function or R code snippet. \n",
    "\n",
    "You are encouraged to attempt the checkpoints on your own. Having said that, hints and suggested solutions are provided and these can be accessed by utilizing the following code:\n",
    "\n",
    "Hints: `check_#.hint()`\n",
    "\n",
    "Solutions: `check_#.solution()` – your solutions may vary based on how you define your cohort. We have shared our suggested solutions.\n",
    "\n",
    "In both cases, # refers to the checkpoint number. For example: we can access the hint and solution for Checkpoint 2 using: `check_2.hint()` and `check_2.solution()`, respectively. \n",
    "\n",
    "> Note: This checkpoint notebook has been created by keeping a cohort of apprenticeship graduates in mind. We encourage you to reach out to your team facilitator to learn more about the methods you can use to characterize demand if your cohort is defined differently, such as by apprenticeship starters. Also, the code for accessing hints and solutions is currently commented out – in order for the cells to run, you will need to uncomment them first. "
   ]
  },
  {
   "cell_type": "markdown",
   "metadata": {},
   "source": [
    "## Workspace Set Up"
   ]
  },
  {
   "cell_type": "code",
   "execution_count": null,
   "metadata": {},
   "outputs": [],
   "source": [
    "# Switching off warnings\n",
    "options(warn = -1)\n",
    "\n",
    "# Database interaction imports\n",
    "suppressMessages(library(odbc))\n",
    "\n",
    "# data manipulation/visualization\n",
    "suppressMessages(library(tidyverse))\n",
    "\n",
    "# scaling data, calculating percentages, overriding default graphing\n",
    "suppressMessages(library(scales))\n",
    "\n",
    "# for as.yearqtr()\n",
    "suppressMessages(library(zoo))\n",
    "\n",
    "#Switching on warnings\n",
    "options(warn = 0)\n",
    "\n",
    "source('04_Characterizing_Demand_Beginner_checkpoints_hints_solutions.txt')"
   ]
  },
  {
   "cell_type": "code",
   "execution_count": null,
   "metadata": {},
   "outputs": [],
   "source": [
    "# Connect to the database\n",
    "con <- DBI::dbConnect(odbc::odbc(),\n",
    "                     Driver = \"SQL Server\",\n",
    "                     Server = \"msssql01.c7bdq4o2yhxo.us-gov-west-1.rds.amazonaws.com\",\n",
    "                     Trusted_Connection = \"True\")"
   ]
  },
  {
   "cell_type": "markdown",
   "metadata": {},
   "source": [
    "## Reading in Data"
   ]
  },
  {
   "cell_type": "code",
   "execution_count": null,
   "metadata": {},
   "outputs": [],
   "source": [
    "# read in employer measures table\n",
    "qry <- \"\n",
    "SELECT * \n",
    "FROM tr_ar_2022.dbo.employer_yearly_agg\n",
    "\"\n",
    "\n",
    "employer_measures <- dbGetQuery(con, qry)\n",
    "\n",
    "head(employer_measures)"
   ]
  },
  {
   "cell_type": "markdown",
   "metadata": {},
   "source": [
    "We will create one additional measure to calculate the ratio of employees that are fully employed relative to the total amount employed."
   ]
  },
  {
   "cell_type": "code",
   "execution_count": null,
   "metadata": {},
   "outputs": [],
   "source": [
    "# create new measure\n",
    "employer_measures <- employer_measures %>% \n",
    "    mutate(ratio_full_total = avg_full_num_employed/avg_num_employed)"
   ]
  },
  {
   "cell_type": "markdown",
   "metadata": {},
   "source": [
    "## Checkpoint 1\n",
    "\n",
    "For this checkpoint, we ask you to pull in data from the cohort you created in `02_Creating_a_cohort_checkpoints.ipynb` notebook or the cohort you have created for your research project. We ask you to update 2 blanks, the first one with the name of your cohort and the second with your year of interest.\n",
    "\n",
    "If your cohort contains individuals from multiple years, we ask that you only focus on one year's worth of data for this notebook."
   ]
  },
  {
   "cell_type": "markdown",
   "metadata": {},
   "source": [
    "### Linked Cohort-Wages data (first year after completion)"
   ]
  },
  {
   "cell_type": "code",
   "execution_count": null,
   "metadata": {},
   "outputs": [],
   "source": [
    "# using dimensional model to get primary employer information\n",
    "qry <- \"\n",
    "SELECT\n",
    "F.Quarter_ID - P.Apprenticeship_End_Quarter_ID AS Quarters_Relative_to_Completion,\n",
    "P.Person_ID,\n",
    "F.Primary_Employer_Wages ,\n",
    "PE.Federal_EIN\n",
    "FROM \n",
    "tr_ar_2022.dbo.___ C --COHORT\n",
    "JOIN tr_ar_2022.dbo.AR_MDIM_Person P ON (P.Apprentice_Number=C.apprnumber) --PERSON\n",
    "JOIN tr_ar_2022.dbo.AR_FACT_Quarterly_Observation F --QUARTERLY OBSERVATION FACT\n",
    "\tON (P.Person_ID=F.Person_ID) \n",
    "\tAND (F.Quarter_ID BETWEEN (P.Apprenticeship_End_Quarter_ID) AND (P.Apprenticeship_End_Quarter_ID+4))  --QTRS POST COMPLETION\n",
    "JOIN tr_ar_2022.dbo.AR_RDIM_NAICS_National_Industry NNI ON (P.Apprenticeship_NAICS_National_Industry_ID=NNI.NAICS_National_Industry_ID) --APPRENTICESHIP INDUSTRY\n",
    "JOIN tr_ar_2022.dbo.AR_MDIM_Employer PE ON (PE.Employer_ID=F.Primary_Employer_ID)  --PRIMARY EMPLOYER\n",
    "WHERE P.Apprenticeship_Completer='Y' and YEAR(C.exitwagedt) = ___ --RESTRICT COHORT YEAR\n",
    "\"\n",
    "\n",
    "cohort_wages_empr <- dbGetQuery(con, qry)\n",
    "\n",
    "head(cohort_wages_empr)"
   ]
  },
  {
   "cell_type": "code",
   "execution_count": null,
   "metadata": {},
   "outputs": [],
   "source": [
    "# hint\n",
    "# check_1.hint()"
   ]
  },
  {
   "cell_type": "code",
   "execution_count": null,
   "metadata": {},
   "outputs": [],
   "source": [
    "# solution\n",
    "# check_1.solution()"
   ]
  },
  {
   "cell_type": "markdown",
   "metadata": {},
   "source": [
    "Count the unique number of individuals from our cohort who were employed along with the unique number of employers by whom they were primarily employed at the time of completion."
   ]
  },
  {
   "cell_type": "code",
   "execution_count": null,
   "metadata": {},
   "outputs": [],
   "source": [
    "# save data frame of employment info at time of completion\n",
    "cohort_wages_empr_comp <- cohort_wages_empr %>% \n",
    "    filter(Quarters_Relative_to_Completion == 0)\n",
    "\n",
    "# see summary stats\n",
    "cohort_wages_empr_comp %>% \n",
    "    summarize(unique_indiv = n_distinct(Person_ID),\n",
    "              unique_empr = n_distinct(Federal_EIN))"
   ]
  },
  {
   "cell_type": "markdown",
   "metadata": {},
   "source": [
    "## Checkpoint 2: Selecting Employer Measure\n",
    "\n",
    "Now, you will select an employer measure with which you will identify groups of employers and then identify how those groups correspond with an employment outcome of interest. Please select one employer measure from the following list:\n",
    "\n",
    "**Firm characteristics**:\n",
    "\n",
    "- Total Payroll\n",
    "- Average earnings per employee \n",
    "- Average full quarter earnings per employee\n",
    "- Earnings per employee at 25th percentile\n",
    "- Earnings per employee at 75th percentile\n",
    "- Total full quarter employment\n",
    "- Total employment\n",
    "\n",
    "**Opportunity**:\n",
    "\n",
    "- Number of new hires\n",
    "- Employment growth rate\n",
    "- Hiring growth rate\n",
    "\n",
    "**Stability**:\n",
    "- Separation growth rate (this is calculated using the same formula as above)\n",
    "- Number of new hires who become full quarter employees (hired in t-1 whom we see in t+1)\n",
    "- Ratio of full quarter employees to total number of employees "
   ]
  },
  {
   "cell_type": "code",
   "execution_count": null,
   "metadata": {},
   "outputs": [],
   "source": [
    "employer_measures <- employer_measures %>%\n",
    "    mutate(measure = _____)"
   ]
  },
  {
   "cell_type": "code",
   "execution_count": null,
   "metadata": {},
   "outputs": [],
   "source": [
    "# hint\n",
    "# check_2.hint()"
   ]
  },
  {
   "cell_type": "code",
   "execution_count": null,
   "metadata": {},
   "outputs": [],
   "source": [
    "# solution\n",
    "# check_2.solution()"
   ]
  },
  {
   "cell_type": "markdown",
   "metadata": {},
   "source": [
    "## Checkpoint 3: Filtering employer measures for a specific year\n",
    "\n",
    "In this checkpoint, we ask you to fill in the blank below with the year for which you want to keep the employer measures for. We recommend the year prior to your cohort selection, as this will ideally be the most recent information they can use prior to (assuming a cohort defined by completion) completing their apprenticeship."
   ]
  },
  {
   "cell_type": "code",
   "execution_count": null,
   "metadata": {},
   "outputs": [],
   "source": [
    "select_year = ____"
   ]
  },
  {
   "cell_type": "code",
   "execution_count": null,
   "metadata": {},
   "outputs": [],
   "source": [
    "# hint\n",
    "# check_3.hint()"
   ]
  },
  {
   "cell_type": "code",
   "execution_count": null,
   "metadata": {},
   "outputs": [],
   "source": [
    "# solution\n",
    "# check_3.solution()"
   ]
  },
  {
   "cell_type": "code",
   "execution_count": null,
   "metadata": {},
   "outputs": [],
   "source": [
    "employer_measures_cohort <- employer_measures %>%\n",
    "    # filtering on employer number and year\n",
    "    filter(federal_ein %in% cohort_wages_empr_comp$Federal_EIN, \n",
    "           year == select_year)"
   ]
  },
  {
   "cell_type": "code",
   "execution_count": null,
   "metadata": {},
   "outputs": [],
   "source": [
    "# Count the number of unique employers in this new data frame\n",
    "employer_measures_cohort %>% \n",
    "    summarize(unique_emp = n_distinct(federal_ein))"
   ]
  },
  {
   "cell_type": "markdown",
   "metadata": {},
   "source": [
    "## Extended Analysis\n",
    "\n",
    "The rest of this notebook directly follows the code in `04_Characterizing_Demand_Beginner.ipynb`. Feel free to run through it - there will not be any more checkpoints in this notebook past this point."
   ]
  },
  {
   "cell_type": "code",
   "execution_count": null,
   "metadata": {},
   "outputs": [],
   "source": [
    "# getting the mean, median, standard deviation, min and max values for your measure of interest\n",
    "employer_measures_cohort %>%\n",
    "    summarize(mean_emp = mean(measure), \n",
    "             median_emp = median(measure), \n",
    "             sd_emp = sd(measure), \n",
    "             min_emp = min(measure), \n",
    "             max_emp = max(measure))"
   ]
  },
  {
   "cell_type": "markdown",
   "metadata": {},
   "source": [
    "Next, you will construct the summary statistics for all employers who did not primarily employ individuals from your cohort you can compare the statistics to those you created for employers who primarily employed individuals from your cohort. "
   ]
  },
  {
   "cell_type": "code",
   "execution_count": null,
   "metadata": {},
   "outputs": [],
   "source": [
    "employer_measures %>%\n",
    "    filter(!federal_ein %in% cohort_wages_empr$Federal_Ein, year == select_year) %>%\n",
    "      summarize(\n",
    "          mean_emp = mean(measure), \n",
    "          median_emp = median(measure), \n",
    "          sd_emp = sd(measure), \n",
    "          min_emp = min(measure), \n",
    "          max_emp = max(measure)\n",
    "      ) "
   ]
  },
  {
   "cell_type": "markdown",
   "metadata": {},
   "source": [
    "Now, you will identify categories for High, Medium and Low based on your measure of interest. These are defined as follows:\n",
    "\n",
    "- High: >= 75th percentile of `measure`\n",
    "- Medium: > 25th percentile and < 75th percentile of `measure`\n",
    "- Low: <= 25th percentile of `measure`\n",
    "\n",
    "Use R's `quantile` function to get the 25th and 75th percentiles for `measure` and assign these to `p25` and `p75`, respectively. If you have different groupings in mind, please feel free to do so as it is difficult to incorporate that into a checkpoint. "
   ]
  },
  {
   "cell_type": "code",
   "execution_count": null,
   "metadata": {},
   "outputs": [],
   "source": [
    "# use pull() to isolate the variable of interest in a vector\n",
    "p <- employer_measures %>%\n",
    "    filter(year == select_year) %>%\n",
    "    pull(measure) %>%\n",
    "    quantile(probs = c(.25, .75))\n",
    "\n",
    "p"
   ]
  },
  {
   "cell_type": "markdown",
   "metadata": {},
   "source": [
    "The first value corresponds to 25th percentile and the second value corresponds to the 75th percentile. "
   ]
  },
  {
   "cell_type": "code",
   "execution_count": null,
   "metadata": {},
   "outputs": [],
   "source": [
    "# extracting 25th and 75th percentile \n",
    "p25 <- p[1]\n",
    "p75 <- p[2]"
   ]
  },
  {
   "cell_type": "markdown",
   "metadata": {},
   "source": [
    "We define a categorical variable, **measure_cat**, by taking into account the 25th and 75th percentiles. "
   ]
  },
  {
   "cell_type": "code",
   "execution_count": null,
   "metadata": {},
   "outputs": [],
   "source": [
    "employer_measures_cat <- employer_measures %>%\n",
    "    filter(year == select_year) %>%\n",
    "    mutate(measure_cat = case_when(\n",
    "                                # Low: <= 25th percentile\n",
    "                                measure <= p25 ~ \"Low\", \n",
    "                                # Medium: > 25th and < 75th percentile\n",
    "                                measure > p25 & measure < p75 ~ \"Medium\", \n",
    "                                # High: >= 75th percentile\n",
    "                                TRUE ~ \"High\")\n",
    "          ) %>%\n",
    "    select(federal_ein, measure_cat)\n",
    "\n",
    "# see amount of employers in the year within each bin--should be 25% high, 25% low, and 50% in the middle\n",
    "table(employer_measures$measure_cat)\n",
    "\n",
    "head(employer_measures_cat)"
   ]
  },
  {
   "cell_type": "markdown",
   "metadata": {},
   "source": [
    "With our categorical variable of our interest, we can link **employer_measures_cat** to **cohort_wages_empr_comp** to add the categorical variable for the measure of your interest to your primary employer-employee data at the time of apprenticeship completion. \n",
    "\n",
    "The resulting data frame will give us the measure (of your interest) category (High/Medium/Low) in which an apprenticeship completer's first primary employer falls. \n",
    "\n",
    "> Note: We will only need the **Person_ID** and **measure_cat** variables moving forward, so we will explicitly `select()` them after performing the join."
   ]
  },
  {
   "cell_type": "code",
   "execution_count": null,
   "metadata": {},
   "outputs": [],
   "source": [
    "cohort_wages_merged_measure_cat <- inner_join(cohort_wages_empr_comp, \n",
    "                                              employer_measures_cat, \n",
    "                                              by=c(\"Federal_EIN\" = \"federal_ein\")) %>%\n",
    "    select(Person_ID, measure_cat)\n",
    "\n",
    "head(cohort_wages_merged_measure_cat)"
   ]
  },
  {
   "cell_type": "markdown",
   "metadata": {},
   "source": [
    "At this point, we have created a lookup table, **cohort_wages_merged_measure_cat**, which tracks those in the cohort who were employed at the time of their apprenticeship completion and their measure category of their primary employer at the time. Now, we can combine this information with that of future employment information for these individuals, which is saved in **cohort_wages_empr**. \n",
    " \n",
    "We can do so by leveraging the `inner_join()` function so that we only include employment histories for individuals who were employed in the quarter of completion and whose primary employers were tracked in our employer measures table in your year of interest. We perform this join on **ssn** and not a combination of **ssn** and **federal_ein** because we are interested in seeing *any* form of employment as opposed to looking at employment with the same primary employer. Our goal is to look at initial employment after graduation and how it affects our cohort's trajectories over the next year. "
   ]
  },
  {
   "cell_type": "code",
   "execution_count": null,
   "metadata": {},
   "outputs": [],
   "source": [
    "emp_empr_matches_measure <- cohort_wages_empr %>%\n",
    "    inner_join(cohort_wages_merged_measure_cat, by=\"Person_ID\") %>%\n",
    "    select(Quarters_Relative_to_Completion, measure_cat, Person_ID)\n",
    "\n",
    "head(emp_empr_matches_measure)"
   ]
  },
  {
   "cell_type": "markdown",
   "metadata": {},
   "source": [
    "Next, we will calculate the percentage of our cohort employed in each quarter by the type (high/medium/low) of primary employer they were employed by after they completed an apprenticeship.\n",
    "\n",
    "> Note: In the Firm Characteristics section, we looked at the number of quarters an individual worked at the same employer. Here, we are looking at each quarter and calculating the percentage of individuals within each group. "
   ]
  },
  {
   "cell_type": "code",
   "execution_count": null,
   "metadata": {},
   "outputs": [],
   "source": [
    "# count number of people within each emp_rate_cat and Quarters_Relative_to_Completion subgroup\n",
    "# can use count() again because there is one row per person/quarter combination\n",
    "df_counts <- emp_empr_matches_measure %>% \n",
    "    count(measure_cat, Quarters_Relative_to_Completion)\n",
    "\n",
    "df_counts"
   ]
  },
  {
   "cell_type": "markdown",
   "metadata": {},
   "source": [
    "From here, we will create a mini-data frame that stores the initial counts of those employed in the quarter of apprenticeship completion based on the employment rate category of their primary employer."
   ]
  },
  {
   "cell_type": "code",
   "execution_count": null,
   "metadata": {},
   "outputs": [],
   "source": [
    "# store values for each emp_rate_cat group at Quarters_Relative_to_Competion = 0\n",
    "first_ob <- df_counts %>% \n",
    "    filter(Quarters_Relative_to_Completion == 0) %>%\n",
    "    # renaming \"n\" column to differentiate from that in df_counts\n",
    "    rename(n_start = n) %>% \n",
    "    # don't need Quarters_Relative_to_Completion since it is filtered to 0\n",
    "    select(-Quarters_Relative_to_Completion)\n",
    "\n",
    "first_ob"
   ]
  },
  {
   "cell_type": "markdown",
   "metadata": {},
   "source": [
    "Now, we can join this mini-data frame **first_ob** back to **df_counts** to calculate the percentage employed based on the employment rate categorization of their primary employer at the time of their apprenticeship completion."
   ]
  },
  {
   "cell_type": "code",
   "execution_count": null,
   "metadata": {},
   "outputs": [],
   "source": [
    "df_counts_prop <- df_counts %>%\n",
    "    inner_join(first_ob, by=\"measure_cat\") %>%\n",
    "    mutate(prop = n/n_start)\n",
    "\n",
    "df_counts_prop"
   ]
  },
  {
   "cell_type": "markdown",
   "metadata": {},
   "source": [
    "Lastly, we visualize our results to understand how your measure category impacts trajectories of apprenticeship completers after they finish their training. "
   ]
  },
  {
   "cell_type": "code",
   "execution_count": null,
   "metadata": {},
   "outputs": [],
   "source": [
    "df_counts_prop %>%\n",
    "    ggplot(aes(x = Quarters_Relative_to_Completion, y = prop, color = measure_cat)) +  \n",
    "    geom_line()"
   ]
  }
 ],
 "metadata": {
  "kernelspec": {
   "display_name": "R",
   "language": "R",
   "name": "ir"
  },
  "language_info": {
   "codemirror_mode": "r",
   "file_extension": ".r",
   "mimetype": "text/x-r-source",
   "name": "R",
   "pygments_lexer": "r",
   "version": "4.0.3"
  }
 },
 "nbformat": 4,
 "nbformat_minor": 4
}
