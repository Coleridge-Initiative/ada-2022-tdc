{
 "cells": [
  {
   "cell_type": "markdown",
   "metadata": {},
   "source": [
    "<center><br><br>\n",
    "    <h4>TANF Data Collaborative </h4>\n",
    "    <h4>Applied Data Analytics Training | Spring 2022</h4>\n",
    "    <h1>Creating the Analytical Frame </h1>\n",
    "</center>\n",
    "<center>\n",
    "    <span style=\"font-size: 1.5em;\">\n",
    "        <a href='https://www.coleridgeinitiative.org'>Coleridge Initiative</a>\n",
    "    </span>\n",
    "    <center>Maryah Garner, Allison Nunez, Carolyn D. Gorman</center>\n",
    "    <a href=\"https://doi.org/10.5281/zenodo.7459860\"><img src=\"https://zenodo.org/badge/DOI/10.5281/zenodo.7459860.svg\" alt=\"DOI\"></a>\n",
    "</center>\n",
    "\n",
    "<br>\n"
   ]
  },
  {
   "cell_type": "code",
   "execution_count": null,
   "metadata": {},
   "outputs": [],
   "source": [
    "library(odbc)                       # allows R to connect with the database\n",
    "library(tidyverse)                  # useful for data manipulation and visualization\n",
    "library(scales)                     # to calculate percentages, graphing\n",
    "library(lubridate)                  # for easy working with dates \n",
    "library(zoo)                        # for creating a quarter variable"
   ]
  },
  {
   "cell_type": "markdown",
   "metadata": {},
   "source": [
    "# \n",
    "Connect to the database"
   ]
  },
  {
   "cell_type": "code",
   "execution_count": null,
   "metadata": {},
   "outputs": [],
   "source": [
    "con <- DBI::dbConnect(odbc::odbc(),\n",
    "                     Driver = \"SQL Server\",\n",
    "                     Server = \"msssql01.c7bdq4o2yhxo.us-gov-west-1.rds.amazonaws.com\",\n",
    "                     Trusted_Connection = \"True\")"
   ]
  },
  {
   "cell_type": "code",
   "execution_count": null,
   "metadata": {},
   "outputs": [],
   "source": [
    "query <- \"\n",
    "SELECT \n",
    "    ssn, caseid, month AS yr_month, tanf_end\n",
    "FROM ds_in_fssa.dbo.person_month\n",
    ";\n",
    "\"\n",
    "\n",
    "df <- dbGetQuery(con, query)   \n",
    "\n",
    "head(df)"
   ]
  },
  {
   "cell_type": "markdown",
   "metadata": {},
   "source": [
    "## Remove bad SSNs"
   ]
  },
  {
   "cell_type": "markdown",
   "metadata": {},
   "source": [
    "Identifying bad SSNs"
   ]
  },
  {
   "cell_type": "code",
   "execution_count": null,
   "metadata": {},
   "outputs": [],
   "source": [
    "df %>%\n",
    "    group_by(ssn) %>%\n",
    "    summarise(cases =  n_distinct(caseid)) %>%\n",
    "    arrange(desc(cases)) %>%\n",
    "    head(3)\n",
    "        \n",
    "    "
   ]
  },
  {
   "cell_type": "markdown",
   "metadata": {},
   "source": [
    "Identifying bad SSNs casses"
   ]
  },
  {
   "cell_type": "markdown",
   "metadata": {},
   "source": [
    "Note, those first who SSN's are obviously bad.  "
   ]
  },
  {
   "cell_type": "code",
   "execution_count": null,
   "metadata": {},
   "outputs": [],
   "source": [
    "# calculate the number of casses each person has each month\n",
    "df <- df %>%\n",
    "    filter(!ssn %in% c('REDACTED', 'REDACTED'),\n",
    "          !is.na(yr_month)) %>%\n",
    "    group_by(ssn, yr_month) %>%\n",
    "    mutate(cases = n_distinct(caseid)) %>%\n",
    "    ungroup() \n",
    "head(df)"
   ]
  },
  {
   "cell_type": "markdown",
   "metadata": {},
   "source": [
    "## Remove people who have more than one case in a given month"
   ]
  },
  {
   "cell_type": "raw",
   "metadata": {},
   "source": [
    "temp <- df %>%\n",
    "    ungroup() %>%\n",
    "    group_by(ssn, yr_month) %>%\n",
    "    summarise(count = n()) %>%\n",
    "    arrange(desc(count)) %>%\n",
    "    ungroup()\n",
    "\n",
    "temp <- temp %>%\n",
    "    group_by(count) %>%\n",
    "    summarise(people = n_distinct(ssn),\n",
    "              people_qt = n()) \n",
    "    "
   ]
  },
  {
   "cell_type": "raw",
   "metadata": {},
   "source": [
    "head(temp,1)"
   ]
  },
  {
   "cell_type": "raw",
   "metadata": {},
   "source": [
    "# Percent of people who have more that one observation per month\n",
    "1-(6550587/sum(temp$people_qt))\n",
    "# often this is more that one case, but sometimes it is more than ove observation within a case per perspn per month"
   ]
  },
  {
   "cell_type": "raw",
   "metadata": {},
   "source": [
    "# Percent of observations who have more that one observation per person per month\n",
    "489860/sum(temp$people)"
   ]
  },
  {
   "cell_type": "code",
   "execution_count": null,
   "metadata": {},
   "outputs": [],
   "source": [
    "temp <- df %>%\n",
    "    group_by(ssn, yr_month) %>%\n",
    "    summarise(count = n()) %>%\n",
    "    ungroup() %>%\n",
    "    filter(count > 1)\n",
    "\n",
    "head(temp)"
   ]
  },
  {
   "cell_type": "code",
   "execution_count": null,
   "metadata": {},
   "outputs": [],
   "source": [
    "df <- df %>%\n",
    "    filter(!ssn %in% temp$ssn)"
   ]
  },
  {
   "cell_type": "markdown",
   "metadata": {},
   "source": [
    "## Create a quarter variable"
   ]
  },
  {
   "cell_type": "raw",
   "metadata": {},
   "source": [
    "head(df)"
   ]
  },
  {
   "cell_type": "code",
   "execution_count": null,
   "metadata": {},
   "outputs": [],
   "source": [
    "df <- df %>%\n",
    "    mutate(yr_month = ym(yr_month),\n",
    "           Quarter = as.yearqtr(yr_month,\"%Y%m%d\"))\n",
    "head(df)"
   ]
  },
  {
   "cell_type": "raw",
   "metadata": {},
   "source": [
    "unique(df$Quarter)"
   ]
  },
  {
   "cell_type": "raw",
   "metadata": {},
   "source": [
    "names(df)"
   ]
  },
  {
   "cell_type": "code",
   "execution_count": null,
   "metadata": {},
   "outputs": [],
   "source": [
    "qry <- \" use tr_tdc_2022;\n",
    "\"\n",
    "DBI::dbExecute(con, qry)\n",
    "\n",
    "DBI::dbWriteTable(\n",
    "    conn = con,\n",
    "    name = DBI::SQL(\"dbo.person_month_cleanA\"), \n",
    "    value = df,\n",
    "    overwrite  = TRUE\n",
    ")"
   ]
  },
  {
   "cell_type": "code",
   "execution_count": null,
   "metadata": {},
   "outputs": [],
   "source": [
    "rm(df)"
   ]
  },
  {
   "cell_type": "markdown",
   "metadata": {},
   "source": [
    "## Create permanent table (in sql)"
   ]
  },
  {
   "cell_type": "markdown",
   "metadata": {},
   "source": [
    "    select pm.*, cm.county,\n",
    "        convert(date, concat(substring(month, 5, 6), '/', '01', '/', substring(month, 1, 4))) as yr_month,\n",
    "        concat(substring(month, 1, 4), ' ', 'Q',  floor((convert(integer, substring(month, 5, 6)) + 2)/3)) as Quarter\n",
    "    into tr_tdc_2022.dbo.person_month_clean\n",
    "    from ds_in_fssa.dbo.person_month pm \n",
    "    WHERE ssn IN (SELECT DISTINCT SSN FROM tr_tdc_2022.dbo.person_month_cleanA)\n",
    "    LEFT JOIN \n",
    "    ds_in_fssa.dbo.case_month cm \n",
    "    ON pm.caseid=cm.caseid AND cm.rptmn=pm.[MONTH]) \n",
    "    WHERE ssn IN (SELECT DISTINCT SSN FROM tr_tdc_2022.dbo.person_month_cleanA)"
   ]
  },
  {
   "cell_type": "markdown",
   "metadata": {},
   "source": [
    "## Create 10% TANF table"
   ]
  },
  {
   "cell_type": "code",
   "execution_count": null,
   "metadata": {},
   "outputs": [],
   "source": [
    "query <- \"\n",
    "with new_table as (\n",
    "select distinct(ssn) \n",
    "    FROM tr_tdc_2022.dbo.person_month_clean a tablesample(10 percent) REPEATABLE (123)\n",
    "    --group by ssn\n",
    ")\n",
    "select * from new_table\n",
    "left join tr_tdc_2022.dbo.person_month_clean pm\n",
    "on new_table.ssn = pm.ssn;\n",
    "\"\n",
    "\n",
    "df2 <- dbGetQuery(con, query)[,2:20]   \n"
   ]
  },
  {
   "cell_type": "code",
   "execution_count": null,
   "metadata": {},
   "outputs": [],
   "source": [
    "head(df2)"
   ]
  },
  {
   "cell_type": "code",
   "execution_count": null,
   "metadata": {},
   "outputs": [],
   "source": [
    "qry <- \" use tr_tdc_2022;\n",
    "\"\n",
    "DBI::dbExecute(con, qry)\n",
    "\n",
    "DBI::dbWriteTable(\n",
    "    conn = con,\n",
    "    name = DBI::SQL(\"dbo.person_month_clean_10pct\"), \n",
    "    value = df2,\n",
    "    overwrite  = TRUE\n",
    ")"
   ]
  },
  {
   "cell_type": "markdown",
   "metadata": {},
   "source": [
    "## Create 10% wage table"
   ]
  },
  {
   "cell_type": "code",
   "execution_count": null,
   "metadata": {},
   "outputs": [],
   "source": [
    "query <- \"\n",
    "SELECT SSN, Empr_no, EIN, Year, Quarter, Wage\n",
    "FROM ds_in_dwd.dbo.ui_wages\n",
    "WHERE ssn IN (SELECT DISTINCT SSN FROM tr_tdc_2022.dbo.person_month_clean_10pct)\n",
    "AND Wage > 0 \n",
    "AND Wage IS NOT NULL;\n",
    "\"\n",
    "\n",
    "wage <- dbGetQuery(con, query) \n",
    "head(wage)"
   ]
  },
  {
   "cell_type": "raw",
   "metadata": {},
   "source": [
    "summary(wage$Wage)"
   ]
  },
  {
   "cell_type": "raw",
   "metadata": {},
   "source": [
    "length(unique(wage$SSN))"
   ]
  },
  {
   "cell_type": "code",
   "execution_count": null,
   "metadata": {},
   "outputs": [],
   "source": [
    "qry <- \" use tr_tdc_2022;\n",
    "\"\n",
    "DBI::dbExecute(con, qry)\n",
    "\n",
    "DBI::dbWriteTable(\n",
    "    conn = con,\n",
    "    name = DBI::SQL(\"dbo.wage_clean_10pct\"), \n",
    "    value = wage,\n",
    "    overwrite  = TRUE\n",
    ")"
   ]
  }
 ],
 "metadata": {
  "kernelspec": {
   "display_name": "R",
   "language": "R",
   "name": "ir"
  },
  "language_info": {
   "codemirror_mode": "r",
   "file_extension": ".r",
   "mimetype": "text/x-r-source",
   "name": "R",
   "pygments_lexer": "r",
   "version": "3.6.3"
  }
 },
 "nbformat": 4,
 "nbformat_minor": 4
}
