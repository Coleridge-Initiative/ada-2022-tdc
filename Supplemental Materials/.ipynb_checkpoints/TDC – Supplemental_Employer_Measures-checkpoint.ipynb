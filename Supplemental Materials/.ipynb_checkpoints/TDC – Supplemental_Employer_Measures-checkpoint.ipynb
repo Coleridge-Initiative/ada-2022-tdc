{
 "cells": [
  {
   "cell_type": "markdown",
   "metadata": {},
   "source": [
    "<center><br><br>\n",
    "    <h4>TANF Data Collaborative </h4>\n",
    "    <h4>Applied Data Analytics Training | Spring 2022</h4>\n",
    "    <h1>Creating Employer Measures</h1>\n",
    "</center>\n",
    "<center>\n",
    "    <span style=\"font-size: 1.5em;\">\n",
    "        <a href='https://www.coleridgeinitiative.org'>Coleridge Initiative</a>\n",
    "    </span>\n",
    "    <center>Benjamin Feder, Maryah Garner, Allison Nunez, Rukhshan Mian</center>\n",
    "    <a href=\"https://doi.org/10.5281/zenodo.7459730\"><img src=\"https://zenodo.org/badge/DOI/10.5281/zenodo.7459730.svg\" alt=\"DOI\"></a>\n",
    "\n",
    "    \n",
    "</center>\n",
    "\n",
    "<br>\n",
    "\n",
    "***"
   ]
  },
  {
   "cell_type": "markdown",
   "metadata": {},
   "source": [
    "Here are the statistics we will find:\n",
    "    \n",
    "Our final output from this notebook is a permanent table with employer-level information aggregated to the calendar year for each employer with at least 5 employees in Indiana that exists in its UI wage records."
   ]
  },
  {
   "cell_type": "markdown",
   "metadata": {},
   "source": [
    "Firm characteristics \n",
    "- Total Payroll\n",
    "- Total full quarter employment\n",
    "- Total employment\n",
    "- NAICS\n",
    "\n",
    "\n",
    "Measures of stability\n",
    "   - Number of new hires who become full quarter employees (hired in t-1 whom we see in t+1)\n",
    "   - Ratio of full quarter employees to all employees\n",
    "    \n",
    "    \n",
    "Measures of Opportunity\n",
    "   - Number of new hires\n",
    "   - Employment t – employment t-1/abs( employment at t +employment t-1)/2\n",
    "    \n",
    " \n",
    "Measures of Job Quality\n",
    "- Average earnings per employee\n",
    "- Average full quarter earnings per employee\n",
    "- Earnings per employee at 25th percentile\n",
    "- Earnings per employee at 75th percentile"
   ]
  },
  {
   "cell_type": "code",
   "execution_count": null,
   "metadata": {},
   "outputs": [],
   "source": [
    "options(warn=-1)\n",
    "\n",
    "# Database interaction imports\n",
    "suppressMessages(library(odbc))\n",
    "\n",
    "# For data manipulation/visualization\n",
    "suppressMessages(library(tidyverse))\n",
    "\n",
    "# For faster date conversions\n",
    "suppressMessages(library(lubridate))\n",
    "\n",
    "# Use percent() function\n",
    "suppressMessages(library(scales))\n",
    "\n",
    "suppressMessages(library(zoo))\n",
    "options(warn=0)\n"
   ]
  },
  {
   "cell_type": "code",
   "execution_count": null,
   "metadata": {},
   "outputs": [],
   "source": [
    "# Connect to the server\n",
    "con <- DBI::dbConnect(odbc::odbc(),\n",
    "                     Driver = \"SQL Server\",\n",
    "                     Server = \"msssql01.c7bdq4o2yhxo.us-gov-west-1.rds.amazonaws.com\",\n",
    "                     Trusted_Connection = \"True\")"
   ]
  },
  {
   "cell_type": "markdown",
   "metadata": {},
   "source": [
    "## Function for getting the range of quarters between a start and end year-quarter combination"
   ]
  },
  {
   "cell_type": "code",
   "execution_count": null,
   "metadata": {},
   "outputs": [],
   "source": [
    "create_quarters <- function(start_yq, end_yq) {\n",
    "    # converting start and end quarters to year-quarter format that R can understand\n",
    "    d1 <- yq(start_yq)\n",
    "    d2 <- yq(end_yq)\n",
    "    \n",
    "    # Getting the range between d1 and d2\n",
    "    dat <- format(seq(d1, d2, by=\"quarter\"), \"%Y-%m\")\n",
    "    \n",
    "    # converting resulting range to a year-quarter format\n",
    "    q_yr_input <- as.yearqtr(dat, \"%Y-%m\") #from zoo\n",
    "    df <- data.frame(q_yr_input)\n",
    "    names(df) <- c(\"yr_quarter\")\n",
    "\n",
    "    df$qyr_req <- paste0(tolower(substring(df$yr_quarter, 6, 7)), \"_\", substring(df$yr_quarter, 1, 4))\n",
    "    df$yrq = as.numeric(substring(q_yr_input, 1, 4))\n",
    "    df$title = paste0(df$qyr_req, \"_agg\")\n",
    "\n",
    "    return(df)\n",
    "}\n",
    "\n",
    "quarter_year <- create_quarters('2005 Q1', '2020 Q4')\n"
   ]
  },
  {
   "cell_type": "code",
   "execution_count": null,
   "metadata": {},
   "outputs": [],
   "source": [
    "head(quarter_year)"
   ]
  },
  {
   "cell_type": "markdown",
   "metadata": {},
   "source": [
    "## Creating tables\n",
    "We use a for loop to split up the UI Wage records by our quarters of interest. While doing so, we drop duplicate entries in wage records.\n",
    "\n",
    "> Note that this is one way to approach duplicate data. There are other ways in handling duplicates such as keeping largest value, summing up wages. For the purpose of this notebook, we drop such instances. \n"
   ]
  },
  {
   "cell_type": "code",
   "execution_count": null,
   "metadata": {},
   "outputs": [],
   "source": [
    "quarters <- quarter_year$yr_quarter\n",
    "quarters_sql_save <- quarter_year$qyr_req\n",
    "quarter_agg_save <- quarter_year$title"
   ]
  },
  {
   "cell_type": "code",
   "execution_count": null,
   "metadata": {},
   "outputs": [],
   "source": [
    "for(i in 1:length(quarters)){\n",
    "    ptm <- proc.time()\n",
    "    qry <- \"with init_wages as (\n",
    "                select *, CAST(Year as VARCHAR)  + ' Q' + CAST(Quarter as VARCHAR) as yr_quarter\n",
    "                from ds_in_dwd.dbo.ui_wages\n",
    "                where CAST(Year as VARCHAR)  + ' Q' + CAST(Quarter as VARCHAR) = '%s'\n",
    "                and Empr_no is not null and Wage > 0\n",
    "            ),\n",
    "        dup as (\n",
    "                select *, row_number() over (partition by SSN, Empr_no, yr_quarter order by yr_quarter) as rownumber_wg\n",
    "                from init_wages\n",
    "            )\n",
    "                select Empr_no, ssn, Wage, yr_quarter\n",
    "                into tr_tdc_2022.dbo.%s\n",
    "                from dup\n",
    "                where rownumber_wg = 1\"\n",
    "    full_qry = sprintf(qry, quarters[i], quarters_sql_save[i])\n",
    "    print(paste(quarters[i], \"done\"))\n",
    "    DBI::dbExecute(con, full_qry)\n",
    "    print(proc.time() - ptm)\n",
    "    }\n",
    "\n",
    "\n",
    "    "
   ]
  },
  {
   "cell_type": "code",
   "execution_count": null,
   "metadata": {},
   "outputs": [],
   "source": [
    "# see example\n",
    "qry = \"\n",
    "select top 5 * \n",
    "from tr_tdc_2022.dbo.q1_2020\n",
    "\"\n",
    "dbGetQuery(con, qry)"
   ]
  },
  {
   "cell_type": "code",
   "execution_count": null,
   "metadata": {},
   "outputs": [],
   "source": [
    "# check_dup_df = dbGetQuery(con, 'SELECT * FROM ds_in_dwd.dbo.ui_wages WHERE Year = 2015 AND Quarter = 2')"
   ]
  },
  {
   "cell_type": "markdown",
   "metadata": {},
   "source": [
    "## Creating columns for pre-post employment "
   ]
  },
  {
   "cell_type": "markdown",
   "metadata": {},
   "source": [
    "Then, we will add columns to track if each `Empr_no`/`ssn` combination within a given quarter exists in the wage record table the quarter before and/or the quarter after. This will be important in tracking full-quarter employment, as well as hiring and separation numbers."
   ]
  },
  {
   "cell_type": "code",
   "execution_count": null,
   "metadata": {},
   "outputs": [],
   "source": [
    "# initialize pre and post employment columns\n",
    "new_cols <- c('pre_emp', 'post_emp')\n",
    "\n",
    "for(col in new_cols){\n",
    "    for(i in 1:length(quarters)){\n",
    "        qry='\n",
    "        ALTER TABLE tr_tdc_2022.dbo.\"%s\" ADD \"%s\" int\n",
    "        '\n",
    "        full_qry = sprintf(qry, quarters_sql_save[i], col)\n",
    "        DBI::dbExecute(con, full_qry)\n",
    "    }\n",
    "}"
   ]
  },
  {
   "cell_type": "code",
   "execution_count": null,
   "metadata": {},
   "outputs": [],
   "source": [
    "# see example\n",
    "qry = \"\n",
    "select top 5 * \n",
    "from tr_tdc_2022.dbo.q1_2020\n",
    "\"\n",
    "dbGetQuery(con, qry)"
   ]
  },
  {
   "cell_type": "markdown",
   "metadata": {},
   "source": [
    "After the `pre_emp` and `post_emp` columns are initialized in each of these temporary tables, we can set these as indicator variables if the `ssn`/`Empr_no` combination that appeared in the UI wage records for the given year/quarter combination also existed in the previous and future quarter."
   ]
  },
  {
   "cell_type": "markdown",
   "metadata": {},
   "source": [
    "### Updating pre-post employment columns\n",
    "\n",
    "Account for edge case using the if condition"
   ]
  },
  {
   "cell_type": "code",
   "execution_count": null,
   "metadata": {},
   "outputs": [],
   "source": [
    "ptm <- proc.time()\n",
    "for(i in 2:length(quarters)){\n",
    "    # update this quarter employment flag\n",
    "    qry='\n",
    "    UPDATE tr_tdc_2022.dbo.\"%s\" SET pre_emp = \n",
    "        CASE WHEN b.Wage is null THEN 0 ELSE 1 END\n",
    "    FROM tr_tdc_2022.dbo.\"%s\" b\n",
    "    where tr_tdc_2022.dbo.\"%s\".ssn = b.ssn and \n",
    "        tr_tdc_2022.dbo.\"%s\".Empr_no = b.Empr_no\n",
    "    '\n",
    "    full_qry = sprintf(qry, quarters_sql_save[i], quarters_sql_save[i-1], quarters_sql_save[i], quarters_sql_save[i])\n",
    "    DBI::dbExecute(con, full_qry)\n",
    "#     writeLines(full_qry)\n",
    "    print(paste0(\"Pre-emp for: \", quarters[i], \" done\"))\n",
    "    print(proc.time() - ptm)\n",
    "    }"
   ]
  },
  {
   "cell_type": "code",
   "execution_count": null,
   "metadata": {},
   "outputs": [],
   "source": [
    "for(i in 2:length(quarters)-1){\n",
    "    # update this quarter employment flag\n",
    "    qry='\n",
    "    UPDATE tr_tdc_2022.dbo.\"%s\" SET post_emp = \n",
    "        CASE WHEN b.Wage is null THEN 0 ELSE 1 END\n",
    "    FROM tr_tdc_2022.dbo.\"%s\" b\n",
    "    where tr_tdc_2022.dbo.\"%s\".ssn = b.ssn and \n",
    "        tr_tdc_2022.dbo.\"%s\".Empr_no = b.Empr_no\n",
    "    '\n",
    "    full_qry = sprintf(qry, quarters_sql_save[i], quarters_sql_save[i+1], \n",
    "                       quarters_sql_save[i], quarters_sql_save[i])\n",
    "    DBI::dbExecute(con, full_qry)\n",
    "    paste0(\"Post-emp for: \", quarters_sql_save[i], \" done\")\n",
    "\n",
    "    }"
   ]
  },
  {
   "cell_type": "code",
   "execution_count": null,
   "metadata": {},
   "outputs": [],
   "source": [
    "qry <- \"\n",
    "select top 5 *\n",
    "from tr_tdc_2022.dbo.q4_2019\n",
    "\"\n",
    "dbGetQuery(con, qry)"
   ]
  },
  {
   "cell_type": "code",
   "execution_count": null,
   "metadata": {},
   "outputs": [],
   "source": [
    "# see values of pre_emp\n",
    "qry = \"\n",
    "select pre_emp, count(*)\n",
    "from tr_tdc_2022.dbo.q4_2016 group by pre_emp\n",
    "\"\n",
    "dbGetQuery(con, qry)"
   ]
  },
  {
   "cell_type": "code",
   "execution_count": null,
   "metadata": {},
   "outputs": [],
   "source": [
    "# see values of post_emp\n",
    "qry = \"\n",
    "select post_emp, count(*)\n",
    "from tr_tdc_2022.dbo.q4_2016 group by post_emp\n",
    "\"\n",
    "dbGetQuery(con, qry)"
   ]
  },
  {
   "cell_type": "markdown",
   "metadata": {},
   "source": [
    "Now that we have pre and post-quarter employment indicators for each `ssn`/`Empr_no` combination, we can add hiring and separation indicators into these tables."
   ]
  },
  {
   "cell_type": "markdown",
   "metadata": {},
   "source": [
    "## Creating columns that indicate separation or hiring\n",
    "- separation: `sep`\n",
    "- hiring: `hire`"
   ]
  },
  {
   "cell_type": "code",
   "execution_count": null,
   "metadata": {},
   "outputs": [],
   "source": [
    "new_cols <- c('sep', 'hire')\n",
    "\n",
    "for(col in new_cols){\n",
    "    for(i in 2:length(quarters_sql_save)){\n",
    "        qry='\n",
    "        ALTER TABLE tr_tdc_2022.dbo.\"%s\" ADD \"%s\" int\n",
    "        '\n",
    "        full_qry = sprintf(qry, quarters_sql_save[i], col)\n",
    "        DBI::dbExecute(con, full_qry)\n",
    "    }\n",
    "}"
   ]
  },
  {
   "cell_type": "code",
   "execution_count": null,
   "metadata": {},
   "outputs": [],
   "source": [
    "# take a peek at one of the tables\n",
    "qry <- \"\n",
    "select top 5 *\n",
    "from tr_tdc_2022.dbo.q4_2019\n",
    "\"\n",
    "dbGetQuery(con, qry)"
   ]
  },
  {
   "cell_type": "markdown",
   "metadata": {},
   "source": [
    "### Updating columns for `sep` and `hire`\n",
    "- `sep` = 1 if someone isn't employed with the same employer in the next quarter\n",
    "- `hire` = 1 if someone isn't employed with the same emplyer in the previous quarter"
   ]
  },
  {
   "cell_type": "code",
   "execution_count": null,
   "metadata": {},
   "outputs": [],
   "source": [
    "for(i in 2:length(quarters_sql_save)){\n",
    "    qry='\n",
    "    UPDATE tr_tdc_2022.dbo.\"%s\" \n",
    "    SET \n",
    "        sep = CASE WHEN post_emp is null THEN 1 ELSE 0 END,\n",
    "        hire = CASE WHEN pre_emp is null THEN 1 ELSE 0 END\n",
    "    '\n",
    "    full_qry = sprintf(qry, quarters_sql_save[i])\n",
    "    DBI::dbExecute(con, full_qry)\n",
    "}"
   ]
  },
  {
   "cell_type": "code",
   "execution_count": null,
   "metadata": {},
   "outputs": [],
   "source": [
    "# look at different values of sep\n",
    "qry = '\n",
    "select count(*), sep\n",
    "from tr_tdc_2022.dbo.q4_2019 group by sep\n",
    "'\n",
    "\n",
    "dbGetQuery(con, qry)"
   ]
  },
  {
   "cell_type": "code",
   "execution_count": null,
   "metadata": {},
   "outputs": [],
   "source": [
    "# look at different values of sep\n",
    "qry = '\n",
    "select count(*), hire\n",
    "from tr_tdc_2022.dbo.q4_2018 group by hire\n",
    "'\n",
    "\n",
    "dbGetQuery(con, qry)"
   ]
  },
  {
   "cell_type": "markdown",
   "metadata": {},
   "source": [
    "## Aggregate by Employer\n",
    "\n",
    "At this point, we have all the information we need to aggregate on the `Empr_no` values. We will do these aggregations in separate steps, as they will require separate `WHERE` clauses. In the first, we will find values for all measures outside of the full-quarter employee-related ones."
   ]
  },
  {
   "cell_type": "code",
   "execution_count": null,
   "metadata": {},
   "outputs": [],
   "source": [
    "qry <- \"\n",
    "    select distinct top 5 Empr_no, yr_quarter,\n",
    "    count(ssn) over(partition by Empr_no, yr_quarter) as num_employed,\n",
    "    sum(Wage) over(partition by Empr_no, yr_quarter) as total_earnings,\n",
    "    sum(hire) over(partition by Empr_no, yr_quarter) as num_hire,\n",
    "    sum(sep) over(partition by Empr_no, yr_quarter) as num_sep,\n",
    "    percentile_cont(0.25) within group (order by Wage) over (partition by Empr_no, yr_quarter) as bottom_25_pctile,\n",
    "    percentile_cont(0.75) within group (order by Wage) over (partition by Empr_no, yr_quarter) as top_75_pctile\n",
    "    from tr_tdc_2022.dbo.q1_2015\n",
    "\"\n",
    "dbGetQuery(con, qry)"
   ]
  },
  {
   "cell_type": "markdown",
   "metadata": {},
   "source": [
    "For later one for example"
   ]
  },
  {
   "cell_type": "code",
   "execution_count": null,
   "metadata": {},
   "outputs": [],
   "source": [
    "qry <- \"\n",
    "    select distinct top 5 Empr_no, yr_quarter,\n",
    "    count(ssn) over(partition by Empr_no, yr_quarter) as num_employed,\n",
    "    sum(Wage) over(partition by Empr_no, yr_quarter) as total_earnings,\n",
    "    sum(hire) over(partition by Empr_no, yr_quarter) as num_hire,\n",
    "    sum(sep) over(partition by Empr_no, yr_quarter) as num_sep,\n",
    "    percentile_cont(0.25) within group (order by Wage) over (partition by Empr_no, yr_quarter) as bottom_25_pctile,\n",
    "    percentile_cont(0.75) within group (order by Wage) over (partition by Empr_no, yr_quarter) as top_75_pctile\n",
    "    from tr_tdc_2022.dbo.q1_2019\n",
    "\"\n",
    "dbGetQuery(con, qry)"
   ]
  },
  {
   "cell_type": "markdown",
   "metadata": {},
   "source": [
    "In a separate table, we can find all of the statistics related to full-quarter employment."
   ]
  },
  {
   "cell_type": "code",
   "execution_count": null,
   "metadata": {},
   "outputs": [],
   "source": [
    "qry <- \"\n",
    "    select distinct top 5 Empr_no, yr_quarter,\n",
    "    count(ssn) over(partition by Empr_no, yr_quarter) as full_num_employed,\n",
    "    sum(Wage) over(partition by Empr_no, yr_quarter) as full_total_earnings\n",
    "    from tr_tdc_2022.dbo.q1_2015\n",
    "    where post_emp = 1 and pre_emp = 1\n",
    "\"\n",
    "dbGetQuery(con, qry)"
   ]
  },
  {
   "cell_type": "markdown",
   "metadata": {},
   "source": [
    "For later one for example"
   ]
  },
  {
   "cell_type": "code",
   "execution_count": null,
   "metadata": {},
   "outputs": [],
   "source": [
    "qry <- \"\n",
    "    select distinct top 5 Empr_no, yr_quarter,\n",
    "    count(ssn) over(partition by Empr_no, yr_quarter) as full_num_employed,\n",
    "    sum(Wage) over(partition by Empr_no, yr_quarter) as full_total_earnings\n",
    "    from tr_tdc_2022.dbo.q4_2019\n",
    "    where post_emp = 1 and pre_emp = 1\n",
    "\"\n",
    "dbGetQuery(con, qry)"
   ]
  },
  {
   "cell_type": "markdown",
   "metadata": {},
   "source": [
    "Finally, we need information on these employer's hiring, employment, and separation numbers for the prior quarter to calculate their growth rates."
   ]
  },
  {
   "cell_type": "code",
   "execution_count": null,
   "metadata": {},
   "outputs": [],
   "source": [
    "qry <- \"\n",
    "    select top 5 Empr_no, yr_quarter,\n",
    "    count(ssn) as num_employed_pre,\n",
    "    sum(hire) as num_hire_pre,\n",
    "    sum(sep) as num_sep_pre\n",
    "    from tr_tdc_2022.dbo.q4_2014\n",
    "    group by Empr_no, yr_quarter\n",
    "\"\n",
    "dbGetQuery(con, qry)"
   ]
  },
  {
   "cell_type": "markdown",
   "metadata": {},
   "source": [
    "For later one for example"
   ]
  },
  {
   "cell_type": "code",
   "execution_count": null,
   "metadata": {},
   "outputs": [],
   "source": [
    "qry <- \"\n",
    "    select top 5 Empr_no, yr_quarter,\n",
    "    count(ssn) as num_employed_pre,\n",
    "    sum(hire) as num_hire_pre,\n",
    "    sum(sep) as num_sep_pre\n",
    "    from tr_tdc_2022.dbo.q3_2019\n",
    "    group by Empr_no, yr_quarter\n",
    "\"\n",
    "dbGetQuery(con, qry)"
   ]
  },
  {
   "cell_type": "markdown",
   "metadata": {},
   "source": [
    "Now that we have all the information we need in three tables, we can join them together based on the `Empr_no` values. "
   ]
  },
  {
   "cell_type": "markdown",
   "metadata": {},
   "source": [
    "For later one for example"
   ]
  },
  {
   "cell_type": "code",
   "execution_count": null,
   "metadata": {},
   "outputs": [],
   "source": [
    "qry <- \"\n",
    "with full_q as (\n",
    "    select distinct Empr_no, yr_quarter,\n",
    "    count(ssn) over(partition by Empr_no, yr_quarter) as full_num_employed_init,\n",
    "    sum(Wage) over(partition by Empr_no, yr_quarter) as full_total_earnings_init\n",
    "    from tr_tdc_2022.dbo.q4_2019\n",
    "    where post_emp = 1 and pre_emp = 1\n",
    "),\n",
    "emp as (\n",
    "    select distinct Empr_no, yr_quarter,\n",
    "    count(ssn) over(partition by  Empr_no, yr_quarter) as num_employed,\n",
    "    sum(Wage) over(partition by  Empr_no, yr_quarter) as total_earnings,\n",
    "    sum(hire) over(partition by  Empr_no, yr_quarter) as num_hire,\n",
    "    sum(sep) over(partition by  Empr_no, yr_quarter) as num_sep,\n",
    "    percentile_cont(0.25) within group (order by Wage) over (partition by  Empr_no, yr_quarter) as top_25_pctile,\n",
    "    percentile_cont(0.75) within group (order by Wage) over (partition by  Empr_no, yr_quarter) as top_75_pctile\n",
    "    from tr_tdc_2022.dbo.q4_2019\n",
    "),\n",
    "tabs as (\n",
    "    select emp.*, full_q.full_num_employed_init,\n",
    "    full_q.full_total_earnings_init\n",
    "    from emp\n",
    "    left join full_q\n",
    "    on emp.Empr_no = full_q.Empr_no and emp.yr_quarter = full_q.yr_quarter\n",
    "    where emp.num_employed >= 5\n",
    ")\n",
    "select top 5 Empr_no, yr_quarter, num_employed, total_earnings, num_hire, num_sep, top_25_pctile, top_75_pctile, case \n",
    "    when full_num_employed_init is null then 0\n",
    "    else full_num_employed_init end as full_num_employed,\n",
    "case\n",
    "    when full_total_earnings_init is null then 0\n",
    "    else full_total_earnings_init end as full_total_earnings\n",
    "from tabs\n",
    "\"\n",
    "dbGetQuery(con, qry)"
   ]
  },
  {
   "cell_type": "markdown",
   "metadata": {},
   "source": [
    "## Defining growth rates"
   ]
  },
  {
   "cell_type": "markdown",
   "metadata": {},
   "source": [
    "To calculate the hiring, separation, and employment growth rates, we will use the following function from <a href='https://academic.oup.com/qje/article-abstract/107/3/819/1873525'>Davis and Haltiwanger (1992)</a> to calculate 1) employment growth rate: `emp_rate`; 2) separation growth rate: `sep_rate`; 3) hire growth rate: `hire_rate`.\n",
    "\n",
    "$$ g_{et}=\\frac{2(x_{et} - x_{e,t-1})}{(x_{et} + x_{e,t-1})} $$\n",
    "\n",
    "In this function, $g_{et}$ represents employment/separation/hire growth rate of employer $e$ at time $t$. $x_{et}$ and $x_{e,t-1}$ are employer $e$'s employment/separation/hire at time $t$ and $t-1$, respectively. According to Davis and Haltiwanger (1992):\n",
    "\n",
    "\"*This growth rate measure is symmetric about zero, and it lies in the closed interval [-2,2] with deaths (births) corresponding to the left (right) endpoint. A virtue of this measure is that it facilitates an integrated treatment of births, deaths, and continuing establishments in the empirical analysis.*\"\n",
    "\n",
    "In other words, a firm with a $ g_{et} = 2$ is a new firm, while a firm with a $ g_{et} = -2$ is a a firm that exited the economy.\n",
    "    \n",
    "> Why do the two endpoints represent firms' deaths and births? Calculate the value of $g_{et}$ when $x_{et}=0$ and when $x_{e,t-1}=0$ and see what you get.\n",
    "\n",
    "In practice, we will apply this formula for every `uiacct` unless it experienced no hires or separations in the current and previous quarters, where instead of getting a divide by zero error, we will assign it to 0."
   ]
  },
  {
   "cell_type": "markdown",
   "metadata": {},
   "source": [
    "## Calculating growth rates"
   ]
  },
  {
   "cell_type": "code",
   "execution_count": null,
   "metadata": {},
   "outputs": [],
   "source": [
    "qry <- \"\n",
    "with full_q as (\n",
    "    select distinct Empr_no, yr_quarter,\n",
    "    count(ssn) over(partition by Empr_no, yr_quarter) as full_num_employed_init,\n",
    "    sum(Wage) over(partition by Empr_no, yr_quarter) as full_total_earnings_init\n",
    "    from tr_tdc_2022.dbo.q4_2019\n",
    "    where post_emp = 1 and pre_emp = 1\n",
    "),\n",
    "emp as (\n",
    "    select distinct Empr_no, yr_quarter,\n",
    "    count(ssn) over(partition by Empr_no, yr_quarter) as num_employed,\n",
    "    sum(Wage) over(partition by Empr_no, yr_quarter) as total_earnings,\n",
    "    sum(hire) over(partition by Empr_no, yr_quarter) as num_hire,\n",
    "    sum(sep) over(partition by Empr_no, yr_quarter) as num_sep,\n",
    "    percentile_cont(0.25) within group (order by Wage) over (partition by Empr_no, yr_quarter) as bottom_25_pctile,\n",
    "    percentile_cont(0.75) within group (order by Wage) over (partition by Empr_no, yr_quarter) as top_75_pctile\n",
    "    from tr_tdc_2022.dbo.q4_2019\n",
    "),\n",
    "tabs as (\n",
    "    select emp.*, full_q.full_num_employed_init,\n",
    "    full_q.full_total_earnings_init\n",
    "    from emp\n",
    "    left join full_q\n",
    "    on emp.Empr_no = full_q.Empr_no and emp.yr_quarter = full_q.yr_quarter\n",
    "    where emp.num_employed >= 5\n",
    "),\n",
    "joined as (\n",
    "    select Empr_no, yr_quarter, num_employed, total_earnings, num_hire, num_sep, bottom_25_pctile, top_75_pctile, case \n",
    "        when full_num_employed_init is null then 0\n",
    "        else full_num_employed_init end as full_num_employed,\n",
    "    case\n",
    "        when full_total_earnings_init is null then 0\n",
    "        else full_total_earnings_init end as full_total_earnings\n",
    "    from tabs\n",
    "),\n",
    "old_tabs as (\n",
    "    select Empr_no,\n",
    "    count(ssn) as num_employed_pre,\n",
    "    sum(hire) as num_hire_pre,\n",
    "    sum(sep) as num_sep_pre\n",
    "    from tr_tdc_2022.dbo.q3_2019\n",
    "    group by Empr_no\n",
    "),\n",
    "    hired as (\n",
    "    select tmone.Empr_no,\n",
    "    count(tmone.ssn) as new_hires_fullq\n",
    "    from tr_tdc_2022.dbo.q3_2019 tmone\n",
    "    join tr_tdc_2022.dbo.q4_2019 t on tmone.ssn = t.ssn and tmone.Empr_no = t.Empr_no\n",
    "    where tmone.hire = 1 and t.post_emp = 1\n",
    "    group by tmone.Empr_no\n",
    "    )\n",
    "select top 5 joined.Empr_no, joined.yr_quarter, joined.num_employed, joined.total_earnings, joined.bottom_25_pctile, \n",
    "    joined.top_75_pctile, joined.full_num_employed, joined.full_total_earnings, CAST(joined.full_num_employed AS FLOAT)/CAST(joined.num_employed AS FLOAT) as ratio_fullq_total, hired.new_hires_fullq,\n",
    "    case \n",
    "    \twhen (old_tabs.num_employed_pre is null or old_tabs.num_employed_pre = 0) and joined.num_employed = 0 then 0\n",
    "    \twhen old_tabs.num_employed_pre is null and joined.num_employed != 0 then 2\n",
    "    \telse (2.0 * (joined.num_employed - old_tabs.num_employed_pre))/(joined.num_employed + old_tabs.num_employed_pre) end as emp_rate,\n",
    "    case\n",
    "        when (old_tabs.num_hire_pre is null or old_tabs.num_hire_pre = 0) and joined.num_hire = 0 then 0\n",
    "        when old_tabs.num_hire_pre is null and joined.num_hire != 0 then 2\n",
    "        else (2.0 * (joined.num_hire - old_tabs.num_hire_pre))/(joined.num_hire + old_tabs.num_hire_pre) end as hire_rate, \n",
    "    case\n",
    "        when (old_tabs.num_sep_pre is null or old_tabs.num_sep_pre = 0) and joined.num_sep = 0 then 0\n",
    "        when old_tabs.num_sep_pre is null and joined.num_sep != 0 then 2\n",
    "        else (2.0 * (joined.num_sep - old_tabs.num_sep_pre))/(joined.num_sep + old_tabs.num_sep_pre) end as sep_rate\n",
    "from joined\n",
    "left join old_tabs on joined.Empr_no = old_tabs.Empr_no\n",
    "left join hired on joined.Empr_no = hired.Empr_no\n",
    "\"\n",
    "dbGetQuery(con, qry)"
   ]
  },
  {
   "cell_type": "code",
   "execution_count": null,
   "metadata": {},
   "outputs": [],
   "source": [
    "for(i in 3:(length(quarters)-1)){\n",
    "    qry = '\n",
    "    with full_q as (\n",
    "        select distinct Empr_no, yr_quarter,\n",
    "        count(ssn) over(partition by Empr_no, yr_quarter) as full_num_employed_init,\n",
    "        sum(Wage) over(partition by Empr_no, yr_quarter) as full_total_earnings_init\n",
    "        from tr_tdc_2022.dbo.\"%s\"\n",
    "        where post_emp = 1 and pre_emp = 1\n",
    "    ),\n",
    "    emp as (\n",
    "        select distinct Empr_no, yr_quarter,\n",
    "        count(ssn) over(partition by Empr_no, yr_quarter) as num_employed,\n",
    "        sum(Wage) over(partition by Empr_no, yr_quarter) as total_earnings,\n",
    "        sum(hire) over(partition by Empr_no, yr_quarter) as num_hire,\n",
    "        sum(sep) over(partition by Empr_no, yr_quarter) as num_sep,\n",
    "        percentile_cont(0.25) within group (order by Wage) over (partition by Empr_no, yr_quarter) as bottom_25_pctile,\n",
    "        percentile_cont(0.75) within group (order by Wage) over (partition by Empr_no, yr_quarter) as top_75_pctile\n",
    "        from tr_tdc_2022.dbo.\"%s\"\n",
    "    ),\n",
    "    tabs as (\n",
    "        select emp.*, full_q.full_num_employed_init,\n",
    "        full_q.full_total_earnings_init\n",
    "        from emp\n",
    "        left join full_q\n",
    "        on emp.Empr_no = full_q.Empr_no and emp.yr_quarter = full_q.yr_quarter\n",
    "        where emp.num_employed >= 5\n",
    "    ),\n",
    "    joined as (\n",
    "        select Empr_no, yr_quarter, num_employed, total_earnings, num_hire, num_sep, bottom_25_pctile, top_75_pctile, \n",
    "        case \n",
    "            when full_num_employed_init is null then 0\n",
    "            else full_num_employed_init end as full_num_employed,\n",
    "        case\n",
    "            when full_total_earnings_init is null then 0\n",
    "            else full_total_earnings_init end as full_total_earnings\n",
    "        from tabs\n",
    "    ),\n",
    "    old_tabs as (\n",
    "        select Empr_no, yr_quarter,\n",
    "        count(ssn) as num_employed_pre,\n",
    "        sum(hire) as num_hire_pre,\n",
    "        sum(sep) as num_sep_pre\n",
    "        from tr_tdc_2022.dbo.\"%s\"\n",
    "        group by Empr_no, yr_quarter\n",
    "    ),\n",
    "    hired as (\n",
    "    select tmone.Empr_no,\n",
    "    count(tmone.ssn) as new_hires_fullq\n",
    "    from tr_tdc_2022.dbo.%s tmone\n",
    "    join tr_tdc_2022.dbo.%s t on tmone.ssn = t.ssn and tmone.Empr_no = t.Empr_no\n",
    "    where tmone.hire = 1 and t.post_emp = 1\n",
    "    group by tmone.Empr_no\n",
    "    )\n",
    "    select joined.Empr_no, joined.yr_quarter, joined.num_employed, joined.total_earnings, joined.bottom_25_pctile, \n",
    "        joined.top_75_pctile, joined.full_num_employed, joined.full_total_earnings, CAST(joined.full_num_employed AS FLOAT)/CAST(joined.num_employed AS FLOAT) as ratio_fullq_total, \n",
    "        hired.new_hires_fullq,\n",
    "        case \n",
    "            when (old_tabs.num_employed_pre is null or old_tabs.num_employed_pre = 0) and joined.num_employed = 0 then 0\n",
    "            when old_tabs.num_employed_pre is null and joined.num_employed != 0 then 2\n",
    "            else (2.0 * (joined.num_employed - old_tabs.num_employed_pre))/(joined.num_employed + old_tabs.num_employed_pre) end as emp_rate,\n",
    "        case\n",
    "            when (old_tabs.num_hire_pre is null or old_tabs.num_hire_pre = 0) and joined.num_hire = 0 then 0\n",
    "            when old_tabs.num_hire_pre is null and joined.num_hire != 0 then 2\n",
    "            else (2.0 * (joined.num_hire - old_tabs.num_hire_pre))/(joined.num_hire + old_tabs.num_hire_pre) end as hire_rate, \n",
    "        case\n",
    "            when (old_tabs.num_sep_pre is null or old_tabs.num_sep_pre = 0) and joined.num_sep = 0 then 0\n",
    "            when old_tabs.num_sep_pre is null and joined.num_sep != 0 then 2\n",
    "            else (2.0 * (joined.num_sep - old_tabs.num_sep_pre))/(joined.num_sep + old_tabs.num_sep_pre) end as sep_rate\n",
    "    into tr_tdc_2022.dbo.%s\n",
    "    from joined\n",
    "    left join old_tabs on joined.Empr_no = old_tabs.Empr_no\n",
    "    left join hired on joined.Empr_no = hired.Empr_no\n",
    "    '\n",
    "    full_qry = sprintf(qry, quarters_sql_save[i], quarters_sql_save[i], \n",
    "                       quarters_sql_save[i-1], quarters_sql_save[i-1], \n",
    "                       quarters_sql_save[i], quarter_agg_save[i])\n",
    "    DBI::dbExecute(con, full_qry)\n",
    "    }"
   ]
  },
  {
   "cell_type": "markdown",
   "metadata": {},
   "source": [
    "### Example"
   ]
  },
  {
   "cell_type": "code",
   "execution_count": null,
   "metadata": {},
   "outputs": [],
   "source": [
    "# example for 2015\n",
    "qry <- \"\n",
    "with tb_2015 as(\n",
    "    select *, total_earnings/num_employed as avg_earnings, case \n",
    "        when full_num_employed = 0 then 0\n",
    "        else full_total_earnings/full_num_employed \n",
    "        end as full_avg_earnings\n",
    "    from tr_tdc_2022.dbo.q1_2015_agg\n",
    "    union all\n",
    "    select *, total_earnings/num_employed as avg_earnings, case \n",
    "        when full_num_employed = 0 then 0\n",
    "        else full_total_earnings/full_num_employed \n",
    "        end as full_avg_earnings\n",
    "    from tr_tdc_2022.dbo.q2_2015_agg\n",
    "    union all\n",
    "        select *, total_earnings/num_employed as avg_earnings, case \n",
    "        when full_num_employed = 0 then 0\n",
    "        else full_total_earnings/full_num_employed \n",
    "        end as full_avg_earnings\n",
    "    from tr_tdc_2022.dbo.q3_2015_agg\n",
    "    union all\n",
    "        select *, total_earnings/num_employed as avg_earnings, case \n",
    "        when full_num_employed = 0 then 0\n",
    "        else full_total_earnings/full_num_employed \n",
    "        end as full_avg_earnings\n",
    "    from tr_tdc_2022.dbo.q4_2015_agg\n",
    ")\n",
    "select top 5 Empr_no,\n",
    "count(*) as num_quarters, avg(num_employed) as avg_num_employed,\n",
    "avg(cast(total_earnings as bigint)) as avg_total_earnings,\n",
    "avg(bottom_25_pctile) as avg_bottom_25_pctile,\n",
    "avg(top_75_pctile) as avg_top_75_pctile,\n",
    "avg(full_num_employed) as avg_full_num_employed,\n",
    "avg(cast(full_total_earnings as bigint)) as avg_full_total_earnings,\n",
    "avg(emp_rate) as avg_emp_rate,\n",
    "avg(hire_rate) as avg_hire_rate,\n",
    "avg(sep_rate) as avg_sep_rate, \n",
    "avg(avg_earnings) as avg_avg_earnings,\n",
    "avg(full_avg_earnings) as avg_full_avg_earnings\n",
    "from tb_2015\n",
    "group by Empr_no\n",
    "\"\n",
    "dbGetQuery(con, qry)"
   ]
  },
  {
   "cell_type": "code",
   "execution_count": null,
   "metadata": {},
   "outputs": [],
   "source": [
    "# full code\n",
    "qry <- \"\n",
    "with tb_agg as(\n",
    "    select *, 2015 as year, total_earnings/num_employed as avg_earnings, case \n",
    "        when full_num_employed = 0 then 0\n",
    "        else full_total_earnings/full_num_employed \n",
    "        end as full_avg_earnings\n",
    "    from tr_tdc_2022.dbo.q1_2015_agg\n",
    "    union all\n",
    "    select *, 2015 as year, total_earnings/num_employed as avg_earnings, case \n",
    "        when full_num_employed = 0 then 0\n",
    "        else full_total_earnings/full_num_employed \n",
    "        end as full_avg_earnings\n",
    "    from tr_tdc_2022.dbo.q2_2015_agg\n",
    "    union all\n",
    "    select *, 2015 as year, total_earnings/num_employed as avg_earnings, case \n",
    "        when full_num_employed = 0 then 0\n",
    "        else full_total_earnings/full_num_employed \n",
    "        end as full_avg_earnings\n",
    "    from tr_tdc_2022.dbo.q3_2015_agg\n",
    "    union all\n",
    "    select *, 2015 as year, total_earnings/num_employed as avg_earnings, case \n",
    "        when full_num_employed = 0 then 0\n",
    "        else full_total_earnings/full_num_employed \n",
    "        end as full_avg_earnings\n",
    "    from tr_tdc_2022.dbo.q4_2015_agg\n",
    "    union all\n",
    "    select *, 2016 as year, total_earnings/num_employed as avg_earnings, case \n",
    "        when full_num_employed = 0 then 0\n",
    "        else full_total_earnings/full_num_employed \n",
    "        end as full_avg_earnings\n",
    "    from tr_tdc_2022.dbo.q1_2016_agg\n",
    "    union all\n",
    "    select *, 2016 as year, total_earnings/num_employed as avg_earnings, case \n",
    "        when full_num_employed = 0 then 0\n",
    "        else full_total_earnings/full_num_employed \n",
    "        end as full_avg_earnings\n",
    "    from tr_tdc_2022.dbo.q2_2016_agg\n",
    "    union all\n",
    "    select *, 2016 as year, total_earnings/num_employed as avg_earnings, case \n",
    "        when full_num_employed = 0 then 0\n",
    "        else full_total_earnings/full_num_employed \n",
    "        end as full_avg_earnings\n",
    "    from tr_tdc_2022.dbo.q3_2016_agg\n",
    "    union all\n",
    "    select *, 2016 as year, total_earnings/num_employed as avg_earnings, case \n",
    "        when full_num_employed = 0 then 0\n",
    "        else full_total_earnings/full_num_employed \n",
    "        end as full_avg_earnings\n",
    "    from tr_tdc_2022.dbo.q4_2016_agg\n",
    "    union all\n",
    "    select *, 2017 as year, total_earnings/num_employed as avg_earnings, case \n",
    "        when full_num_employed = 0 then 0\n",
    "        else full_total_earnings/full_num_employed \n",
    "        end as full_avg_earnings\n",
    "    from tr_tdc_2022.dbo.q1_2017_agg\n",
    "    union all\n",
    "    select *, 2017 as year, total_earnings/num_employed as avg_earnings, case \n",
    "        when full_num_employed = 0 then 0\n",
    "        else full_total_earnings/full_num_employed \n",
    "        end as full_avg_earnings\n",
    "    from tr_tdc_2022.dbo.q2_2017_agg\n",
    "    union all\n",
    "    select *, 2017 as year, total_earnings/num_employed as avg_earnings, case \n",
    "        when full_num_employed = 0 then 0\n",
    "        else full_total_earnings/full_num_employed \n",
    "        end as full_avg_earnings\n",
    "    from tr_tdc_2022.dbo.q3_2017_agg\n",
    "    union all\n",
    "    select *, 2017 as year, total_earnings/num_employed as avg_earnings, case \n",
    "        when full_num_employed = 0 then 0\n",
    "        else full_total_earnings/full_num_employed \n",
    "        end as full_avg_earnings\n",
    "    from tr_tdc_2022.dbo.q4_2017_agg\n",
    "    union all\n",
    "    select *, 2018 as year, total_earnings/num_employed as avg_earnings, case \n",
    "        when full_num_employed = 0 then 0\n",
    "        else full_total_earnings/full_num_employed \n",
    "        end as full_avg_earnings\n",
    "    from tr_tdc_2022.dbo.q1_2018_agg\n",
    "    union all\n",
    "    select *, 2018 as year, total_earnings/num_employed as avg_earnings, case \n",
    "        when full_num_employed = 0 then 0\n",
    "        else full_total_earnings/full_num_employed \n",
    "        end as full_avg_earnings\n",
    "    from tr_tdc_2022.dbo.q2_2018_agg\n",
    "    union all\n",
    "    select *, 2018 as year, total_earnings/num_employed as avg_earnings, case \n",
    "        when full_num_employed = 0 then 0\n",
    "        else full_total_earnings/full_num_employed \n",
    "        end as full_avg_earnings\n",
    "    from tr_tdc_2022.dbo.q3_2018_agg\n",
    "    union all\n",
    "    select *, 2018 as year, total_earnings/num_employed as avg_earnings, case \n",
    "        when full_num_employed = 0 then 0\n",
    "        else full_total_earnings/full_num_employed \n",
    "        end as full_avg_earnings\n",
    "    from tr_tdc_2022.dbo.q4_2018_agg\n",
    "    union all\n",
    "    select *, 2019 as year, total_earnings/num_employed as avg_earnings, case \n",
    "        when full_num_employed = 0 then 0\n",
    "        else full_total_earnings/full_num_employed \n",
    "        end as full_avg_earnings\n",
    "    from tr_tdc_2022.dbo.q1_2019_agg\n",
    "    union all\n",
    "    select *, 2019 as year, total_earnings/num_employed as avg_earnings, case \n",
    "        when full_num_employed = 0 then 0\n",
    "        else full_total_earnings/full_num_employed \n",
    "        end as full_avg_earnings\n",
    "    from tr_tdc_2022.dbo.q2_2019_agg\n",
    "    union all\n",
    "    select *, 2019 as year,total_earnings/num_employed as avg_earnings, case \n",
    "        when full_num_employed = 0 then 0\n",
    "        else full_total_earnings/full_num_employed \n",
    "        end as full_avg_earnings\n",
    "    from tr_tdc_2022.dbo.q3_2019_agg\n",
    "    union all\n",
    "    select *, 2019 as year, total_earnings/num_employed as avg_earnings, case \n",
    "        when full_num_employed = 0 then 0\n",
    "        else full_total_earnings/full_num_employed \n",
    "        end as full_avg_earnings\n",
    "    from tr_tdc_2022.dbo.q4_2019_agg\n",
    ")\n",
    "select Empr_no, year,\n",
    "count(*) as num_quarters, avg(num_employed) as avg_num_employed,\n",
    "avg(cast(total_earnings as bigint)) as avg_total_earnings,\n",
    "avg(bottom_25_pctile) as avg_bottom_25_pctile,\n",
    "avg(top_75_pctile) as avg_top_75_pctile,\n",
    "avg(full_num_employed) as avg_full_num_employed,\n",
    "avg(cast(full_total_earnings as bigint)) as avg_full_total_earnings,\n",
    "avg(emp_rate) as avg_emp_rate, \n",
    "avg(hire_rate) as avg_hire_rate, \n",
    "avg(sep_rate) as avg_sep_rate,\n",
    "avg(avg_earnings) as avg_avg_earnings,\n",
    "avg(full_avg_earnings) as avg_full_avg_earnings\n",
    "into tr_tdc_2022.dbo.employer_yearly_agg\n",
    "from tb_agg\n",
    "group by Empr_no, year\n",
    "\"\n",
    "DBI::dbExecute(con, qry)"
   ]
  },
  {
   "cell_type": "code",
   "execution_count": null,
   "metadata": {},
   "outputs": [],
   "source": [
    "qry <- \"\n",
    "select year, count(*)\n",
    "from tr_tdc_2022.dbo.employer_yearly_agg\n",
    "group by year \n",
    "\"\n",
    "dbGetQuery(con, qry)"
   ]
  },
  {
   "cell_type": "markdown",
   "metadata": {},
   "source": [
    "# Creating a consolidated query to combine our aggregated tables"
   ]
  },
  {
   "cell_type": "code",
   "execution_count": null,
   "metadata": {},
   "outputs": [],
   "source": [
    "string = \"\n",
    "select *, %s as year, \n",
    "total_earnings/num_employed as avg_earnings, \n",
    "case when full_num_employed = 0 then 0 else full_total_earnings/full_num_employed end as full_avg_earnings \n",
    "from tr_tdc_2022.dbo.%s_agg\""
   ]
  },
  {
   "cell_type": "code",
   "execution_count": null,
   "metadata": {},
   "outputs": [],
   "source": [
    "create_quarters <- function(start_yq, end_yq) {\n",
    "    d1 <- yq(start_yq)\n",
    "    d2 <- yq(end_yq)\n",
    "    \n",
    "    dat <- format(seq(d1, d2, by=\"quarter\"), \"%Y-%m\")\n",
    "    q_yr_input <- as.yearqtr(dat, \"%Y-%m\") #from zoo\n",
    "    df <- data.frame(q_yr_input)\n",
    "    names(df) <- c(\"yr_quarter\")\n",
    "\n",
    "    df$qyr_req <- paste0(tolower(substring(df$yr_quarter, 6, 7)), \"_\", substring(df$yr_quarter, 1, 4))\n",
    "    df$yrq = as.numeric(substring(q_yr_input, 1, 4))\n",
    "    df$title = paste0(df$qyr_req, \"_agg\")\n",
    "\n",
    "    return(df)\n",
    "}\n",
    "\n",
    "quarter_year <- create_quarters('2005 Q1', '2020 Q4')\n",
    "head(quarter_year)"
   ]
  },
  {
   "cell_type": "code",
   "execution_count": null,
   "metadata": {},
   "outputs": [],
   "source": [
    "end_qry = \"select Empr_no, year,\n",
    "count(*) as num_quarters, avg(num_employed) as avg_num_employed,\n",
    "avg(cast(total_earnings as bigint)) as avg_total_earnings,\n",
    "avg(bottom_25_pctile) as avg_bottom_25_pctile,\n",
    "avg(top_75_pctile) as avg_top_75_pctile,\n",
    "avg(full_num_employed) as avg_full_num_employed,\n",
    "avg(cast(full_total_earnings as bigint)) as avg_full_total_earnings,\n",
    "avg(emp_rate) as avg_emp_rate, \n",
    "avg(hire_rate) as avg_hire_rate, \n",
    "avg(sep_rate) as avg_sep_rate,\n",
    "avg(avg_earnings) as avg_avg_earnings,\n",
    "avg(full_avg_earnings) as avg_full_avg_earnings\n",
    "into tr_tdc_2022.dbo.employer_yearly_agg\n",
    "from tdc_comb\n",
    "group by Empr_no, year\""
   ]
  },
  {
   "cell_type": "code",
   "execution_count": null,
   "metadata": {},
   "outputs": [],
   "source": [
    "quarters = quarter_year$title\n",
    "yr = quarter_year$yrq\n",
    "\n",
    "start_string = \"with tdc_comb as ( \"\n",
    "for(i in 3:(length(quarter_year$title)-1)){\n",
    "    query =\"select *, %s as year, total_earnings/num_employed as avg_earnings, \n",
    "        case when full_num_employed = 0 then 0 else full_total_earnings/full_num_employed end as full_avg_earnings \n",
    "    from tr_tdc_2022.dbo.%s\"\n",
    "    full_qry = sprintf(query, yr[i], quarters[i])\n",
    "    if (i == 3) {\n",
    "        start_string = paste0(start_string, full_qry)        \n",
    "    }\n",
    "    else if (i == length(quarter_year$title)-1) {\n",
    "        start_string = paste0(start_string, '\\n UNION ALL \\n', full_qry, '\\n )', '\\n', end_qry)        \n",
    "    }\n",
    "    else {\n",
    "        start_string = paste0(start_string, ' \\n UNION ALL \\n', full_qry)\n",
    "    }\n",
    "}\n",
    "\n",
    "writeLines(start_string)\n"
   ]
  },
  {
   "cell_type": "code",
   "execution_count": null,
   "metadata": {},
   "outputs": [],
   "source": [
    "DBI::dbExecute(con, start_string)"
   ]
  },
  {
   "cell_type": "code",
   "execution_count": null,
   "metadata": {},
   "outputs": [],
   "source": []
  }
 ],
 "metadata": {
  "kernelspec": {
   "display_name": "R",
   "language": "R",
   "name": "ir"
  },
  "language_info": {
   "codemirror_mode": "r",
   "file_extension": ".r",
   "mimetype": "text/x-r-source",
   "name": "R",
   "pygments_lexer": "r",
   "version": "3.6.3"
  },
  "toc-autonumbering": false,
  "toc-showmarkdowntxt": false
 },
 "nbformat": 4,
 "nbformat_minor": 4
}
