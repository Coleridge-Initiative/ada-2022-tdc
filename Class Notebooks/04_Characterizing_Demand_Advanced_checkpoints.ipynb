{
 "cells": [
  {
   "cell_type": "markdown",
   "metadata": {},
   "source": [
    "# Introduction:\n",
    "\n",
    "The purpose of this checkpoint notebook is to apply the methods we used in `04_Characterizing_Demand_Advanced.ipynb` to your cohort by utilizing a measure of your choice. \n",
    "\n",
    "In the checkpoint notebooks for `02_Creating_a_cohort.ipynb`, we asked you to create and save your cohort as an SQL table. You will be utilizing the cohort you created as part of this checkpoint notebook. \n",
    "\n",
    "> Note: This checkpoint notebook has been created by keeping a TANF exit cohort in mind. We encourage you to reach out to your team facilitator to learn more about the methods you can use to Characterize Demand if your cohort focuses on TANF entry.\n",
    "\n",
    "At each checkpoint you will be replacing the `___` with the appropriate variable, function or R code snippet. \n",
    "\n",
    "Participants are encouraged to attempt the checkpoints on their own. Having said that, hints and suggested solutions are provided and these can be accessed by utilizing the following code:\n",
    "\n",
    "Hints: `check_#.hint()`\n",
    "\n",
    "Solutions: `check_#.solution()` – your solutions may vary based on how you define your cohort. We have shared our suggested solutions.\n",
    "\n",
    "In both cases, # refers to the checkpoint number. For example: we can access the hint and solution for Checkpoint 2 using: `check_2.hint()` and `check_2.solution` respectively. Note: Codes for accessing hints and solutions are currently commented out – in order for these to run, we would need to uncomment them first. \n"
   ]
  },
  {
   "cell_type": "code",
   "execution_count": null,
   "metadata": {},
   "outputs": [],
   "source": [
    "options(warn=-1)\n",
    "# Database interaction imports\n",
    "suppressMessages(library(odbc))\n",
    "\n",
    "# For data manipulation/visualization\n",
    "suppressMessages(library(tidyverse))\n",
    "\n",
    "# For faster date conversions\n",
    "suppressMessages(library(lubridate))\n",
    "\n",
    "# Use percent() function\n",
    "suppressMessages(library(scales))\n",
    "\n",
    "# clustering\n",
    "suppressMessages(library(cluster))\n",
    "options(warn=0)\n",
    "\n",
    "# set seed to ensure work is reproducible because k-means has random starting points\n",
    "set.seed(1)\n",
    "\n",
    "source('04_Characterizing_Demand_Advanced_checkpoints_hints_solutions.txt')"
   ]
  },
  {
   "cell_type": "code",
   "execution_count": null,
   "metadata": {},
   "outputs": [],
   "source": [
    "# Connect to the server\n",
    "con <- DBI::dbConnect(odbc::odbc(),\n",
    "                     Driver = \"SQL Server\",\n",
    "                     Server = \"msssql01.c7bdq4o2yhxo.us-gov-west-1.rds.amazonaws.com\",\n",
    "                     Trusted_Connection = \"True\")"
   ]
  },
  {
   "cell_type": "code",
   "execution_count": null,
   "metadata": {},
   "outputs": [],
   "source": [
    "# Code adjusting overall graph attributes\n",
    "# For easier reading, increase base font size\n",
    "theme_set(theme_gray(base_size = 16))\n",
    "# Adjust repr.plot.width and repr.plot.height to change the size of graphs\n",
    "options(repr.plot.width = 12, repr.plot.height = 8)"
   ]
  },
  {
   "cell_type": "markdown",
   "metadata": {},
   "source": [
    "## Checkpoint 1: Reading in the year of your interest\n",
    "\n",
    "For this checkpoint, we ask you to update the code below with the year corresponding to your cohort. For example: If the cohort that you created as part of the checkpoints notebook for `02_Creating_a_cohort.ipynb` was for TANF recipients who exited TANF in '2017 Q2', you will update the code below with year = 2017."
   ]
  },
  {
   "cell_type": "code",
   "execution_count": null,
   "metadata": {},
   "outputs": [],
   "source": [
    "# read aggregated employer data for a specific year\n",
    "query <- \"select *\n",
    "from tr_tdc_2022.dbo.employer_yearly_agg\n",
    "where year = ___\"\n",
    "\n",
    "emp <- dbGetQuery(con, query)\n",
    "\n",
    "# see employers\n",
    "head(emp)"
   ]
  },
  {
   "cell_type": "code",
   "execution_count": null,
   "metadata": {},
   "outputs": [],
   "source": [
    "# hint\n",
    "# check_1.hint()"
   ]
  },
  {
   "cell_type": "code",
   "execution_count": null,
   "metadata": {},
   "outputs": [],
   "source": [
    "# suggested solution\n",
    "# check_1.solution()"
   ]
  },
  {
   "cell_type": "code",
   "execution_count": null,
   "metadata": {},
   "outputs": [],
   "source": [
    "# do.call constructs and executes a function call from a name or a function and a list of arguments to be passed to it.\n",
    "# we call the order function on all of emp's columns\n",
    "emp <- emp[do.call(order, emp), ]"
   ]
  },
  {
   "cell_type": "code",
   "execution_count": null,
   "metadata": {},
   "outputs": [],
   "source": [
    "# Remove features without explanatory power\n",
    "emp_ml <- emp %>%\n",
    "    select(-c(Empr_no, year, naics_code, adj_naics_2))"
   ]
  },
  {
   "cell_type": "markdown",
   "metadata": {},
   "source": [
    "### Examine Scales Across Variables\n",
    "\n",
    "Use the `str` function to see if there are any categorical variables that remain in your data frame (now called `emp_ml`)."
   ]
  },
  {
   "cell_type": "code",
   "execution_count": null,
   "metadata": {},
   "outputs": [],
   "source": [
    "# Check data type of all variables - make sure all of them are numeric\n",
    "str(emp_ml)"
   ]
  },
  {
   "cell_type": "markdown",
   "metadata": {},
   "source": [
    "Convert all variables to a **numeric** type and scale them."
   ]
  },
  {
   "cell_type": "code",
   "execution_count": null,
   "metadata": {},
   "outputs": [],
   "source": [
    "# convert all numeric variables to numeric type otherwise integer64 won't scale using sapply\n",
    "emp_ml_num <- emp_ml %>%\n",
    "    sapply(as.numeric)"
   ]
  },
  {
   "cell_type": "code",
   "execution_count": null,
   "metadata": {},
   "outputs": [],
   "source": [
    "# Scale the features since variables like avg_emp_rate are much smaller than avg_total_earnings\n",
    "emp_ml_scale <- scale(emp_ml_num)\n",
    "\n",
    "# View first rows after scaling\n",
    "emp_ml_scale %>% \n",
    "   head()"
   ]
  },
  {
   "cell_type": "code",
   "execution_count": null,
   "metadata": {},
   "outputs": [],
   "source": [
    "dim(emp_ml_scale)"
   ]
  },
  {
   "cell_type": "markdown",
   "metadata": {},
   "source": [
    "### Analyze Missingness\n",
    "\n",
    "If an employer has missing information in any of the columns, the row will be dropped in the clustering method.\n",
    "\n",
    "> Note that you should **never remove data** if possible - in a real world setting you would likely want to fill any missing data with an imputation method or a baseline assumption."
   ]
  },
  {
   "cell_type": "code",
   "execution_count": null,
   "metadata": {},
   "outputs": [],
   "source": [
    "# Check number of rows (where each row is a unique employer/year combination)\n",
    "nrow(emp_ml_scale)"
   ]
  },
  {
   "cell_type": "code",
   "execution_count": null,
   "metadata": {},
   "outputs": [],
   "source": [
    "# na.omit will remove any rows with any NA values\n",
    "emp_ml_scale <- na.omit(emp_ml_scale)"
   ]
  },
  {
   "cell_type": "code",
   "execution_count": null,
   "metadata": {},
   "outputs": [],
   "source": [
    "# Check number of rows after dropping rows with any NA values\n",
    "nrow(emp_ml_scale)"
   ]
  },
  {
   "cell_type": "markdown",
   "metadata": {},
   "source": [
    "## Elbow Method\n",
    "\n",
    "Utilize Elbow Method to choose the appropriate number of clusters, *k*."
   ]
  },
  {
   "cell_type": "code",
   "execution_count": null,
   "metadata": {},
   "outputs": [],
   "source": [
    "# function to compute total within-cluster sum of square\n",
    "# we can run this for multiple values of k – showcased later in this notebook\n",
    "wss <- function(k) {\n",
    "    kmeans(emp_ml_scale, centers=k, nstart=1)$tot.withinss\n",
    "}"
   ]
  },
  {
   "cell_type": "markdown",
   "metadata": {},
   "source": [
    "Utilize `map_dbl` to run the `wss` function for each value of k. "
   ]
  },
  {
   "cell_type": "code",
   "execution_count": null,
   "metadata": {},
   "outputs": [],
   "source": [
    "# compute and plot wss for k =1 to k = 15\n",
    "k.values <- 1:15\n",
    "\n",
    "# extract wss values for each k\n",
    "wss_values <- map_dbl(k.values, wss)\n"
   ]
  },
  {
   "cell_type": "markdown",
   "metadata": {},
   "source": [
    "Once you have `wss_values`, you can plot these using the code below:"
   ]
  },
  {
   "cell_type": "code",
   "execution_count": null,
   "metadata": {},
   "outputs": [],
   "source": [
    "wss_df <- data.frame(wss_values, k.values)"
   ]
  },
  {
   "cell_type": "code",
   "execution_count": null,
   "metadata": {},
   "outputs": [],
   "source": [
    "# plotting wss_df\n",
    "wss_df %>%\n",
    "    ggplot(aes(x=k.values, y=wss_values)) + \n",
    "    geom_line() + \n",
    "    geom_point()"
   ]
  },
  {
   "cell_type": "markdown",
   "metadata": {},
   "source": [
    "## Checkpoint 2: Choosing *k*\n",
    "Based on the plot above, choose the appropriate value for *k*. Try choosing a number around the inflection point, where the change in SSE becomes negligible. Store this value by updating the filling in the blank below with your choice of *k*."
   ]
  },
  {
   "cell_type": "code",
   "execution_count": null,
   "metadata": {},
   "outputs": [],
   "source": [
    "k <- __"
   ]
  },
  {
   "cell_type": "code",
   "execution_count": null,
   "metadata": {},
   "outputs": [],
   "source": [
    "# hint\n",
    "# check_2.hint()"
   ]
  },
  {
   "cell_type": "code",
   "execution_count": null,
   "metadata": {},
   "outputs": [],
   "source": [
    "# solution\n",
    "# check_2.solution()"
   ]
  },
  {
   "cell_type": "markdown",
   "metadata": {},
   "source": [
    "### Try Model\n",
    "\n",
    "Now that you have chosen **k** using the elbow method, initialize the kmeans model on the scaled employer measures using this value. "
   ]
  },
  {
   "cell_type": "code",
   "execution_count": null,
   "metadata": {},
   "outputs": [],
   "source": [
    "# Initialize the model and run on emp_ml_scale with centers = 4\n",
    "k_means <- kmeans(emp_ml_scale, centers = k, nstart = 20)"
   ]
  },
  {
   "cell_type": "markdown",
   "metadata": {},
   "source": [
    "The output of the `kmeans` function returns the following components:"
   ]
  },
  {
   "cell_type": "code",
   "execution_count": null,
   "metadata": {},
   "outputs": [],
   "source": [
    "names(k_means)"
   ]
  },
  {
   "cell_type": "markdown",
   "metadata": {},
   "source": [
    "Check the size of each cluster by using the code below:"
   ]
  },
  {
   "cell_type": "code",
   "execution_count": null,
   "metadata": {},
   "outputs": [],
   "source": [
    "# see size of cluster\n",
    "k_means$size"
   ]
  },
  {
   "cell_type": "markdown",
   "metadata": {},
   "source": [
    "### Describe Features across Clusters"
   ]
  },
  {
   "cell_type": "markdown",
   "metadata": {},
   "source": [
    "Select out the `naics_code` and `adj_naics_2` columns."
   ]
  },
  {
   "cell_type": "code",
   "execution_count": null,
   "metadata": {},
   "outputs": [],
   "source": [
    "emp_few_cols <- emp %>%\n",
    "    select(-c(naics_code, adj_naics_2))"
   ]
  },
  {
   "cell_type": "markdown",
   "metadata": {},
   "source": [
    "Remove missing values and create a variable `k.cluster` that allows you to identify the cluster each employer falls in. "
   ]
  },
  {
   "cell_type": "code",
   "execution_count": null,
   "metadata": {},
   "outputs": [],
   "source": [
    "# remove missing values (none here)\n",
    "emp_few_cols <- na.omit(emp_few_cols) \n",
    "\n",
    "# add cluster number to the original dataframe\n",
    "frame_4 <- emp_few_cols %>% \n",
    "    mutate(k.cluster = k_means$cluster)  \n"
   ]
  },
  {
   "cell_type": "markdown",
   "metadata": {},
   "source": [
    "### Summarizing Clusters\n",
    "\n",
    "Summarize the clusters based on the provided employer measures. "
   ]
  },
  {
   "cell_type": "markdown",
   "metadata": {},
   "source": [
    "#### Mean\n",
    "\n",
    "Use the mean as the summary statistic of interest to summarize your clusters. "
   ]
  },
  {
   "cell_type": "code",
   "execution_count": null,
   "metadata": {},
   "outputs": [],
   "source": [
    "# remove empr_nbr, year, and naics codes related columns\n",
    "frame_4_few_cols <- frame_4 %>%\n",
    "    select(-c(Empr_no, year))\n",
    "\n",
    "# summarize and add in sizes of each cluster\n",
    "frame_4_few_cols %>%\n",
    "    group_by(k.cluster) %>%\n",
    "    # getting averages for each cluster\n",
    "    # add suffix \"by_employer\" to each summarize variable\n",
    "    summarise(across(everything(), # adds the suffix across every column in our dataframe\n",
    "                     list(by_employer=mean))) %>%\n",
    "    mutate(\n",
    "        size = k_means$size\n",
    "    ) %>%\n",
    "    # relocates the size column after the k.cluster columns\n",
    "    relocate(size, .after=k.cluster)"
   ]
  },
  {
   "cell_type": "markdown",
   "metadata": {},
   "source": [
    "#### Standard Deviation\n",
    "Use the standard deviation as the summary statistic of interest to summarize your clusters. "
   ]
  },
  {
   "cell_type": "code",
   "execution_count": null,
   "metadata": {},
   "outputs": [],
   "source": [
    "# summarize and add in sizes of each cluster\n",
    "frame_4_few_cols %>%\n",
    "    group_by(k.cluster) %>%\n",
    "    # getting averages for each cluster\n",
    "    # add suffix \"by_employer\" to each summarize variable\n",
    "    summarise(across(everything(), # adds the suffix across every column in our dataframe\n",
    "                     list(by_employer=sd))) %>%\n",
    "    mutate(\n",
    "        size = k_means$size\n",
    "    ) %>%\n",
    "    # relocates the size column after the k.cluster columns\n",
    "    relocate(size, .after=k.cluster)"
   ]
  },
  {
   "cell_type": "markdown",
   "metadata": {},
   "source": [
    "## Checkpoint 3: Linking to cohort \n",
    "\n",
    "Update the code below to read in your cohort joined with Indiana's wage records. \n",
    "\n"
   ]
  },
  {
   "cell_type": "code",
   "execution_count": null,
   "metadata": {},
   "outputs": [],
   "source": [
    "# read earnings of cohort into R subset to 2017 jobs\n",
    "qry <- \"SELECT nb.*, wr.Empr_no, wr.Wage, wr.yr_quarter\n",
    "    FROM (tr_tdc_2022.dbo.____ nb\n",
    "    LEFT JOIN \n",
    "    (SELECT SSN, Empr_no, yr_quarter, Wage \n",
    "    FROM tr_tdc_2022.dbo.wages_tanf\n",
    "    WHERE yr_quarter IN ('____', '____', '____', '____')\n",
    "    ) wr\n",
    "    ON wr.SSN=nb.SSN)\"\n",
    "\n",
    "df_wages <- dbGetQuery(con, qry)"
   ]
  },
  {
   "cell_type": "code",
   "execution_count": null,
   "metadata": {},
   "outputs": [],
   "source": [
    "# hint\n",
    "# check_3.hint()"
   ]
  },
  {
   "cell_type": "code",
   "execution_count": null,
   "metadata": {},
   "outputs": [],
   "source": [
    "# solution\n",
    "# check_3.solution()"
   ]
  },
  {
   "cell_type": "markdown",
   "metadata": {},
   "source": [
    "Link the `df_wages` dataframe with `emp` to identify what clusters the employees in your cohort fall into. "
   ]
  },
  {
   "cell_type": "code",
   "execution_count": null,
   "metadata": {},
   "outputs": [],
   "source": [
    "# add cluster number to the original dataframe\n",
    "frame_4 <- emp %>%                     \n",
    "    mutate(k.cluster = k_means$cluster)  \n",
    "\n",
    "# Join wages table with frame_4 clustering results\n",
    "df_wages_clus <- df_wages %>%\n",
    "    inner_join(frame_4, by='Empr_no')"
   ]
  },
  {
   "cell_type": "markdown",
   "metadata": {},
   "source": [
    "#### Number of Employers by cluster"
   ]
  },
  {
   "cell_type": "code",
   "execution_count": null,
   "metadata": {},
   "outputs": [],
   "source": [
    "# see number of employers by cluster that employed someone in the cohort\n",
    "df_wages_clus %>%\n",
    "    group_by(k.cluster) %>%\n",
    "    summarise(emp_cohort = n_distinct(Empr_no))"
   ]
  },
  {
   "cell_type": "markdown",
   "metadata": {},
   "source": [
    "#### Number of Employers by cluster and quarter"
   ]
  },
  {
   "cell_type": "code",
   "execution_count": null,
   "metadata": {},
   "outputs": [],
   "source": [
    "# see number of employers by cluster that employed someone in the cohort\n",
    "df_wages_clus %>%\n",
    "    group_by(k.cluster, yr_quarter) %>%\n",
    "    summarise(emp_cohort = n_distinct(Empr_no))"
   ]
  },
  {
   "cell_type": "markdown",
   "metadata": {},
   "source": [
    "#### Comparing within cohort employers to all employers"
   ]
  },
  {
   "cell_type": "code",
   "execution_count": null,
   "metadata": {},
   "outputs": [],
   "source": [
    "# compare within cohort employers to all employers in original clusters\n",
    "# Get number of unique employers per cluster in the full dataframe (all employers)\n",
    "frame_4 %>%\n",
    "    group_by(k.cluster) %>%\n",
    "    summarise(emp_all = n_distinct(Empr_no))"
   ]
  },
  {
   "cell_type": "code",
   "execution_count": null,
   "metadata": {},
   "outputs": [],
   "source": [
    "# compare with percentages\n",
    "cohort_emp <- df_wages_clus %>%\n",
    "    group_by(k.cluster) %>%\n",
    "    summarise(emp_cohort = n_distinct(Empr_no))\n",
    "\n",
    "emp_all <- frame_4 %>%\n",
    "    group_by(k.cluster) %>%\n",
    "    summarise(emp_all = n_distinct(Empr_no))\n",
    "\n",
    "# Join cohort employers with all employers, and find percentage\n",
    "cohort_emp %>%\n",
    "    inner_join(emp_all, by = 'k.cluster') %>%\n",
    "    mutate(percentage = (emp_cohort / emp_all) * 100)"
   ]
  }
 ],
 "metadata": {
  "kernelspec": {
   "display_name": "R",
   "language": "R",
   "name": "ir"
  },
  "language_info": {
   "codemirror_mode": "r",
   "file_extension": ".r",
   "mimetype": "text/x-r-source",
   "name": "R",
   "pygments_lexer": "r",
   "version": "4.0.3"
  }
 },
 "nbformat": 4,
 "nbformat_minor": 4
}
