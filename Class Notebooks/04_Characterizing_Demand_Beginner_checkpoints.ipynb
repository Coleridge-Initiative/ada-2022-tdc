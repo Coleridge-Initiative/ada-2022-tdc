{
 "cells": [
  {
   "cell_type": "markdown",
   "metadata": {},
   "source": [
    "<center><br><br>\n",
    "    <h4>TANF Data Collaborative </h4>\n",
    "    <h4>Applied Data Analytics Training | Spring 2022</h4>\n",
    "    <h1>Characterizing Demand: Descriptive Analysis Checkpoints</h1>\n",
    "</center>\n",
    "<center>\n",
    "    <span style=\"font-size: 1.5em;\">\n",
    "        <a href='https://www.coleridgeinitiative.org'>Coleridge Initiative</a>\n",
    "    </span>\n",
    "    <center>Maryah Garner, Allison Nunez, Rukhshan Arif Mian, Benjamin Feder</center>\n",
    "</center>\n",
    "\n",
    "<br>\n",
    "\n",
    "***"
   ]
  },
  {
   "cell_type": "markdown",
   "metadata": {},
   "source": [
    "# Introduction:\n",
    "\n",
    "The purpose of this checkpoint notebook is to apply the methods we used in `04_Characterizing_Demand_Beginner.ipynb` to your cohort by utilizing a measure of your choice. \n",
    "\n",
    "In the checkpoint notebooks for `02_Creating_a_cohort.ipynb`, we asked you to create and save your cohort as an SQL table. You will be utilizing the cohort you created as part of this checkpoint notebook. \n",
    "\n",
    "> Note: This checkpoint notebook has been created by keeping a TANF exit cohort in mind. We encourage you to reach out to your team facilitator to learn more about the methods you can use to Characterize Demand if your cohort focuses on TANF entry.\n",
    "\n",
    "At each checkpoint you will be replacing the `___` with the appropriate variable, function or R code snippet. \n",
    "\n",
    "Participants are encouraged to attempt the checkpoints on their own. Having said that, hints and suggested solutions are provided and these can be accessed by utilizing the following code:\n",
    "\n",
    "Hints: `check_#.hint()`\n",
    "\n",
    "Solutions: `check_#.solution()` – your solutions may vary based on how you define your cohort. We have shared our suggested solutions.\n",
    "\n",
    "In both cases, # refers to the checkpoint number. For example: we can access the hint and solution for Checkpoint 2 using: `check_2.hint()` and `check_2.solution` respectively. Note: Codes for accessing hints and solutions are currently commented out – in order for these to run, we would need to uncomment them first. \n"
   ]
  },
  {
   "cell_type": "markdown",
   "metadata": {},
   "source": [
    "# Setting up workspace"
   ]
  },
  {
   "cell_type": "markdown",
   "metadata": {},
   "source": [
    "#### Read in Libraries"
   ]
  },
  {
   "cell_type": "code",
   "execution_count": null,
   "metadata": {},
   "outputs": [],
   "source": [
    "# Switching off warnings\n",
    "options(warn = -1)\n",
    "\n",
    "# Database interaction imports\n",
    "suppressMessages(library(odbc))\n",
    "\n",
    "# data manipulation/visualization\n",
    "suppressMessages(library(tidyverse))\n",
    "\n",
    "# scaling data, calculating percentages, overriding default graphing\n",
    "suppressMessages(library(scales))\n",
    "\n",
    "# for as.yearqtr()\n",
    "suppressMessages(library(zoo))\n",
    "\n",
    "#Switching on warnings\n",
    "options(warn = 0)\n",
    "\n",
    "source('04_Characterizing_Demand_Beginner_checkpoints_hints_solutions.txt')"
   ]
  },
  {
   "cell_type": "markdown",
   "metadata": {},
   "source": [
    "#### Establishing Database Connection"
   ]
  },
  {
   "cell_type": "code",
   "execution_count": null,
   "metadata": {},
   "outputs": [],
   "source": [
    "# Connect to the database\n",
    "con <- DBI::dbConnect(odbc::odbc(),\n",
    "                     Driver = \"SQL Server\",\n",
    "                     Server = \"msssql01.c7bdq4o2yhxo.us-gov-west-1.rds.amazonaws.com\",\n",
    "                     Trusted_Connection = \"True\")"
   ]
  },
  {
   "cell_type": "markdown",
   "metadata": {},
   "source": [
    "# Reading in Data"
   ]
  },
  {
   "cell_type": "markdown",
   "metadata": {},
   "source": [
    "#### Employer Measures"
   ]
  },
  {
   "cell_type": "code",
   "execution_count": null,
   "metadata": {},
   "outputs": [],
   "source": [
    "qry <- \"\n",
    "SELECT * \n",
    "FROM tr_tdc_2022.dbo.employer_yearly_agg\n",
    "\"\n",
    "\n",
    "employer_measures <- dbGetQuery(con, qry)\n",
    "\n",
    "head(employer_measures)"
   ]
  },
  {
   "cell_type": "markdown",
   "metadata": {},
   "source": [
    "## Checkpoint 1\n",
    "\n",
    "For this checkpoint, we ask you to pull in data from the cohort you created in `02_Creating_a_cohort_checkpoints.ipynb` notebook or the cohort you have created for your research project. You will also need to fill in the year-quarter (`yr_quarter`) value(s) for the first quarter after exit."
   ]
  },
  {
   "cell_type": "markdown",
   "metadata": {},
   "source": [
    "#### Linked Cohort-Wages data (first quarter after exit)"
   ]
  },
  {
   "cell_type": "code",
   "execution_count": null,
   "metadata": {},
   "outputs": [],
   "source": [
    "qry <- \"SELECT nb.ssn, wr.Empr_no, wr.Year, wr.Quarter, wr.Wage, wr.yr_quarter \n",
    "    FROM \n",
    "    tr_tdc_2022.dbo.____ nb\n",
    "    INNER JOIN \n",
    "    (\n",
    "        select SSN, Empr_no, Year, Quarter, Wage, yr_quarter\n",
    "        FROM tr_tdc_2022.dbo.wages_tanf\n",
    "        WHERE yr_quarter IN ('___')\n",
    "    ) wr\n",
    "    ON wr.SSN=nb.SSN\n",
    "\"\n",
    "\n",
    "cohort_wages_empr <- dbGetQuery(con,qry)"
   ]
  },
  {
   "cell_type": "code",
   "execution_count": null,
   "metadata": {},
   "outputs": [],
   "source": [
    "# hint\n",
    "# check_1.hint()"
   ]
  },
  {
   "cell_type": "code",
   "execution_count": null,
   "metadata": {},
   "outputs": [],
   "source": [
    "# solution\n",
    "# check_1.solution()"
   ]
  },
  {
   "cell_type": "markdown",
   "metadata": {},
   "source": [
    "## Checkpoint 2: \n",
    "\n",
    "In this checkpoint, we ask you to update the code below to read in your cohort and link it with wage records for the year-quarter value(s) of your interest. You will need to pull in data for a specific interval over which you intend on doing your analysis. We have included 4 blank spaces for you to fill in this data but feel free to pull as many year-quarter (`yr_quarter`) values as necessary for your analysis. "
   ]
  },
  {
   "cell_type": "markdown",
   "metadata": {},
   "source": [
    "#### Cohort Wages \n",
    "\n",
    "We use the following code to reading in cohort wages for the first 4 quarters (one year) after exit. This is similar to what we saw in the `03_Linkage_and_Longitudinal_Analysis` notebooks. "
   ]
  },
  {
   "cell_type": "code",
   "execution_count": null,
   "metadata": {},
   "outputs": [],
   "source": [
    "qry <- \"SELECT nb.ssn, wr.Empr_no, wr.Year, wr.Quarter, wr.Wage, wr.yr_quarter \n",
    "    FROM \n",
    "    tr_tdc_2022.dbo.___ nb\n",
    "    INNER JOIN \n",
    "    (\n",
    "        select SSN, Empr_no, Year, Quarter, Wage, yr_quarter\n",
    "        FROM tr_tdc_2022.dbo.wages_tanf\n",
    "        WHERE yr_quarter IN ('____', '____', '____', '____')\n",
    "    ) wr\n",
    "    ON wr.SSN=nb.SSN\n",
    "\"\n",
    "\n",
    "cohort_wages <- dbGetQuery(con, qry)\n",
    "\n",
    "head(cohort_wages)"
   ]
  },
  {
   "cell_type": "code",
   "execution_count": null,
   "metadata": {},
   "outputs": [],
   "source": [
    "# hint\n",
    "# check_2.hint()"
   ]
  },
  {
   "cell_type": "code",
   "execution_count": null,
   "metadata": {},
   "outputs": [],
   "source": [
    "# solution\n",
    "# check_2.solution()"
   ]
  },
  {
   "cell_type": "markdown",
   "metadata": {},
   "source": [
    "# Employer Measures \n",
    "\n",
    "In this notebook, you will select an employer measure with which you will identify groups of employers and then identify how those groups correspond with an employment outcome of interest. \n",
    "\n"
   ]
  },
  {
   "cell_type": "markdown",
   "metadata": {},
   "source": [
    "## Checkpoint 3: Selecting Employer Measure\n",
    "\n",
    "Please select one employer measure from the following list:\n",
    "\n",
    "**Firm characteristics**:\n",
    "\n",
    "- Total Payroll\n",
    "- Average earnings per employee \n",
    "- Average full quarter earnings per employee\n",
    "- Earnings per employee at 25th percentile\n",
    "- Earnings per employee at 75th percentile\n",
    "- Total full quarter employment\n",
    "- Total employment\n",
    "\n",
    "**Opportunity**:\n",
    "\n",
    "- Number of new hires\n",
    "- Employment growth rate\n",
    "- Hiring growth rate\n",
    "\n",
    "**Stability**:\n",
    "- Separation growth rate (this is calculated using the same formula as above)\n",
    "- Number of new hires who become full quarter employees (hired in t-1 whom we see in t+1)\n",
    "- Ratio of full quarter employees to total number of employees "
   ]
  },
  {
   "cell_type": "code",
   "execution_count": null,
   "metadata": {},
   "outputs": [],
   "source": [
    "employer_measures <- employer_measures %>%\n",
    "    mutate(measure = ____)"
   ]
  },
  {
   "cell_type": "code",
   "execution_count": null,
   "metadata": {},
   "outputs": [],
   "source": [
    "# hint\n",
    "# check_3.hint()"
   ]
  },
  {
   "cell_type": "code",
   "execution_count": null,
   "metadata": {},
   "outputs": [],
   "source": [
    "# solution\n",
    "# check_3.solution()"
   ]
  },
  {
   "cell_type": "markdown",
   "metadata": {},
   "source": [
    "## Checkpoint 4: Keeping employers who hired from your cohort\n",
    "\n",
    "In this checkpoint, we ask you to fill in the blank below with the year for which you want to keep the employer measures for. We recommend the year prior to your cohort selection."
   ]
  },
  {
   "cell_type": "code",
   "execution_count": null,
   "metadata": {},
   "outputs": [],
   "source": [
    "select_year = 2017"
   ]
  },
  {
   "cell_type": "code",
   "execution_count": null,
   "metadata": {},
   "outputs": [],
   "source": [
    "# hint\n",
    "# check_4.hint()"
   ]
  },
  {
   "cell_type": "code",
   "execution_count": null,
   "metadata": {},
   "outputs": [],
   "source": [
    "# solution\n",
    "# check_4.solution()"
   ]
  },
  {
   "cell_type": "code",
   "execution_count": null,
   "metadata": {},
   "outputs": [],
   "source": [
    "employer_measures_cohort <- employer_measures %>%\n",
    "    # filtering on employer number\n",
    "    filter(Empr_no %in% cohort_wages_empr$Empr_no, \n",
    "    # filtering on year\n",
    "           year == select_year)\n",
    "\n",
    "employer_measures_cohort %>%\n",
    "    summarize(unique_emp = n_distinct(Empr_no))"
   ]
  },
  {
   "cell_type": "markdown",
   "metadata": {},
   "source": [
    "\n",
    "#### Summary Statistics"
   ]
  },
  {
   "cell_type": "code",
   "execution_count": null,
   "metadata": {},
   "outputs": [],
   "source": [
    "# getting the mean, median, standard deviation, min and max values for your measure of interest\n",
    "employer_measures_cohort %>%\n",
    "    summarize(mean_emp = mean(measure), \n",
    "             median_emp = median(measure), \n",
    "             sd_emp = sd(measure), \n",
    "             min_emp = min(measure), \n",
    "             max_emp = max(measure))"
   ]
  },
  {
   "cell_type": "markdown",
   "metadata": {},
   "source": [
    "Next, you will construct the summary statistics for all employers who did not employ individuals from your cohort you can compare the statistics to those you created for employers who employed individuals from your cohort. "
   ]
  },
  {
   "cell_type": "code",
   "execution_count": null,
   "metadata": {},
   "outputs": [],
   "source": [
    "employer_measures %>%\n",
    "    filter(!Empr_no %in% cohort_wages_empr$Empr_no, \n",
    "                  year == select_year) %>%\n",
    "      summarize(mean_emp = mean(measure), \n",
    "             median_emp = median(measure), \n",
    "             sd_emp = sd(measure), \n",
    "             min_emp = min(measure), \n",
    "             max_emp = max(measure)) "
   ]
  },
  {
   "cell_type": "markdown",
   "metadata": {},
   "source": [
    "## Differentiating Employers\n",
    "In this section, you will identify High, Medium and Low growth employers. These are defined as follows:\n",
    "\n",
    "- High: >= 75th percentile of `measure`\n",
    "- Medium: > 25th percentile and < 75th percentile of `measure`\n",
    "- Low: <= 25th percentile of `measure`\n",
    "\n",
    "Use R's `quantile` function to get the 25th and 75th percentiles for `measure` and assign these to `p25` and `p75` respectively. If you have different groupings in mind, please feel free to do so as it is difficult to incorporate that into a checkpoint. "
   ]
  },
  {
   "cell_type": "code",
   "execution_count": null,
   "metadata": {},
   "outputs": [],
   "source": [
    "p <- quantile(employer_measures$measure,\n",
    "              probs = c(.25, .75))\n",
    "\n",
    "p"
   ]
  },
  {
   "cell_type": "markdown",
   "metadata": {},
   "source": [
    "The first value corresponds to 25th percentile and the second value corresponds to the 75th percentile. "
   ]
  },
  {
   "cell_type": "code",
   "execution_count": null,
   "metadata": {},
   "outputs": [],
   "source": [
    "# extracting 25th and 75th percentile \n",
    "p25 <- p[1]\n",
    "p75 <- p[2]"
   ]
  },
  {
   "cell_type": "markdown",
   "metadata": {},
   "source": [
    "Define a categorical variable, `measure_cat` by taking into account the 25th and 75th percentiles. "
   ]
  },
  {
   "cell_type": "code",
   "execution_count": null,
   "metadata": {},
   "outputs": [],
   "source": [
    "employer_measures <- employer_measures %>%\n",
    "    mutate(measure_cat = case_when(\n",
    "                                # Low: <= 25th percentile\n",
    "                                measure <= p25 ~ \"Low\", \n",
    "                                # Medium: > 25th and < 75th percentile\n",
    "                                measure > p25 & measure < p75 ~ \"Medium\", \n",
    "                                # High: >= 75th percentile\n",
    "                                TRUE ~ \"High\")\n",
    "          )\n",
    "\n",
    "table(employer_measures$measure_cat, useNA=\"always\")"
   ]
  },
  {
   "cell_type": "markdown",
   "metadata": {},
   "source": [
    "Next, we select columns for `Empr_no` and `measure_cat` – this removes columns that we do not require for further analysis. "
   ]
  },
  {
   "cell_type": "code",
   "execution_count": null,
   "metadata": {},
   "outputs": [],
   "source": [
    "employer_measures_cat <- employer_measures %>%\n",
    "    filter(year==select_year) %>%\n",
    "    select(Empr_no, measure_cat)"
   ]
  },
  {
   "cell_type": "markdown",
   "metadata": {},
   "source": [
    "## Linking with Cohort (first quarter after exit)\n",
    "\n",
    "Now that you have a categorical variable of interest, link the `employer_measures_cohort` to `cohort_wages_empr` to add the categorical variable for employment growth rate to your data.\n",
    "\n",
    "Keep `ssn` and `measure_cat` – drop all unecessary columns. The resulting dataframe will give you the measure category (High/Medium/Low) a TANF recipient's first employer (after exit) falls in for each individual in your cohort who was employed in the first quarter after exit. Note, individuals who were employed by more than one employer in the first quarter after exit will be included in this dataframe for every job they had. "
   ]
  },
  {
   "cell_type": "code",
   "execution_count": null,
   "metadata": {},
   "outputs": [],
   "source": [
    "emp_empr_matches_measure <- inner_join(cohort_wages_empr, \n",
    "                                                employer_measures_cat, by=\"Empr_no\") %>%\n",
    "                                     select(ssn, measure_cat)\n",
    "\n",
    "table(emp_empr_matches_measure$measure_cat)\n",
    "head(emp_empr_matches_measure)"
   ]
  },
  {
   "cell_type": "markdown",
   "metadata": {},
   "source": [
    "## Merging\n",
    "\n",
    "Here, you will pull wage data for the same individuals you see above (in `emp_empr_matches_measure`). This will allow you to track employment for these individuals. We will be pulling this data for the time period of your analysis you selected in Checkpoint 2.\n",
    " \n",
    "Next, you will combine the two dataframes from above using the `left_join` function, selecting out only variables you need for this analysis."
   ]
  },
  {
   "cell_type": "code",
   "execution_count": null,
   "metadata": {},
   "outputs": [],
   "source": [
    "merged_cohort_wages_cat_m <- cohort_wages %>%  \n",
    "                        select(ssn, Empr_no, yr_quarter) %>%\n",
    "                        left_join(emp_empr_matches_measure , by=c('ssn')) %>%\n",
    "                        filter(!is.na(measure_cat)) # dropping employers that did not hire from our TANF cohort\n",
    "\n",
    "\n",
    "head(merged_cohort_wages_cat_m)"
   ]
  },
  {
   "cell_type": "markdown",
   "metadata": {},
   "source": [
    "## Percentage of Cohort Employed\n",
    "\n",
    "Calculate the percentage of your cohort employed in each quarter BY the type of employer they were hired by after they exited TANF."
   ]
  },
  {
   "cell_type": "code",
   "execution_count": null,
   "metadata": {},
   "outputs": [],
   "source": [
    "grouped_measure_cat <- merged_cohort_wages_cat_m %>%\n",
    "    # grouping by type of employer growth category (for first employer after exit)\n",
    "    group_by(measure_cat)  %>% \n",
    "    # getting total number of individuals falling in each category in the first quarter after exit\n",
    "    mutate(pop = n_distinct(ssn)) %>%\n",
    "    ungroup() %>%\n",
    "    # grouping by employer growth category and quarter\n",
    "    group_by(measure_cat, yr_quarter) %>% \n",
    "    # counting and creating percentage of cohort employed\n",
    "    summarize(count = n_distinct(ssn), \n",
    "             pop = unique(pop), \n",
    "             perc = count/pop)\n",
    "\n",
    "head(grouped_measure_cat)"
   ]
  },
  {
   "cell_type": "markdown",
   "metadata": {},
   "source": [
    "## Visualizing Results\n",
    "\n",
    "Lastly, we visualize our results to understand how the employer growth category impacts trajectories of TANF recipients after they exit. "
   ]
  },
  {
   "cell_type": "code",
   "execution_count": null,
   "metadata": {},
   "outputs": [],
   "source": [
    "grouped_measure_cat %>%\n",
    "    ggplot() + \n",
    "    aes(x = yr_quarter,\n",
    "        y = perc, \n",
    "        group = measure_cat, \n",
    "        color = measure_cat) +  \n",
    "    geom_line() + \n",
    "    geom_point() + \n",
    "    expand_limits(y = 0)"
   ]
  },
  {
   "cell_type": "code",
   "execution_count": null,
   "metadata": {},
   "outputs": [],
   "source": []
  }
 ],
 "metadata": {
  "kernelspec": {
   "display_name": "R",
   "language": "R",
   "name": "ir"
  },
  "language_info": {
   "codemirror_mode": "r",
   "file_extension": ".r",
   "mimetype": "text/x-r-source",
   "name": "R",
   "pygments_lexer": "r",
   "version": "4.0.3"
  }
 },
 "nbformat": 4,
 "nbformat_minor": 4
}
