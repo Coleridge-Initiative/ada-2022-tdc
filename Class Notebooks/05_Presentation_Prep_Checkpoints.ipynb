{
 "cells": [
  {
   "cell_type": "markdown",
   "metadata": {},
   "source": [
    "# Presentation Prep\n",
    "\n",
    "Maryah Garner, Rukhshan Arif Mian, Allison Nunez"
   ]
  },
  {
   "cell_type": "markdown",
   "metadata": {},
   "source": [
    "# Introduction:\n",
    "\n",
    "The purpose of this checkpoint notebook is to apply the methods you saw in `05_Presentation_Prep_Beginner.ipynb` or `05_Presentation_Prep_Advanced.ipynb` to your cohort.\n",
    "\n",
    "In the checkpoint notebooks `02_Creating_a_cohort.ipynb`, we asked you to create and save your cohort as an SQL table. You will be utilizing the cohort you created as part of this checkpoint notebook (or an updated cohort you have created since). \n",
    "\n",
    "> Note: This checkpoint notebook has been created by keeping a TANF exit cohort in mind. We encourage you to reach out to your team facilitator to learn more about the methods you can use to Characterize Demand if your cohort focuses on TANF entry.\n",
    "\n",
    "At each checkpoint you will be replacing the `___` with the appropriate variable, function or R code snippet. \n",
    "\n",
    "Participants are encouraged to attempt the checkpoints on their own. Having said that, hints and suggested solutions are provided and these can be accessed by utilizing the following code:\n",
    "\n",
    "Hints: `check_#.hint()`\n",
    "\n",
    "Solutions: `check_#.solution()` – your solutions may vary based on how you define your cohort. We have shared our suggested solutions.\n",
    "\n",
    "In both cases, # refers to the checkpoint number. For example: we can access the hint and solution for Checkpoint 2 using: `check_2.hint()` and `check_2.solution` respectively. Note: Codes for accessing hints and solutions are currently commented out – in order for these to run, we would need to uncomment them first. \n"
   ]
  },
  {
   "cell_type": "markdown",
   "metadata": {},
   "source": [
    "As a reminder, the export rules for this class are as follows:"
   ]
  },
  {
   "cell_type": "markdown",
   "metadata": {},
   "source": [
    "# TDC 2022 Class Export Review Guidelines \n",
    "\n",
    "- **Each team will be able to export up to 10 figures/tables**\n",
    "    \n",
    "    \n",
    "- **Every statistic for export should be based on at least 10 individuals and at least 3 employers**.\n",
    "     - Statistics that are based off of 0-9 individuals must be surpressed\n",
    "     - Statistics that are based off of 0-2 employers must be surpressed\n",
    "    \n",
    "    \n",
    "- **All counts will need to be rounded**\n",
    "    - Counts below 1000 should be rounded to the nearest ten\n",
    "    - Counts greater than or equal to 1000 should be rounded to the nearest hundred\n",
    "    > For example, a count of 868 would be rounded to 870 and a count of 1868 would be rounded to 1900\n",
    "\n",
    "- **All reported wages will need to be rounded to the nearest hundred** \n",
    "    \n",
    "- **All reported averages will need to be rounded to the nearest hundredth** \n",
    "   \n",
    "   \n",
    "- **All percentages and proportions need to be rounded**\n",
    "    - The same rounding rule that is applied to counts must be applied to both the numerator and denominator\n",
    "    - Percentages must then be rounded to the nearest percent\n",
    "    - Proportions must be rounded to the nearest hundredth\n",
    "\n",
    "\n",
    "- **Exact percentiles can not be exported** \n",
    "    - Instead, for example, you may calculate a “fuzzy median”, by averaging the true 45th and 55th percentiles\n",
    "       > If you are calculating the fuzzy percentiles for wage, you will need to round to the nearest hundred after calculating the fuzzy percentile.\n",
    "\n",
    "       > If you are calculating the fuzzy percentile for a number of individuals, you will need to round to the nearest 10 if the count is less than 1000 and to the nearest hundred if the count is greater than or equal to 1000.\n",
    "  \n",
    "- **Exact Maxima and Minima can not be exported**\n",
    "    - Suppress maximum and minimum values in general. \n",
    "    - You may replace an exact maximum or minimum with a top-coded value or a fuzzy maximum or minimum value. For example: If the maximum value for earnings is 154,325, it could be top-coded as '100,000+'. And a fuzzy maximum value could be: \n",
    "    $$\\frac{95th\\ percentile\\ of\\ earnings + 154325}{2}$$\n",
    " \n",
    " \n",
    "- **Complementary suppression**\n",
    "    - If your figures include totals or are dependent on a preceding or subsequent figures, you need to take into account complementary disclosure risks—that is, whether the figure totals or the separate figures when read together, might disclose information about less then 10 individuals in the data in a way that a single, simpler table would not. Team facilitators and export reviewers will work with you by offering guidance on implementing any necessary complementary suppression techniques.\n"
   ]
  },
  {
   "cell_type": "markdown",
   "metadata": {},
   "source": [
    "##  Supporting Documentation for Exports\n",
    "\n",
    "For each exported figure, you will need to provide a table with **underlying counts** of individuals and employers for each statistic depicted in the figure. \n",
    "\n",
    "- You will need to include both the rounded and the unrounded counts of individuals.\n",
    "\n",
    "- If percentages or proportions are to be exported, you must report both the rounded and the unrounded counts of individuals for the numerator and denominator. You must also report the counts of employers for both the numerator and the denominator\n",
    "\n",
    "**Code**\n",
    "- Please provide the code for every output that needs to be exported and the code generating every table (csv) with underlying counts. It is important for the ADRF staff to have the code to better understand what exactly was done and to be able to replicate results. Understanding how research results are created is important in understanding the research output. Thus, it is important to document every step of the analysis in the Jupyter notebook. "
   ]
  },
  {
   "cell_type": "markdown",
   "metadata": {},
   "source": [
    "## Color-blind friendly palette\n",
    "Throughout this notebook we will use colors from this color-blind friendly selection\n",
    "\n",
    "\"#009E73\", \"#0072B2\", \"#D55E00\", \"#CC79A7\", \"#999999\", \"#E69F00\",  \"#56B4E9\", \"#F0E442\""
   ]
  },
  {
   "cell_type": "markdown",
   "metadata": {},
   "source": [
    "## R Setup"
   ]
  },
  {
   "cell_type": "code",
   "execution_count": null,
   "metadata": {},
   "outputs": [],
   "source": [
    "# switching off warnings\n",
    "options(warn=-1)\n",
    "\n",
    "#database interaction imports\n",
    "suppressMessages(library(odbc))\n",
    "\n",
    "# for data manipulation/visualization\n",
    "suppressMessages(library(tidyverse))\n",
    "\n",
    "# scaling data, calculating percentages, overriding default graphing\n",
    "suppressMessages(library(scales))\n",
    "\n",
    "# to better view images\n",
    "# For easier viewing of graphs\n",
    "# Adjust repr.plot.width and repr.plot.height to change the size of graphs\n",
    "theme_set(theme_gray(base_size = 24))\n",
    "options(repr.plot.width = 20, repr.plot.height = 12)\n",
    "options(warn=0)\n",
    "\n",
    "source('05_Presentation_Prep_checkpoints_hints_solutions.txt')\n",
    "\n",
    "# implementing option\n",
    "options(scipen = 100) "
   ]
  },
  {
   "cell_type": "markdown",
   "metadata": {},
   "source": [
    "We connect to the database using the code below."
   ]
  },
  {
   "cell_type": "code",
   "execution_count": null,
   "metadata": {},
   "outputs": [],
   "source": [
    "# Connect to the database\n",
    "con <- DBI::dbConnect(odbc::odbc(),\n",
    "                     Driver = \"SQL Server\",\n",
    "                     Server = \"msssql01.c7bdq4o2yhxo.us-gov-west-1.rds.amazonaws.com\",\n",
    "                     Trusted_Connection = \"True\")"
   ]
  },
  {
   "cell_type": "markdown",
   "metadata": {},
   "source": [
    "## Checkpoint 1: Pulling linked cohort-wage data\n",
    "\n",
    "\n",
    "You will start by combining your cohort of TANF exiters with UI Wage Records. You will read in as many quarters as relevant for you research. We have provided 4 blank spaces to fill in the quarters of your interest, but you can use as many or few quarters as you would like."
   ]
  },
  {
   "cell_type": "code",
   "execution_count": null,
   "metadata": {},
   "outputs": [],
   "source": [
    "# Linking TANF and UI Wages over time\n",
    "# Utilizing a sub-query to first filter out wage records\n",
    "qry <- \"SELECT nb.ssn, nb.tanf_total_months, wr.Empr_no, wr.Wage, wr.yr_quarter\n",
    "    FROM \n",
    "    tr_tdc_2022.dbo.____ nb\n",
    "    LEFT JOIN \n",
    "    (   select SSN, Empr_no, Year, Quarter, Wage, yr_quarter\n",
    "        FROM tr_tdc_2022.dbo.wages_tanf\n",
    "        WHERE yr_quarter IN ('___', '___', '___', '___')\n",
    "        AND (SSN IN (SELECT DISTINCT(SSN) FROM tr_tdc_2022.dbo.____))\n",
    "    ) wr\n",
    "    ON wr.SSN=nb.SSN;\n",
    "\"\n",
    "\n",
    "cohort_wages <- dbGetQuery(con,qry)\n",
    "\n",
    "head(cohort_wages)"
   ]
  },
  {
   "cell_type": "code",
   "execution_count": null,
   "metadata": {},
   "outputs": [],
   "source": [
    "# hint\n",
    "# check_1.hint()"
   ]
  },
  {
   "cell_type": "code",
   "execution_count": null,
   "metadata": {},
   "outputs": [],
   "source": [
    "# solution\n",
    "$ check_1.solution()"
   ]
  },
  {
   "cell_type": "markdown",
   "metadata": {},
   "source": [
    "### Produce summary statistics for time on TANF\n",
    "\n",
    "#### Goals:\n",
    "The overall goal of this notebook is to produce a visual that depicts the portion of your cohort who is employed over time by sub-groups in addition to creating a supplementary table for exporting purposes. \n",
    "\n",
    "We will walk through this example looking at how employment differs for those who are on TANF for a long time vs those who are on TANF for a short time. As seen in the code below, we consider someone who was on TANF for more than 6 months to have been on TANF for long time and who was on TANF for 6 months of less to have been on TANF for short time.\n",
    "\n",
    "> We recommend working through this notebook using this example and then coming back and changing the constructed categorical variable to something that is more relavant for your research"
   ]
  },
  {
   "cell_type": "code",
   "execution_count": null,
   "metadata": {},
   "outputs": [],
   "source": [
    "cohort_wages <- cohort_wages %>%\n",
    "    mutate(tanf_time_cat = ifelse(tanf_total_months > 6, \"Long Time\", \"Short Time\"))"
   ]
  },
  {
   "cell_type": "markdown",
   "metadata": {},
   "source": [
    "#### Summarise the Data\n",
    "\n",
    "Once we have our linked cohort-wages dataframe, we will summarise the data so that each person only has one observation per quarter. Here, we are considering a person to be employed if they have any positive earnings (anything above zero) in a quarter. In your project you might want to set a higher threshold.\n",
    "\n",
    "> Note: We create the `employed` variable as a character variable as it will make a better visualization later on. "
   ]
  },
  {
   "cell_type": "code",
   "execution_count": null,
   "metadata": {},
   "outputs": [],
   "source": [
    "cohort_wages2 <- cohort_wages %>%\n",
    "# Create a variable employed, that is 1 for every positive wage and 0 otherwise\n",
    "        mutate(employed = ifelse(Wage > 0, '1','0'),\n",
    "               employed = ifelse(is.na(Wage), '0', employed)) %>%\n",
    "    group_by(ssn, yr_quarter, tanf_time_cat) %>%\n",
    "# sumarise employed so that each person only has at most one observation per yr_quarter\n",
    "    summarise(employed = max(employed), \n",
    "             tanf_time_cat = unique (tanf_time_cat)) \n",
    "\n",
    "head(cohort_wages2)"
   ]
  },
  {
   "cell_type": "markdown",
   "metadata": {},
   "source": [
    "Assign the number of people in your cohort to `pop`, we will use this later."
   ]
  },
  {
   "cell_type": "code",
   "execution_count": null,
   "metadata": {},
   "outputs": [],
   "source": [
    "pop <- length(unique(cohort_wages2$ssn))\n",
    "pop"
   ]
  },
  {
   "cell_type": "markdown",
   "metadata": {},
   "source": [
    "## Checkpoint 2: Calculate Rounded Portion and Counts\n",
    "Calculate the portion of your cohort employed each quarter using all of the appropriate rounding rules. The goal of this checkpoint is to help reinforce the export rules. You will be updating the blanks to:\n",
    "- Round the count of individuals \n",
    "- Round the population count\n",
    "- Round percentages\n",
    "\n",
    "When rounding counts, you will have to identify the condition for which the different rounding rules apply and the appropriate level of rounding that needs to be applied. "
   ]
  },
  {
   "cell_type": "code",
   "execution_count": null,
   "metadata": {},
   "outputs": [],
   "source": [
    "cohort_wages3 <- cohort_wages2 %>%\n",
    "    group_by(tanf_time_cat) %>%  \n",
    "    mutate(pop = n_distinct(ssn)) %>%\n",
    "    ungroup() %>%\n",
    "    group_by(yr_quarter, tanf_time_cat) %>%\n",
    "    summarise(count = n_distinct(ssn),\n",
    "               count_round = ifelse(count < ____, round(count, digits = ___), \n",
    "                                   round(count, digits = ___)),\n",
    "              pop = unique(pop),\n",
    "              pop_round = ifelse(pop < ___, round(pop, digits = ___), \n",
    "                round(pop, digits = ___)),\n",
    "             percentage = 100*(count_round/pop_round),\n",
    "             percentage = round(percentage, digits = __))\n",
    "\n",
    "cohort_wages3"
   ]
  },
  {
   "cell_type": "code",
   "execution_count": null,
   "metadata": {},
   "outputs": [],
   "source": [
    "# hint\n",
    "# check_2.hint()"
   ]
  },
  {
   "cell_type": "code",
   "execution_count": null,
   "metadata": {},
   "outputs": [],
   "source": [
    "# solution\n",
    "# check_2.solution()"
   ]
  },
  {
   "cell_type": "markdown",
   "metadata": {},
   "source": [
    "Next you will have to get the counts of employers. You need the quarterly number of employers for each group for the supporting table. Since you will not be exporting these counts, you do not need to apply any rounding rules. "
   ]
  },
  {
   "cell_type": "code",
   "execution_count": null,
   "metadata": {},
   "outputs": [],
   "source": [
    "employer_stats <- cohort_wages %>%\n",
    "    group_by(tanf_time_cat) %>%  \n",
    "    mutate(pop_empr = n_distinct(Empr_no)) %>%\n",
    "    ungroup() %>%\n",
    "    group_by(yr_quarter, tanf_time_cat) %>%\n",
    "    summarise(count_empr = n_distinct(Empr_no))\n",
    "\n",
    "employer_stats"
   ]
  },
  {
   "cell_type": "markdown",
   "metadata": {},
   "source": [
    "Join the employer counts with your cohort wages table"
   ]
  },
  {
   "cell_type": "code",
   "execution_count": null,
   "metadata": {},
   "outputs": [],
   "source": [
    "cohort_wages4 <- cohort_wages3 %>%\n",
    "    inner_join(employer_stats, by=c('tanf_time_cat', 'yr_quarter')) %>%\n",
    "            filter(!is.na(yr_quarter))\n",
    "\n",
    "head(cohort_wages4)"
   ]
  },
  {
   "cell_type": "markdown",
   "metadata": {},
   "source": [
    "## Checkpoint 3: Choosing colors\n",
    "Select colors for your categories that will be used in the visuals produced below. We recommend using 2 colors from the color-blind friendly palette provided at the beginning of this notebook. "
   ]
  },
  {
   "cell_type": "code",
   "execution_count": null,
   "metadata": {},
   "outputs": [],
   "source": [
    "fill_color <- c('Long Time' = '____',\n",
    "                'Short Time' = '___') \n",
    "fill_color"
   ]
  },
  {
   "cell_type": "code",
   "execution_count": null,
   "metadata": {},
   "outputs": [],
   "source": [
    "# hint\n",
    "# check_3.hint()"
   ]
  },
  {
   "cell_type": "code",
   "execution_count": null,
   "metadata": {},
   "outputs": [],
   "source": [
    "# solution\n",
    "# check_3.solution()"
   ]
  },
  {
   "cell_type": "markdown",
   "metadata": {},
   "source": [
    "# Visualizations"
   ]
  },
  {
   "cell_type": "markdown",
   "metadata": {},
   "source": [
    "We provide code to produce a bar plot and the code to produce a line a plot. You can choose to complete only one of these visuals. However, working through both of them might reinforce the overall general structure of `ggplot` and the similarity and differences from one plot type to another."
   ]
  },
  {
   "cell_type": "markdown",
   "metadata": {},
   "source": [
    "## Checkpoint 4A\n",
    "In this checkpoint, we ask you to create a bar plot that: \n",
    "- Depicts the percentage of each subgroup that is employed on the y-axis\n",
    "- Depicts the Year quarter on the x-axis\n",
    "- Compares the group of individuals who were on TANF for a long time and the group of individuals who were on TANF for a short time"
   ]
  },
  {
   "cell_type": "markdown",
   "metadata": {},
   "source": [
    "### Bar Plot"
   ]
  },
  {
   "cell_type": "code",
   "execution_count": null,
   "metadata": {},
   "outputs": [],
   "source": [
    "Figure_4a <- cohort_wages4 %>%\n",
    "    ggplot(aes(x = ___, \n",
    "               y = ___, \n",
    "               fill = ___)) +\n",
    "    geom_bar(stat=\"identity\", position='dodge') +\n",
    "    expand_limits(y = 0) +\n",
    "    labs(colour = \"___\") + # Chance the title for the legend\n",
    "    scale_fill_manual(\"\", values = fill_color) +\n",
    "    labs(\n",
    "        # Labelling x axis\n",
    "        x = '___', \n",
    "        # Labelling y axis\n",
    "        y = '___', \n",
    "        # Add a title that conveys the main takeaway of the graph\n",
    "        title = '___', \n",
    "        # cite the source of your data\n",
    "        caption = '___'\n",
    "        )"
   ]
  },
  {
   "cell_type": "code",
   "execution_count": null,
   "metadata": {},
   "outputs": [],
   "source": [
    "Figure_4a <- Figure_4a +\n",
    "   theme(\n",
    "        legend.text = element_text(size = 24), # legend text font size\n",
    "        legend.title = element_text(size = 24), # legend title font size\n",
    "        axis.text.x = element_text(size = 24), # x axis label font size\n",
    "        axis.title.x = element_text(size = 24), # x axis title font size\n",
    "        axis.text.y = element_text(size = 24), # y axis label font size\n",
    "        axis.title.y = element_text(size = 24) # y axis title font size\n",
    "    )\n",
    "\n",
    "\n",
    "Figure_4a"
   ]
  },
  {
   "cell_type": "code",
   "execution_count": null,
   "metadata": {},
   "outputs": [],
   "source": [
    "# hint\n",
    "# check_4a.hint()"
   ]
  },
  {
   "cell_type": "code",
   "execution_count": null,
   "metadata": {},
   "outputs": [],
   "source": [
    "# solution\n",
    "# check_4a.solution()"
   ]
  },
  {
   "cell_type": "markdown",
   "metadata": {},
   "source": [
    "## Checkpoint 4B\n",
    "In this checkpoint, we ask you to produce a line graph depicting the same information as you did in the figure you created above. \n",
    "\n",
    "Depending on the time interval you selected, a line graph might be a better way to depict this information. \n",
    "\n",
    "As a reminder, we ask you to update the following blanks so that the: \n",
    "- Percentage of each subgroup that is employed is on the y-axis\n",
    "- Year-quarter is on the x-axis\n",
    "- You are able to compare the group of individuals who were on TANF for a long time and the group of individuals who were on TANF for a short time"
   ]
  },
  {
   "cell_type": "markdown",
   "metadata": {},
   "source": [
    "### Line Plot"
   ]
  },
  {
   "cell_type": "code",
   "execution_count": null,
   "metadata": {},
   "outputs": [],
   "source": [
    "Figure_4b <- cohort_wages4 %>%\n",
    "    ggplot(aes(x = ___, \n",
    "               y = ___, \n",
    "               group = ___, \n",
    "               color = ___)) +\n",
    "    geom_line(size = 1.3) + \n",
    "    geom_point(size = 5) + \n",
    "    expand_limits(y = 0) +\n",
    "    labs(colour = \"Employment Growth Rate\") + # Chance the title for the legend\n",
    "    scale_color_manual(\"\", values = fill_color) +\n",
    "    labs(\n",
    "        # Labelling x axis\n",
    "        x = '____', \n",
    "        # Labelling y axis\n",
    "        y = '____', \n",
    "        # Add a title that conveys the main takeaway of the graph\n",
    "        title = '____', \n",
    "        # cite the source of your data\n",
    "        caption = '___'\n",
    "        )"
   ]
  },
  {
   "cell_type": "code",
   "execution_count": null,
   "metadata": {},
   "outputs": [],
   "source": [
    "Figure_4b <- Figure_4b +\n",
    "   theme(\n",
    "        legend.text = element_text(size = 24), # legend text font size\n",
    "        legend.title = element_text(size = 24), # legend title font size\n",
    "        axis.text.x = element_text(size = 24), # x axis label font size\n",
    "        axis.title.x = element_text(size = 24), # x axis title font size\n",
    "        axis.text.y = element_text(size = 24), # y axis label font size\n",
    "        axis.title.y = element_text(size = 24) # y axis title font size\n",
    "    )\n",
    "\n",
    "\n",
    "Figure_4b"
   ]
  },
  {
   "cell_type": "code",
   "execution_count": null,
   "metadata": {},
   "outputs": [],
   "source": [
    "# hint\n",
    "# check_4b.hint()"
   ]
  },
  {
   "cell_type": "code",
   "execution_count": null,
   "metadata": {},
   "outputs": [],
   "source": [
    "# solution \n",
    "# check_4b.solution()"
   ]
  },
  {
   "cell_type": "code",
   "execution_count": null,
   "metadata": {},
   "outputs": [],
   "source": []
  },
  {
   "cell_type": "markdown",
   "metadata": {},
   "source": [
    "## References:\n",
    "- Presentation Preparation, Applied Data Analytics Training, National Center of Science and Engineering Statistics, 2021\n",
    "- Characterizing Demand, Applied Data Analytics Training, TANF Data Collabarative, 2022\n",
    "- Data Visualization, Applied Data Analytics Training, California, 2021"
   ]
  }
 ],
 "metadata": {
  "kernelspec": {
   "display_name": "R",
   "language": "R",
   "name": "ir"
  },
  "language_info": {
   "codemirror_mode": "r",
   "file_extension": ".r",
   "mimetype": "text/x-r-source",
   "name": "R",
   "pygments_lexer": "r",
   "version": "4.0.3"
  },
  "toc": {
   "nav_menu": {},
   "number_sections": false,
   "sideBar": true,
   "skip_h1_title": false,
   "toc_cell": false,
   "toc_position": {},
   "toc_section_display": "block",
   "toc_window_display": false
  }
 },
 "nbformat": 4,
 "nbformat_minor": 4
}
