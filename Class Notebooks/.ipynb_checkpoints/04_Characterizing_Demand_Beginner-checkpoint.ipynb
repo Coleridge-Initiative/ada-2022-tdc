{
 "cells": [
  {
   "cell_type": "markdown",
   "metadata": {},
   "source": [
    "<center><br><br>\n",
    "    <h4>TANF Data Collaborative </h4>\n",
    "    <h4>Applied Data Analytics Training | Spring 2022</h4>\n",
    "    <h1>Characterizing Demand: Descriptive Analysis</h1>\n",
    "</center>\n",
    "<center>\n",
    "    <span style=\"font-size: 1.5em;\">\n",
    "        <a href='https://www.coleridgeinitiative.org'>Coleridge Initiative</a>\n",
    "    </span>\n",
    "    <center>Maryah Garner, Allison Nunez, Rukhshan Arif Mian, Benjamin Feder</center>\n",
    "    <a href=\"https://doi.org/10.5281/zenodo.7459656\"><img src=\"https://zenodo.org/badge/DOI/10.5281/zenodo.7459656.svg\" alt=\"DOI\"></a>\n",
    "\n",
    "</center>\n",
    "\n",
    "<br>\n",
    "\n",
    "***"
   ]
  },
  {
   "cell_type": "markdown",
   "metadata": {},
   "source": [
    "# Introduction"
   ]
  },
  {
   "cell_type": "markdown",
   "metadata": {},
   "source": [
    "Characterizing the labor market demand can help us understand the different types of employers at a city, county or state level. A majority of the research on labor market outcomes lays emphasis on the role of the employee (labor market supply). While this is important, understanding the employer's role is also critical for developing employment outcomes. \n",
    "\n",
    "In the Beginner and Advanced notebooks for `03_Linkage_and_Longitudinal_Analysis.ipynb`, we used descriptive statistics to understand employment outcomes for our cohort. This allowed us to see the various patterns (for example: missingness) exhibited in the data that could impact any statistical analysis performed. The goal of this notebook is now to understand how we can use descriptive statistics for the purpose of characterizing labor demand. This will allow us to understand the types of employers individuals in our cohort are employed by and how this can impact employment outcomes. More specifically, we can identify employer characteristics that are associated with positive employment outcomes for our cohort. "
   ]
  },
  {
   "cell_type": "code",
   "execution_count": null,
   "metadata": {},
   "outputs": [],
   "source": [
    "# Switching off warnings\n",
    "options(warn = -1)\n",
    "\n",
    "# Database interaction imports\n",
    "suppressMessages(library(odbc))\n",
    "\n",
    "# data manipulation/visualization\n",
    "suppressMessages(library(tidyverse))\n",
    "\n",
    "# scaling data, calculating percentages, overriding default graphing\n",
    "suppressMessages(library(scales))\n",
    "\n",
    "# for as.yearqtr()\n",
    "suppressMessages(library(zoo))\n",
    "\n",
    "#Switching on warnings\n",
    "options(warn = 0)"
   ]
  },
  {
   "cell_type": "code",
   "execution_count": null,
   "metadata": {},
   "outputs": [],
   "source": [
    "# Connect to the database\n",
    "con <- DBI::dbConnect(odbc::odbc(),\n",
    "                     Driver = \"SQL Server\",\n",
    "                     Server = \"msssql01.c7bdq4o2yhxo.us-gov-west-1.rds.amazonaws.com\",\n",
    "                     Trusted_Connection = \"True\")"
   ]
  },
  {
   "cell_type": "markdown",
   "metadata": {},
   "source": [
    "# Data Sources\n",
    "\n",
    "We utilize the following data sources throughout this notebook:\n",
    "\n",
    "- **Employer Measures** (`employer_yearly_agg`): Measures we created in the `TDC-Supplemental_Employer_Measures.ipynb` notebook\n",
    "- **TANF Cohort** (`nb_cohort`): Work eligible (and adult) TANF recipients who exited in '2018 Q2'. We created this in the `02_Creating_a_cohort.ipynb` notebook from Module 2. \n",
    "- **UI Wages** (`wages_tanf`): UI Wage records for Indiana"
   ]
  },
  {
   "cell_type": "markdown",
   "metadata": {},
   "source": [
    "## Describing Employer Measures"
   ]
  },
  {
   "cell_type": "markdown",
   "metadata": {},
   "source": [
    "This class will focus on 3 essential categories of annualized employer-level measures when it comes to characterizing labor market demand: Firm characteristics, Opportunity, and Stability. We define the specific employer measures that fall into each category below:"
   ]
  },
  {
   "cell_type": "markdown",
   "metadata": {},
   "source": [
    "**Firm characteristics**:\n",
    "\n",
    "- Total Payroll\n",
    "- Average earnings per employee \n",
    "- Average full quarter earnings per employee\n",
    "- Earnings per employee at 25th percentile\n",
    "- Earnings per employee at 75th percentile\n",
    "- Total full quarter employment\n",
    "- Total employment\n",
    "\n",
    "**Opportunity**:\n",
    "\n",
    "- Number of new hires\n",
    "- Employment growth rate\n",
    "- Hiring growth rate"
   ]
  },
  {
   "cell_type": "markdown",
   "metadata": {},
   "source": [
    " $$ \\ \\large{g_{et}=\\frac{(x_{et} - x_{e,t-1})}{\\frac{(x_{et} + x_{e,t-1})}{2}}} $$\n",
    "\n",
    "where: \n",
    " - $x_{et}$: Total Employment/Hiring/Separation at time *t*\n",
    " - $x_{et-1}$: Total Employment/Hiring/Separation at time *t-1*\n",
    " \n"
   ]
  },
  {
   "cell_type": "markdown",
   "metadata": {},
   "source": [
    "**Stability**:\n",
    "- Separation growth rate (this is calculated using the same formula as above)\n",
    "- Number of new hires who become full quarter employees (hired in t-1 whom we see in t+1)\n",
    "- Ratio of full quarter employees to total number of employees \n",
    "\n",
    "\n",
    "As a reminder, these measures were created using Indiana's UI Wage Records and filter out any employers that had < 5 employees. \n",
    "\n",
    "\n",
    "To learn more about what each of these measures means and how they were created, we encourage you to go through the supplementary worksheet (`Supplemental_Employer_Measure_Worksheet.xlsx`). \n",
    "\n",
    "As discussed in the introduction, we can use descriptive analysis to understand the correlation between employer measures and employment outcomes. We can use these to address questions such as:\n",
    "\n",
    "- For TANF exiters, what ypes of employers they are being employed by? Are these high-growth or low-growth employers? \n",
    "\n",
    "In this notebook, we focus on single measures from 2 of the 3 employer measure categories: \n",
    "1. Total Employment (Firm Characteristics)\n",
    "2. Employment Growth Rate (Opportunity)\n",
    "\n",
    "Before diving into these measures, we look at how the `employer_yearly_agg` table is structured. "
   ]
  },
  {
   "cell_type": "code",
   "execution_count": null,
   "metadata": {},
   "outputs": [],
   "source": [
    "qry <- \"\n",
    "SELECT * \n",
    "FROM tr_tdc_2022.dbo.employer_yearly_agg\n",
    "\"\n",
    "\n",
    "employer_measures <- dbGetQuery(con, qry)\n",
    "\n",
    "head(employer_measures, 0)"
   ]
  },
  {
   "cell_type": "markdown",
   "metadata": {},
   "source": [
    "Next, we look at the columns in the `employer_measures` data frame."
   ]
  },
  {
   "cell_type": "code",
   "execution_count": null,
   "metadata": {},
   "outputs": [],
   "source": [
    "names(employer_measures)"
   ]
  },
  {
   "cell_type": "markdown",
   "metadata": {},
   "source": [
    "As a reminder, each observation in this data frame corresponds to an employer-year combination. We have data for all years that fall in the following range"
   ]
  },
  {
   "cell_type": "code",
   "execution_count": null,
   "metadata": {},
   "outputs": [],
   "source": [
    "# range calculates the min and max values for a variable of interest\n",
    "range(employer_measures$year) "
   ]
  },
  {
   "cell_type": "markdown",
   "metadata": {},
   "source": [
    "One important note here is that not all employers appear in this data, and those who appear may not appear every year. There are several reasons this could happen:\n",
    "\n",
    "1. A non-UI covered employer will not submit wages to UI. For example: federal work or gig work.\n",
    "2. The employer may have less than 5 employees (these were filtered out when constructing the employer measures).\n",
    "3. The employer may not yet be established or has gone out of business .\n",
    "\n",
    "Keep all of this in mind when considering the inferential limitations to using the `employer_measures` table."
   ]
  },
  {
   "cell_type": "markdown",
   "metadata": {},
   "source": [
    "# Analyzing Firm Level Characteristics"
   ]
  },
  {
   "cell_type": "markdown",
   "metadata": {},
   "source": [
    "In this section, we use firm level characteristics to understand how we can characterize labor demand for our cohort of TANF exiters. \n",
    "\n",
    "We explore the following research question: \n",
    "-  Do TANF exiters from our cohort stay longer at a job when they are hired by larger employers compared to smaller employers? \n",
    "    - We define larger employers as those who have an above average number of employees. Similarly, we define small employers as those who have a below average number of employees\n",
    "\n",
    "In this notebook, we will be considering employer characteristics from 2017. We will be looking at summary statistics for all employers and for employers who hired TANF exiters from our cohort. We will then look at the correlation between employer characteristics and employee outcomes.\n",
    "\n",
    "In this analysis, we include individuals from our cohort who were employed in the first quarter after they exit. Since our cohort consists of TANF recipients who exited in '2018 Q2', they must be employed in '2018 Q3' to be included. We use '2018 Q3' to look at how the characteristics of TANF exiters' first employers impact their outcomes.\n",
    "\n",
    "We will then count the number of quarters they worked for the employer that hired them in '2018 Q3'.\n",
    "\n",
    "> Note: We consider employer measures from 2017 since this would be the information that was available to TANF agencies when aiding TANF recipients in finding employment in '2018 Q2'. It is very unlikely they were used in practice; however, we hope to provide a practical tool that can be utilized when guiding TANF recipients in the future.\n",
    "\n",
    "The first step in approaching this research question is to link our cohort with the UI Wage data and only keep the first year after exit in UI Wages. "
   ]
  },
  {
   "cell_type": "markdown",
   "metadata": {},
   "source": [
    "## Linking Cohort to Wages (2018Q3)"
   ]
  },
  {
   "cell_type": "code",
   "execution_count": null,
   "metadata": {},
   "outputs": [],
   "source": [
    "qry <- \"SELECT nb.ssn, wr.Empr_no, wr.Year, wr.Quarter, wr.Wage, wr.yr_quarter \n",
    "    FROM \n",
    "    tr_tdc_2022.dbo.nb_cohort nb\n",
    "    INNER JOIN \n",
    "    (\n",
    "        select SSN, Empr_no, Year, Quarter, Wage, yr_quarter\n",
    "        FROM tr_tdc_2022.dbo.wages_tanf\n",
    "        WHERE yr_quarter IN ('2018 Q3')\n",
    "        AND (SSN IN (SELECT DISTINCT SSN FROM tr_tdc_2022.dbo.nb_cohort))\n",
    "    ) wr\n",
    "    ON wr.SSN=nb.SSN\n",
    "\"\n",
    "\n",
    "cohort_wages_empr <- dbGetQuery(con, qry)"
   ]
  },
  {
   "cell_type": "markdown",
   "metadata": {},
   "source": [
    "Note that the code above is similar to what we saw in the Beginner and Advanced notebooks for `03_Linkage_and_Longitudinal_Analysis`. The only difference here is that we use an `INNER JOIN` which will only pull individuals who have keep wage records from '2018 Q3'. "
   ]
  },
  {
   "cell_type": "markdown",
   "metadata": {},
   "source": [
    "Count the unique number of individuals from our cohort who were employed in '2018 Q3' along with the unique number of employers by whom they were employed. "
   ]
  },
  {
   "cell_type": "code",
   "execution_count": null,
   "metadata": {},
   "outputs": [],
   "source": [
    "cohort_wages_empr %>%\n",
    "    summarize(unique_indiv = n_distinct(ssn),\n",
    "              unique_empr = n_distinct(Empr_no))"
   ]
  },
  {
   "cell_type": "markdown",
   "metadata": {},
   "source": [
    "## Extracting Employer Measures\n",
    "\n",
    "In this sub-section, we extract the employers (and their 2017 measures, if available) who employed individuals from our TANF cohort in '2018 Q3'. \n",
    "\n",
    "We create a subset of the `employer_measures` data frame by keeping:\n",
    "1. Unique employers from the previous step\n",
    "2. Year = 2017"
   ]
  },
  {
   "cell_type": "code",
   "execution_count": null,
   "metadata": {},
   "outputs": [],
   "source": [
    "employer_measures_cohort <- employer_measures %>%\n",
    "    # filtering on employer number\n",
    "    filter(Empr_no %in% cohort_wages_empr$Empr_no, \n",
    "    # filtering on year\n",
    "           year == 2017)"
   ]
  },
  {
   "cell_type": "markdown",
   "metadata": {},
   "source": [
    "Count the number of employers after applying this filter."
   ]
  },
  {
   "cell_type": "code",
   "execution_count": null,
   "metadata": {},
   "outputs": [],
   "source": [
    "# Count the number of unique employers in this new data frame\n",
    "employer_measures_cohort %>% \n",
    "    summarize(unique_emp = n_distinct(Empr_no))"
   ]
  },
  {
   "cell_type": "markdown",
   "metadata": {},
   "source": [
    "Note that the number of employers falls when we apply this filter. Recall that measures were not developed for firms that had fewer than 5 employees and if the UI Wage Records did not exist for these firms in 2017."
   ]
  },
  {
   "cell_type": "markdown",
   "metadata": {},
   "source": [
    "## Descriptive Statistics\n",
    "The measure of interest for this section is the average number of individuals working for an employer in a quarter, (averaged over the year) `avg_num_employed.` \n",
    "> If employer A employed 100 people in 2017Q1, 102 people in 2017Q2, 98 people in 2017Q3 and 104 people in 2017Q4 their `avg_num_employed` in 2007 would be 101. \n",
    "\n",
    "As a first step, we calculate summary statistics for this variable only looking at employers who hired individuals from our cohort in '2018 Q3'. Then we compare these results with summary statistics for all other employers (who did not hire individuals from our cohort) in 2017."
   ]
  },
  {
   "cell_type": "markdown",
   "metadata": {},
   "source": [
    "#### Employers who hired TANF recipients from our cohort (in 2018 Q3)"
   ]
  },
  {
   "cell_type": "code",
   "execution_count": null,
   "metadata": {},
   "outputs": [],
   "source": [
    "employer_measures_cohort %>%        \n",
    "    summarize(\n",
    "        # mean\n",
    "        mean_emp = mean(avg_num_employed),\n",
    "        # median\n",
    "        median_emp = median(avg_num_employed), \n",
    "        # standard deviation\n",
    "        sd_emp = sd(avg_num_employed),\n",
    "        # min value\n",
    "        min_emp = min(avg_num_employed), \n",
    "        # max value\n",
    "        max_emp = max(avg_num_employed)\n",
    "    )"
   ]
  },
  {
   "cell_type": "markdown",
   "metadata": {},
   "source": [
    "#### Employers who did not hire TANF recipients from our cohort (in 2018 Q3)"
   ]
  },
  {
   "cell_type": "code",
   "execution_count": null,
   "metadata": {},
   "outputs": [],
   "source": [
    "employer_measures %>%\n",
    "    # filtering out employers that hired from our cohort\n",
    "    filter(!Empr_no %in% cohort_wages_empr$Empr_no, \n",
    "    # keeping year == 2017\n",
    "           year == 2017) %>%\n",
    "    summarize(mean_emp = mean(avg_num_employed), \n",
    "             median_emp = median(avg_num_employed), \n",
    "             sd_emp = sd(avg_num_employed),\n",
    "             min_emp = min(avg_num_employed), \n",
    "             max_emp = max(avg_num_employed))\n"
   ]
  },
  {
   "cell_type": "markdown",
   "metadata": {},
   "source": [
    "We see how both the mean and median values for average number of employees are higher for employers who hired from our cohort compared to all other employers in 2017. It seems as though TANF recipients are more likely to be hired by larger employers."
   ]
  },
  {
   "cell_type": "markdown",
   "metadata": {},
   "source": [
    "## Differentiating Employers\n",
    "\n",
    "We use the mean value for `avg_num_employed` to create a categorical variable to differentiate employers into 2 groups:\n",
    "\n",
    "1. Large: Employers with above-average number of employees\n",
    "2. Small: Employers with below-average number of employees"
   ]
  },
  {
   "cell_type": "markdown",
   "metadata": {},
   "source": [
    "#### Establish groups of employers\n",
    "\n",
    "We use the employer measures to establish the average number of employees across all employers in 2017. "
   ]
  },
  {
   "cell_type": "code",
   "execution_count": null,
   "metadata": {},
   "outputs": [],
   "source": [
    "# extract median value for avg_num_employed from the stats dataframe\n",
    "mean_emp <- employer_measures %>% \n",
    "    filter(year == 2017) %>%\n",
    "    summarize(mean_emp = mean(avg_num_employed))"
   ]
  },
  {
   "cell_type": "code",
   "execution_count": null,
   "metadata": {},
   "outputs": [],
   "source": [
    "# creating a variable: emp_cat that equals Large if avg_num_employed >= mean\n",
    "employer_measures_2017 <- employer_measures %>%\n",
    "    filter(year == 2017) %>%\n",
    "    mutate(emp_cat = ifelse(avg_num_employed >= mean_emp$mean_emp, \n",
    "                                 \"Large\", \n",
    "                                 \"Small\"))"
   ]
  },
  {
   "cell_type": "code",
   "execution_count": null,
   "metadata": {},
   "outputs": [],
   "source": [
    "# check distribution of emp_cat\n",
    "table(employer_measures_2017$emp_cat)"
   ]
  },
  {
   "cell_type": "markdown",
   "metadata": {},
   "source": [
    "Now that we have a categorical variable for the size of the employer, we link the `employer_measures_cohort` dataframe to our joined cohort-wages data frame `cohort_wages_empr`."
   ]
  },
  {
   "cell_type": "code",
   "execution_count": null,
   "metadata": {},
   "outputs": [],
   "source": [
    "employer_measures_cat <- employer_measures_2017 %>%\n",
    "    # selecting out Employer number and categorical variable of interest\n",
    "    select(Empr_no, emp_cat)\n",
    "\n",
    "# performing an inner join so that we only keep individuals who are hired by employers for whom we have employer measures\n",
    "cohort_wages_merged_measures <- inner_join(cohort_wages_empr, \n",
    "          employer_measures_cat, \n",
    "          by=\"Empr_no\")\n",
    "\n",
    "table(cohort_wages_merged_measures$emp_cat)"
   ]
  },
  {
   "cell_type": "markdown",
   "metadata": {},
   "source": [
    "Now, we will count the number of unique individuals and employers we have in our merged dataframe.  \n",
    "\n",
    "> We expect this number to be lower than what we saw for `cohort_wages_empr` as not all employers are captured in `employer_measures` (reminder: employer may not exist or has less than 5). "
   ]
  },
  {
   "cell_type": "code",
   "execution_count": null,
   "metadata": {},
   "outputs": [],
   "source": [
    "cohort_wages_merged_measures %>%\n",
    "    summarize(unique_indiv = n_distinct(ssn), \n",
    "              unique_emp = n_distinct(Empr_no))"
   ]
  },
  {
   "cell_type": "markdown",
   "metadata": {},
   "source": [
    "## Employee-employer combinations (matches)\n",
    "Next, we select out the columns for `ssn`, `Empr_no` and `emp_cat` to have a dataframe that corresponds to employee-employer matches. "
   ]
  },
  {
   "cell_type": "code",
   "execution_count": null,
   "metadata": {},
   "outputs": [],
   "source": [
    "emp_empr_matches <- cohort_wages_merged_measures %>% \n",
    "    select(ssn, Empr_no, emp_cat) \n",
    "\n",
    "head(emp_empr_matches)"
   ]
  },
  {
   "cell_type": "markdown",
   "metadata": {},
   "source": [
    "The next step in our methodology is to **count the number of quarters during the first year of exit** for which an employee stayed with the same employer.\n",
    "\n",
    "Thus, we will require another data pull that captures our TANF cohort's employment for the first year after exit. Since our exit quarter is '2018 Q2', the first year would include: '2018 Q3', '2018 Q4', '2019 Q1', '2019 Q2'. "
   ]
  },
  {
   "cell_type": "markdown",
   "metadata": {},
   "source": [
    "## Cohort Wages \n",
    "\n",
    "We use the following code to read in cohort wages for the first 4 quarters (one year) after exit. This is similar to what we saw in the `03_Linkage_and_Longitudinal_Analysis` notebooks. "
   ]
  },
  {
   "cell_type": "code",
   "execution_count": null,
   "metadata": {},
   "outputs": [],
   "source": [
    "qry <- \"SELECT nb.ssn, wr.Empr_no, wr.Year, wr.Quarter, wr.Wage, wr.yr_quarter \n",
    "    FROM \n",
    "    tr_tdc_2022.dbo.nb_cohort nb\n",
    "    INNER JOIN \n",
    "    (\n",
    "        select SSN, Empr_no, Year, Quarter, Wage, yr_quarter\n",
    "        FROM tr_tdc_2022.dbo.wages_tanf\n",
    "        WHERE yr_quarter IN ('2018 Q3', '2018 Q4', '2019 Q1', '2019 Q2')\n",
    "    ) wr\n",
    "    ON wr.SSN=nb.SSN\n",
    "\"\n",
    "\n",
    "cohort_wages <- dbGetQuery(con,qry)\n",
    "\n",
    "head(cohort_wages)"
   ]
  },
  {
   "cell_type": "markdown",
   "metadata": {},
   "source": [
    "## Quarters worked for the same employer\n",
    "\n",
    "We will look at the number of quarters each individual is employed by the same employer over the year following their exit. \n",
    "\n",
    "The `emp_empr_matches` dataframe contains a list of unique employee-employer combinations from '2018 Q3'. `cohort_wages` contains employee-employer combinations from '2018 Q3', '2018 Q4', '2019 Q1' and '2019 Q2'. \n",
    "\n",
    "To identify the number of quarters each individiaul worked for the same employer, we merge the 2 dataframes and count the unique number of quarters for each employee-employer pair. "
   ]
  },
  {
   "cell_type": "code",
   "execution_count": null,
   "metadata": {},
   "outputs": [],
   "source": [
    "merged_cohort <- inner_join(emp_empr_matches, # employee-employer matches \n",
    "                            cohort_wages, # employee-employer matches for first year after exit\n",
    "                            by=c(\"ssn\", \"Empr_no\"))"
   ]
  },
  {
   "cell_type": "markdown",
   "metadata": {},
   "source": [
    "Once we have the merged dataframe, we group by our `ssn`-`Empr_no`-`emp_cat` and count the number of unique `yr_quarter`s. "
   ]
  },
  {
   "cell_type": "code",
   "execution_count": null,
   "metadata": {},
   "outputs": [],
   "source": [
    "merged_cohort_num_quart = merged_cohort %>%\n",
    "        group_by(ssn, Empr_no, emp_cat) %>%\n",
    "        summarize(num_quart_emp = n_distinct(yr_quarter)) %>%\n",
    "        ungroup()\n",
    "\n",
    "head(merged_cohort_num_quart)"
   ]
  },
  {
   "cell_type": "markdown",
   "metadata": {},
   "source": [
    "#### Portion of employees that stayed with the same employer for 1, 2, 3 or 4 quarters\n",
    "\n",
    "The goal here is to explore whether TANF exiters who are hired by larger firms are more likely to stay with that employer compared to exiters who are hired by smaller firms. To do this, we will calculate the portion of employees that stayed with the same employer for 1, 2, 3 or 4 quarters after exit broken down by whether they were hired by a large firm or a smaller firm at the time of exit."
   ]
  },
  {
   "cell_type": "code",
   "execution_count": null,
   "metadata": {},
   "outputs": [],
   "source": [
    "grouped <- merged_cohort_num_quart %>%\n",
    "    # grouping by type of employer (Large or Small)\n",
    "    group_by(emp_cat) %>%\n",
    "    # counting the number of employee-employer pairs in first quarter after exit for large and small firms\n",
    "    mutate(pop = n()) %>%\n",
    "    ungroup() %>%\n",
    "    # grouping by type of employer and number of quarters (1, 2, 3, 4)\n",
    "    group_by(emp_cat, num_quart_emp) %>%\n",
    "    # counting the number of unique \n",
    "    summarize(pop=unique(pop),  # every pop value in this grouping is the same, we keep one of them (otherwise, data will repeat itself)\n",
    "              job_count = n(),  # counting the number of employee-employer pairs by type of employer and number of quarters\n",
    "             portion=job_count*100/pop) # calculating portion\n",
    "\n",
    "head(grouped)"
   ]
  },
  {
   "cell_type": "markdown",
   "metadata": {},
   "source": [
    "## Visualizing Results\n",
    "\n",
    "We visualize our results in the form of a bar plot to better understand outcomes. "
   ]
  },
  {
   "cell_type": "code",
   "execution_count": null,
   "metadata": {},
   "outputs": [],
   "source": [
    "ggplot(grouped, \n",
    "       aes(x=num_quart_emp, \n",
    "           y=portion, \n",
    "           fill=emp_cat))+\n",
    "  geom_bar(stat='identity', position='dodge')"
   ]
  },
  {
   "cell_type": "markdown",
   "metadata": {},
   "source": [
    "As you can see from this visual: \n",
    "1. The most common outcome is only staying with the same employer for one quarter \n",
    "2. TANF exiters employed by smaller firms are more likely to work with that firm for 1 quarter or 4 quarters compared to their counterparts employed at larger firms. "
   ]
  },
  {
   "cell_type": "markdown",
   "metadata": {},
   "source": [
    "# Opportunity\n",
    "\n",
    "The second measure of interest for this notebook is Employment Growth Rate. The goal is to look at average employment growth rate and identify the outcomes of individuals who are employed by high-, medium- and low-growth employers. \n",
    "\n",
    "The outcome we consider is the percent of individuals within each group that were employed in each quarter of the year following exit. For example, of our cohort that was hired in '2018 Q3' by high growth employers, what percentage was employed in the second, third and fourth quarters after exit?\n",
    "\n",
    "Note that we are looking at employment in general and not just employment with the same employer. Also note the underlying assumption that if a TANF recipient gets a \"good\" job, they might be able to transition into an even better job more easily. This allows us to understand TANF recipients' total employment trajectory based on the type of employer they were hired by as soon as they exit. "
   ]
  },
  {
   "cell_type": "markdown",
   "metadata": {},
   "source": [
    "## Descriptive Statistics\n",
    "\n",
    "Similar to what we did for Firm Characteristics, we perform basic summary statistics. Our measure of interest for this section is Employment Growth Rate which is captured by the following variable: `avg_emp_rate`. \n",
    "\n",
    "\n",
    "> Note: The values for `avg_emp_rate` are bound between -2 and 2"
   ]
  },
  {
   "cell_type": "code",
   "execution_count": null,
   "metadata": {},
   "outputs": [],
   "source": [
    "# getting the mean, median, standard deviation, min and max values for `avg_emp_rate`\n",
    "employer_measures_cohort %>%\n",
    "    summarize(mean_emp = mean(avg_emp_rate), \n",
    "             median_emp = median(avg_emp_rate), \n",
    "             sd_emp = sd(avg_emp_rate), \n",
    "             min_emp = min(avg_emp_rate), \n",
    "             max_emp = max(avg_emp_rate))"
   ]
  },
  {
   "cell_type": "markdown",
   "metadata": {},
   "source": [
    "Next, we compare our results with the all other employers from 2017."
   ]
  },
  {
   "cell_type": "code",
   "execution_count": null,
   "metadata": {},
   "outputs": [],
   "source": [
    "employer_measures %>%\n",
    "    filter(!Empr_no %in% cohort_wages_empr$Empr_no, \n",
    "                  year == 2017) %>%\n",
    "      summarize(mean_emp = mean(avg_emp_rate), \n",
    "             median_emp = median(avg_emp_rate), \n",
    "             sd_emp = sd(avg_emp_rate), \n",
    "             min_emp = min(avg_emp_rate), \n",
    "             max_emp = max(avg_emp_rate)) \n",
    "\n"
   ]
  },
  {
   "cell_type": "markdown",
   "metadata": {},
   "source": [
    "Employers who hire from our cohort of TANF exiters have lower mean and median employment growth rates. "
   ]
  },
  {
   "cell_type": "markdown",
   "metadata": {},
   "source": [
    "## Differentiating Employers\n",
    "In this section, we are looking to identify high-, medium-, and low-growth employers. We define these as follows:\n",
    "\n",
    "- High: >= 75th percentile of `avg_emp_rate`\n",
    "- Medium: > 25th percentile and < 75th percentile of `avg_emp_rate`\n",
    "- Low: <= 25th percentile of `avg_emp_rate`\n",
    "\n",
    "We use R's `quantile` function to get the 25th and 75th percentiles for `avg_emp_rate` and assign these to `p25` and `p75` respectively. "
   ]
  },
  {
   "cell_type": "code",
   "execution_count": null,
   "metadata": {},
   "outputs": [],
   "source": [
    "p <- quantile(employer_measures$avg_emp_rate,\n",
    "              probs = c(.25, .75))\n",
    "\n",
    "p"
   ]
  },
  {
   "cell_type": "markdown",
   "metadata": {},
   "source": [
    "The first value corresponds to 25th percentile and the second value corresponds to the 75th percentile. "
   ]
  },
  {
   "cell_type": "code",
   "execution_count": null,
   "metadata": {},
   "outputs": [],
   "source": [
    "# extracting 25th and 75th percentile \n",
    "p25 <- p[1]\n",
    "p75 <- p[2]"
   ]
  },
  {
   "cell_type": "markdown",
   "metadata": {},
   "source": [
    "We define a categorical variable, `emp_rate_cat` by taking into account the 25th and 75th percentiles. "
   ]
  },
  {
   "cell_type": "code",
   "execution_count": null,
   "metadata": {},
   "outputs": [],
   "source": [
    "employer_measures <- employer_measures %>%\n",
    "    mutate(emp_rate_cat = case_when(\n",
    "                                # Low: <= 25th percentile\n",
    "                                avg_emp_rate <= p25 ~ \"Low\", \n",
    "                                # Medium: > 25th and < 75th percentile\n",
    "                                avg_emp_rate > p25 & avg_emp_rate < p75 ~ \"Medium\", \n",
    "                                # High: >= 75th percentile\n",
    "                                TRUE ~ \"High\")\n",
    "          )\n",
    "\n",
    "table(employer_measures$emp_rate_cat)"
   ]
  },
  {
   "cell_type": "markdown",
   "metadata": {},
   "source": [
    "Next, we select columns for `Empr_no` and `emp_rate_cat` – this removes columns that we do not require for further analysis. "
   ]
  },
  {
   "cell_type": "code",
   "execution_count": null,
   "metadata": {},
   "outputs": [],
   "source": [
    "employer_measures_growth_cat <- employer_measures %>%\n",
    "    filter(year==2017) %>%\n",
    "    select(Empr_no, emp_rate_cat)"
   ]
  },
  {
   "cell_type": "markdown",
   "metadata": {},
   "source": [
    "## Linking with Cohort (first quarter)\n",
    "\n",
    "Now that we have a categorical variable of our interest, we link the `employer_measures_cohort` to `cohort_wages_empr` to add the categorical variable for employment growth rate to our data. \n",
    "\n",
    "We only keep `ssn` an `emp_rate_cat` – removing any unnecessary columns. The resulting dataframe will give us the growth category (High/Medium/Low) a TANF recipient's first employer (after exit) falls in. "
   ]
  },
  {
   "cell_type": "code",
   "execution_count": null,
   "metadata": {},
   "outputs": [],
   "source": [
    "emp_empr_matches_growth <- inner_join(cohort_wages_empr, \n",
    "                                                employer_measures_growth_cat, by=\"Empr_no\") %>%\n",
    "                                     select(ssn, emp_rate_cat)\n",
    "\n",
    "table(emp_empr_matches_growth$emp_rate_cat)\n",
    "head(emp_empr_matches_growth)"
   ]
  },
  {
   "cell_type": "markdown",
   "metadata": {},
   "source": [
    "## Merging\n",
    "\n",
    "We will pull wage data for the same individuals we see above (in `emp_empr_matches_growth`). This will allow us to track employment for these individuals. We will be pulling this data for: '2018 Q3', '2018 Q4', '2019 Q1', '2019 Q2'. \n",
    " \n",
    "Next, we will combine the two dataframes from above using the `left_join` function, selecting out only variables we need for this analysis. We perform this join on `ssn` and not a combination of `ssn` and `Empr_no` because we are interested in seeing *any* form of employment as opposed to looking at employment with the same employer. Our goal is to look at initial employment after exit and **how it effects our cohort's trajectories over the next year**. "
   ]
  },
  {
   "cell_type": "code",
   "execution_count": null,
   "metadata": {},
   "outputs": [],
   "source": [
    "merged_cohort_wages_cat_g <- cohort_wages %>%  \n",
    "                        select(ssn, Empr_no, yr_quarter) %>%\n",
    "                        left_join(emp_empr_matches_growth, by=c('ssn')) %>%\n",
    "                        filter(!is.na(emp_rate_cat)) # dropping employers that did not hire from our TANF cohort\n",
    "\n",
    "\n",
    "\n",
    "head(merged_cohort_wages_cat_g)"
   ]
  },
  {
   "cell_type": "markdown",
   "metadata": {},
   "source": [
    "We use the code below to save this table in our SQL database – we will utilize this for one of the later notebooks in Module 3. We have commented this out for now. "
   ]
  },
  {
   "cell_type": "code",
   "execution_count": null,
   "metadata": {},
   "outputs": [],
   "source": [
    "```\n",
    "qry <- \"use tr_tdc_2022;\"\n",
    "DBI::dbExecute(con, qry)\n",
    "\n",
    "DBI::dbWriteTable(\n",
    "    conn = con,\n",
    "    name = DBI::SQL(\"dbo.merged_cohort_wages_growth\"), \n",
    "    value = merged_cohort_wages_cat_g,\n",
    "    overwrite = TRUE\n",
    ")\n",
    "```"
   ]
  },
  {
   "cell_type": "markdown",
   "metadata": {},
   "source": [
    "## Percentage of Cohort Employed\n",
    "\n",
    "In this section, we calculate the percentage of our cohort employed in each quarter by the type (high-growth/medium-growth/low-growth) of employer they were hired by after they exited TANF.\n",
    "\n",
    "> Note: In the Firm Characteristics section, we looked at the number of quarters an individual worked at the same employer. Here, we are looking at each quarter and calculating the percentage of individuals employed from each group. "
   ]
  },
  {
   "cell_type": "code",
   "execution_count": null,
   "metadata": {},
   "outputs": [],
   "source": [
    "grouped_growth_cat <- merged_cohort_wages_cat_g %>%\n",
    "    # grouping by type of employer growth category (for first employer after exit)\n",
    "    group_by(emp_rate_cat)  %>% \n",
    "    # getting total number of individuals falling in each category in the first quarter after exit\n",
    "    mutate(pop = n_distinct(ssn)) %>%\n",
    "    ungroup() %>%\n",
    "    # grouping by employer growth category and quarter\n",
    "    group_by(emp_rate_cat, yr_quarter) %>% \n",
    "    # counting and creating percentage of cohort employed\n",
    "    summarize(count = n_distinct(ssn), \n",
    "             pop = unique(pop), \n",
    "             perc = count/pop)\n",
    "\n",
    "head(grouped_growth_cat)"
   ]
  },
  {
   "cell_type": "markdown",
   "metadata": {},
   "source": [
    "## Visualizing Results\n",
    "\n",
    "Lastly, we visualize our results to understand how the employer growth category impacts trajectories of TANF recipients after they exit. "
   ]
  },
  {
   "cell_type": "code",
   "execution_count": null,
   "metadata": {},
   "outputs": [],
   "source": [
    "grouped_growth_cat %>%\n",
    "    ggplot() + \n",
    "    aes(x = yr_quarter,\n",
    "        y = perc, \n",
    "        group = emp_rate_cat, \n",
    "        color = emp_rate_cat) +  \n",
    "    geom_line() + \n",
    "    expand_limits(y = 0)"
   ]
  },
  {
   "cell_type": "markdown",
   "metadata": {},
   "source": [
    "One might think that high growth rate jobs would lead to more positive employment outcomes, but this does not seem to be the case (especially in later quarters). In the figure above, you can see that those who were initially employed in high growth jobs are the least likely to be employed in '2019 Q2'. It is likely that a lot of things correlated with these high growth employers. This is why instead of looking at measures in isolation, you might want to group employers based on multiple measures as seen in the next notebook: `04_Characterizing_Demand_Advanced.ipynb`. \n",
    "\n",
    "> Note: The next notebook (`04_Characterizing_Demand_Advanced.ipynb`) uses Unsupervised Machine Learning and more advanced coding which might not be appropriate for all class participants."
   ]
  },
  {
   "cell_type": "code",
   "execution_count": null,
   "metadata": {},
   "outputs": [],
   "source": []
  }
 ],
 "metadata": {
  "kernelspec": {
   "display_name": "R",
   "language": "R",
   "name": "ir"
  },
  "language_info": {
   "codemirror_mode": "r",
   "file_extension": ".r",
   "mimetype": "text/x-r-source",
   "name": "R",
   "pygments_lexer": "r",
   "version": "3.6.3"
  }
 },
 "nbformat": 4,
 "nbformat_minor": 4
}
