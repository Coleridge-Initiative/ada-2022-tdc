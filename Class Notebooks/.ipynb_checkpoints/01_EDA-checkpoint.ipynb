{
 "cells": [
  {
   "cell_type": "markdown",
   "metadata": {},
   "source": [
    "<center><br><br>\n",
    "    TANF Data Collaborative <br>\n",
    "    Applied Data Analytics Training | Spring 2022\n",
    "    <h1> Exploratory Data Analysis and Dataset Introduction </h1>\n",
    "    <span style=\"font-size: 1.5em;\">\n",
    "        <a href='https://www.coleridgeinitiative.org'>Coleridge Initiative</a>\n",
    "    </span>\n",
    "    <center>Benjamin Feder, Maryah Garner, Allison Nunez, Carolyn D. Gorman</center>\n",
    "    <a href=\"https://doi.org/10.5281/zenodo.7459267\"><img src=\"https://zenodo.org/badge/DOI/10.5281/zenodo.7459267.svg\" alt=\"DOI\"></a>\n",
    "\n",
    "</center>\n",
    "\n",
    "***"
   ]
  },
  {
   "cell_type": "markdown",
   "metadata": {},
   "source": [
    "Exploratory Data Analysis (EDA) is a vital first step in any data analysis process. It provides an opportunity to get a better sense of the data available in your project, and in doing so, may provide interesting insights worth exploring in the future. In this notebook, we will walk through a basic EDA process on two of the primary datasets available for you in this training program:\n",
    "\n",
    "1. Indiana's TANF Data\n",
    "2. Indiana's Unemployment Insurance Wage Records\n",
    "\n",
    "Even if you are confident your analysis is completely developed, undergoing the EDA process is still essential, as it can function as a part of a data quality check as well."
   ]
  },
  {
   "cell_type": "markdown",
   "metadata": {},
   "source": [
    "## 1. Getting started\n",
    "\n",
    "Before we can dive into the data, we need to load certain packages in R and establish a connection to the proper data source. You will need to do this in every R notebook you create, and we recommend copying these first two code blocks to start any R notebook in the future.\n",
    "\n",
    "> Note: The `options` and `supressMessages` functions prevent a long warning message output from being displayed after running the first code block."
   ]
  },
  {
   "cell_type": "code",
   "execution_count": null,
   "metadata": {},
   "outputs": [],
   "source": [
    "options(warn = -1)                   # switches warnings off\n",
    "\n",
    "suppressMessages(library(odbc))      # allows R to connect with the database\n",
    "suppressMessages(library(tidyverse)) # useful for data manipulation and visualization\n",
    "suppressMessages(library(scales))    # to calculate percentages, graphing\n",
    "suppressMessages(library(lubridate)) # for easy working with dates \n",
    "\n",
    "options(warn = 0)                    # switches warnings on \n",
    "options(scipen=999)                  # prevents scientific notation"
   ]
  },
  {
   "cell_type": "code",
   "execution_count": null,
   "metadata": {},
   "outputs": [],
   "source": [
    "# server connection\n",
    "con <- DBI::dbConnect(odbc::odbc(),\n",
    "                     Driver = \"SQL Server\",\n",
    "                     Server = \"msssql01.c7bdq4o2yhxo.us-gov-west-1.rds.amazonaws.com\",\n",
    "                     Trusted_Connection = \"True\")"
   ]
  },
  {
   "cell_type": "markdown",
   "metadata": {},
   "source": [
    "## 2. Indiana TANF Data\n",
    "\n",
    "The Indiana TANF data has been provided by the Indiana Family and Social Services Administration and includes TANF caseload records. These records have been put into the Chapin Hall data model and transformed into two files-(1) **case_month**, which contains information by TANF case and (2) **person_month**, which breaks the TANF data down by person. In the remaining notebooks for this course, we will be using a slightly cleaned and combined version of these two tables in **person_month_clean**. For the sake of run time, we have also taken a 10% sample of the original **person_month_clean** file--**person_month_clean_10pct**--that we will be using in this section. \n",
    "\n",
    "The code to create **person_month_clean** (and **person_month_clean_10pct**) from the existing **case_month** and **person_month** files is available in the supplemental file **Clean_tanf_and_wage_data.ipynb**. \n",
    "> Note: To get the 10% sample, we randomly selected 10% of all ssn's in the **person_month_clean** data table and then pulled all observations for those selected individuals. This way we can follow our selected 10% sample over time. "
   ]
  },
  {
   "cell_type": "markdown",
   "metadata": {},
   "source": [
    "### Defining a Row \n",
    "\n",
    "We will begin our EDA for the Indiana TANF data by quickly taking a look at the data and then defining a row. Based on the dataset, a row may represent many different occurrences in TANF data; it may be a person, a case, or one of them in combination with a specific time frame, say a month. Understanding a row will allow you to form a plan for eventually developing your analytical frame and understanding the decisions you may need to make (filters, duplications, etc.) to do so.\n",
    "\n",
    "First, we will explore five rows of the cleaned 10% sample of the TANF data and then count the number of rows and compare that to the number of records of individuals and cases in the data.\n",
    "\n",
    "> Use the data documentation to look up what each of these columns represent."
   ]
  },
  {
   "cell_type": "code",
   "execution_count": null,
   "metadata": {},
   "outputs": [],
   "source": [
    "# Select first 5 rows the 10% sample of tanf data in Indiana\n",
    "    # Create query character string\n",
    "        # Database name: tr_tdc_2022\n",
    "        # Schema name: dbo\n",
    "        # Table name: person_month_clean_10pct\n",
    "\n",
    "query <- \"\n",
    "SELECT TOP 5 * \n",
    "FROM tr_tdc_2022.dbo.person_month_clean_10pct;\n",
    "\"\n",
    "\n",
    "# read in query results in the object \"temp\"\n",
    "temp <- dbGetQuery(con, query)\n",
    "\n",
    "# view the temp data frame\n",
    "temp"
   ]
  },
  {
   "cell_type": "markdown",
   "metadata": {},
   "source": [
    "As you can see, there are only 20 columns showing and there is a `...` between **ncp** and **deemed_2prt**, meaning that 48 of the 68 columns are not showing. We can use the `names()` function to see all of the column names in the data frame **temp**."
   ]
  },
  {
   "cell_type": "code",
   "execution_count": null,
   "metadata": {},
   "outputs": [],
   "source": [
    "# see all variable names in temp\n",
    "names(temp)\n",
    "\n",
    "# remove temp from the environment\n",
    "# since we only used temp to see the variable names, we will remove it for efficiency\n",
    "rm(temp)"
   ]
  },
  {
   "cell_type": "markdown",
   "metadata": {},
   "source": [
    "After referring to the data dictionary, we can see that the **ssn** and **caseid** are the person- and case-level identifiers in the data set."
   ]
  },
  {
   "cell_type": "code",
   "execution_count": null,
   "metadata": {},
   "outputs": [],
   "source": [
    "# Find number of rows, unique people, and unique cases in 10% sample of TANF data\n",
    "\n",
    "query <- \"\n",
    "SELECT COUNT(*) AS number_rows, COUNT(DISTINCT(ssn)) AS number_people, \n",
    "    COUNT(DISTINCT(caseid)) AS number_cases\n",
    "FROM tr_tdc_2022.dbo.person_month_clean_10pct;\n",
    "\"\n",
    "\n",
    "dbGetQuery(con, query)"
   ]
  },
  {
   "cell_type": "markdown",
   "metadata": {},
   "source": [
    "Each row of **person_month_clean_10pct** represents an observation--or a record--of a person on a TANF case per month in a given year. Note that the number of unique individuals (**ssn**) is fewer than the total number of rows and cases (**caseid**) in the sample, suggesting that an individual will have a record for each month they receive TANF assistance. This makes sense, as one individual could be present in many rows; and they may also be associated with more than one case (for example, if they exit and reenter TANF). Also, note that many individuals within a family will be associated with the same case (**caseid**).\n",
    "\n",
    "> Note: In the pre-cleaned **person_month** data table, there are a small number of individuals with more than one observation per case per month and/or more than one case per month. For pedagogical purposes, we removed these observation from the analytical frame used during this class. Please refer to the **Clean_tanf_and_wage_data.ipynb** script to see how this cleaning was performed."
   ]
  },
  {
   "cell_type": "markdown",
   "metadata": {},
   "source": [
    "### Range of the Data Source\n",
    "\n",
    "Within the project scoping process, it is essential to understand the coverage of the data from a time perspective. In this training program, where groups are expected to build out longitudinal analyses, confirming the range of the data source is a necessary part of EDA. \n",
    "\n",
    "> Note: We will read the data into R, which may take a few seconds to complete. You can continue to explore the data in SQL as well."
   ]
  },
  {
   "cell_type": "code",
   "execution_count": null,
   "metadata": {},
   "outputs": [],
   "source": [
    "# query the 10% sample of tanf data in Indiana\n",
    "# please feel free to select in different variables!\n",
    "\n",
    "query <- \"\n",
    "SELECT ssn, caseid, dob, yr_month, welig, affil, tanf_total_months, tanf_start, hispan, native, asian, black, \n",
    "    hawaia, white, county\n",
    "FROM tr_tdc_2022.dbo.person_month_clean_10pct;\n",
    "\"\n",
    "\n",
    "# read in query results to a data frame in R\n",
    "df_tanf <- dbGetQuery(con, query)\n",
    "\n",
    "# View the first 6 observations\n",
    "head(df_tanf)"
   ]
  },
  {
   "cell_type": "code",
   "execution_count": null,
   "metadata": {},
   "outputs": [],
   "source": [
    "# find range of the yr_month variable\n",
    "range(df_tanf$yr_month)"
   ]
  },
  {
   "cell_type": "markdown",
   "metadata": {},
   "source": [
    "Data between October 2008 and July 2019 provide a long time frame over which to explore employment outcomes of TANF participation. "
   ]
  },
  {
   "cell_type": "markdown",
   "metadata": {},
   "source": [
    "### Explore Columns of Interest\n",
    "\n",
    "Columns often represent variables in data tables. At this point in your project, you may have identified certain columns of interest. We will walk you through exploring one numeric and one non-numeric variable."
   ]
  },
  {
   "cell_type": "markdown",
   "metadata": {},
   "source": [
    "#### Numeric Variable Exploration\n",
    "\n",
    "We will explore an age variable in this section. You may have noticed that the variable does not already exist for you in the data, as we will be creating it from the **yr_month** and **dob** columns. We can do so by dividing the span of time between **dob** and **yr_month** by years with the help of the `lubridate` package."
   ]
  },
  {
   "cell_type": "code",
   "execution_count": null,
   "metadata": {},
   "outputs": [],
   "source": [
    "# create age variable in tanf data \n",
    "df_tanf <- df_tanf %>%\n",
    "    mutate(\n",
    "        age = trunc((dob %--% yr_month) / years(1)) # %--% creates a time interval\n",
    "    )\n",
    "\n",
    "# see df_tanf with new age variable at end\n",
    "head(df_tanf)"
   ]
  },
  {
   "cell_type": "markdown",
   "metadata": {},
   "source": [
    "Now that we have the **age** variable created, let's look at the distribution of ages for TANF recipient exiters at a single point in time (April 2018).\n",
    "\n",
    "> Note: You could use the below code to explore a variable that exists in the data as a numeric variable, such as **tanf_total_months**."
   ]
  },
  {
   "cell_type": "code",
   "execution_count": null,
   "metadata": {},
   "outputs": [],
   "source": [
    "# see age distribution with a quick numerical summary\n",
    "df_tanf %>%\n",
    "    filter(yr_month == as.Date(\"2018-04-01\")) %>%\n",
    "    select(age) %>%\n",
    "    summary()"
   ]
  },
  {
   "cell_type": "markdown",
   "metadata": {},
   "source": [
    "We can also view this distribution visually to help inform our understanding. With a numerical variable, a histogram can be a helpful visual option for exploring its distribution. We will leverage the `ggplot2` package (part of the `tidyverse`) to create a histogram of **age**."
   ]
  },
  {
   "cell_type": "code",
   "execution_count": null,
   "metadata": {},
   "outputs": [],
   "source": [
    "# see age distribution instead with a quick visual summary\n",
    "# include density plot with stat(density)\n",
    "df_tanf %>%\n",
    "    filter(yr_month == as.Date(\"2018-04-01\")) %>%\n",
    "    ggplot(aes(x=age, y = stat(density))) +\n",
    "    geom_histogram()"
   ]
  },
  {
   "cell_type": "markdown",
   "metadata": {},
   "source": [
    "Notice that most of the individuals we see at this point in time are under age 18, which is below the typical working age. This aligns with what we may have expected due to the TANF qualification requirements, which, in addition to an individual having access to federal benefits and being underemployed, include: \n",
    "1. Having a child 18 years or younger\n",
    "2. Being pregnant \n",
    "3. Being 18 years or younger and also the head of the household. \n",
    "\n",
    "We may want to only include those over a certain age when we later create our cohort because we are interested in *employment outcomes* of TANF exiters. "
   ]
  },
  {
   "cell_type": "markdown",
   "metadata": {},
   "source": [
    "#### Non-Numeric Variable Exploration\n",
    "\n",
    "Non-numeric variables can be explored in a different fashion. Whereas you can look at the distribution of a numeric variable by finding the mean or the median, non-numeric variable's require different approaches. Here we will explore TANF recipients by *month* by counting the number of individuals within each **yr_month** value.\n",
    "\n",
    "> Note: Missing variables often will appear as a separate value for non-numeric variables. We will discuss missingness in future lectures, and within EDA, identifying potential missingness within key variables is the goal."
   ]
  },
  {
   "cell_type": "code",
   "execution_count": null,
   "metadata": {},
   "outputs": [],
   "source": [
    "# count number of individuals receiving tanf benefits by month\n",
    "tanf_freq <- df_tanf %>%\n",
    "    group_by(yr_month) %>%\n",
    "    summarize(individuals = n_distinct(ssn)) %>%\n",
    "    ungroup()\n",
    "\n",
    "head(tanf_freq)"
   ]
  },
  {
   "cell_type": "markdown",
   "metadata": {},
   "source": [
    "Due to the amount of values of `yr_month`, it is a bit harder to digest this distribution in a tabular format. We can also view this distribution visually with a line graph, as the **yr_month** variable is a `date` type. \n",
    "\n",
    "> Note: Another visual option for viewing non-numeric variables is a bar plot."
   ]
  },
  {
   "cell_type": "code",
   "execution_count": null,
   "metadata": {},
   "outputs": [],
   "source": [
    "# line graph of frequency of individuals receiving tanf benefits by month\n",
    "tanf_freq %>% \n",
    "    ggplot(aes(x = yr_month, y = individuals)) +\n",
    "    geom_line()"
   ]
  },
  {
   "cell_type": "markdown",
   "metadata": {},
   "source": [
    "We can see that the number of individuals receiving TANF benefits drastically drops over this time frame. Perhaps some of this behavior may be influenced by the Great Recession (which began in 2008), and a similar trend is occuring across other states. However, it may also be attributable the TANF block grant itself, which is not inflation-adjusted and can be redirected to fund other state programs, thus leaving less money available for TANF recipient-seekers."
   ]
  },
  {
   "cell_type": "markdown",
   "metadata": {},
   "source": [
    "**Important note**: Since our TANF data start in October 2008, it appears as though all cases that started within or before the first month of data available for us were recorded as new cases. We can look at the distribution of new cases by month over the time frame of the TANF data."
   ]
  },
  {
   "cell_type": "code",
   "execution_count": null,
   "metadata": {},
   "outputs": [],
   "source": [
    "# distribution of new cases by month\n",
    "# using bar graph\n",
    "df_tanf %>%\n",
    "    filter(tanf_start == 1) %>%\n",
    "    group_by(yr_month) %>%\n",
    "    summarize(\n",
    "        individuals = n_distinct(ssn)\n",
    "    ) %>% \n",
    "    ungroup() %>%\n",
    "    ggplot(aes(x = yr_month, y = individuals)) +\n",
    "    geom_col()"
   ]
  },
  {
   "cell_type": "markdown",
   "metadata": {},
   "source": [
    "## 3. Wage data\n",
    "\n",
    "Now that we have a sense of the TANF data, let's separately look at the wage data. In future notebooks, we will work to leverage the two datasets to build out a longitudinal analysis. First, though, it is useful to explore them separately.\n",
    "\n",
    "We will follow the same process as we did with the TANF data.\n",
    "\n",
    "> Note: For similar run time concerns, we will use a 10% sample of the wage records in this notebook."
   ]
  },
  {
   "cell_type": "markdown",
   "metadata": {},
   "source": [
    "### Defining a Row"
   ]
  },
  {
   "cell_type": "code",
   "execution_count": null,
   "metadata": {},
   "outputs": [],
   "source": [
    "# see first few rows the 10% sample of wage data in Indiana\n",
    "# note: these are all of the variables, can use * to select all\n",
    "    # Database name: tr_tdc_2022\n",
    "    # Schema name: dbo\n",
    "    # Table name: wage_clean_10pct\n",
    "\n",
    "query <- \"\n",
    "SELECT TOP 5 SSN, Empr_no, EIN, Year, Quarter, Wage\n",
    "FROM tr_tdc_2022.dbo.wage_clean_10pct;\n",
    "\"\n",
    "\n",
    "# read in query results\n",
    "dbGetQuery(con, query)"
   ]
  },
  {
   "cell_type": "code",
   "execution_count": null,
   "metadata": {},
   "outputs": [],
   "source": [
    "# find number of rows, unique people, and unique cases in 10% sample of wage data\n",
    "query <- \"\n",
    "SELECT COUNT(*) AS number_rows, COUNT(DISTINCT(ssn)) AS number_people, COUNT(DISTINCT(Empr_no)) as number_employers\n",
    "FROM tr_tdc_2022.dbo.wage_clean_10pct;\n",
    "\"\n",
    "\n",
    "dbGetQuery(con, query)"
   ]
  },
  {
   "cell_type": "markdown",
   "metadata": {},
   "source": [
    "Similar to the structure of the TANF data, there is not just one row per individual (**SSN**) in these wage data. In fact, you can also see that there may be more than one employer (**Empr_no**) per individual. Wage records exist for individuals at the quarter-employer level. This means that a person who worked more than one quarter at a single employer or a person with multiple employers in a single quarter will have multiple records. It's also possible to have worked multiple jobs at multiple employers where the number of records and employers per person will exceed one."
   ]
  },
  {
   "cell_type": "markdown",
   "metadata": {},
   "source": [
    "### Range of the Wage Data"
   ]
  },
  {
   "cell_type": "code",
   "execution_count": null,
   "metadata": {},
   "outputs": [],
   "source": [
    "# query the 10% sample of wage data in Indiana\n",
    "query <- \"\n",
    "SELECT SSN, Empr_no, EIN, Year, Quarter, Wage \n",
    "FROM tr_tdc_2022.dbo.wage_clean_10pct;\n",
    "\"\n",
    "\n",
    "# read in query results to a data frame in R\n",
    "df_wage <- dbGetQuery(con, query)"
   ]
  },
  {
   "cell_type": "code",
   "execution_count": null,
   "metadata": {},
   "outputs": [],
   "source": [
    "range(df_wage$Year)"
   ]
  },
  {
   "cell_type": "markdown",
   "metadata": {},
   "source": [
    "Data between 2005 and 2020 give us a long time frame over which to explore employment outcomes of TANF exiters. "
   ]
  },
  {
   "cell_type": "markdown",
   "metadata": {},
   "source": [
    "### Numerical Variable Exploration\n",
    "\n",
    "For the numerical variable exploration, we will take a look at the **Wage** variable."
   ]
  },
  {
   "cell_type": "code",
   "execution_count": null,
   "metadata": {},
   "outputs": [],
   "source": [
    "# see wage distribution with a quick numerical summary\n",
    "df_wage %>%\n",
    "    select(Wage) %>%\n",
    "    summary()"
   ]
  },
  {
   "cell_type": "markdown",
   "metadata": {},
   "source": [
    "From this quick numerical summary, you can see that there are no zero or missing wage values in the 10% sample of Unemployment Insurance wage records in Indiana. In fact, the wage records were pre-cleaned to filter out all wage records of zero. \n",
    "\n",
    "However, note that while the wage records do not cover all employment histories, they do represent more than 95% of private wage and salary civilian jobs in the United States (U.S. Bureau of Labor Statistics). We will discuss missing wage records later in Module 2.\n",
    "\n",
    "However, if there were records of missing or zero earnings, you could apply the following filter: "
   ]
  },
  {
   "cell_type": "code",
   "execution_count": null,
   "metadata": {},
   "outputs": [],
   "source": [
    "# filter for only wages greater than 0\n",
    "# filter will automatically filter out all rows with NA values for the specified variables unless otherwise noted\n",
    "df_wage %>%\n",
    "    filter(Wage > 0 & !is.na(Wage)) %>%\n",
    "    select(Wage) %>%\n",
    "    summary()"
   ]
  },
  {
   "cell_type": "markdown",
   "metadata": {},
   "source": [
    "In the TANF data section, we visually explored a numerical variable using a histogram. We can reuse similar code to look at the wage distribution. "
   ]
  },
  {
   "cell_type": "code",
   "execution_count": null,
   "metadata": {},
   "outputs": [],
   "source": [
    "# see wage distribution instead with a quick visual summary\n",
    "# include density plot\n",
    "df_wage %>%\n",
    "    ggplot(aes(x = Wage, y = stat(density))) +\n",
    "    geom_histogram()"
   ]
  },
  {
   "cell_type": "markdown",
   "metadata": {},
   "source": [
    "This histogram is not very informative because there are a few outliers affecting the x-axis. To get more information about the distribution of the majority of the observed wages, we can adjust the x-axis parameters. Looking at the histagram above, we choose to narrow in the x-axis to 1-20,000. This is just to get a better view of the majority of the data. There are more technical methods you can use when conducting your analysis, such as right censoring. "
   ]
  },
  {
   "cell_type": "code",
   "execution_count": null,
   "metadata": {},
   "outputs": [],
   "source": [
    "# see wage distribution\n",
    "df_wage %>%\n",
    "    ggplot(aes(x = Wage, y = stat(density))) +\n",
    "    geom_histogram() +\n",
    "    xlim(0, 20000)  #restricts the x-axis values from 0 to 20000"
   ]
  },
  {
   "cell_type": "markdown",
   "metadata": {},
   "source": [
    "### Bonus section: Jobs per Quarter\n",
    "\n",
    "In evaluating a row in the wage records, we mentioned that one row does not necessarily correspond to all employment for an individual in a quarter. In fact, we can identify the distribution of number of jobs per person in a specific quarter (2018 Q3)."
   ]
  },
  {
   "cell_type": "code",
   "execution_count": null,
   "metadata": {},
   "outputs": [],
   "source": [
    "# find number of jobs per person in a quarter\n",
    "job_number <- df_wage %>%\n",
    "    filter(Year==2018, Quarter == 3) %>%\n",
    "    group_by(SSN) %>%\n",
    "    summarize(\n",
    "        n_jobs = n_distinct(Empr_no)\n",
    "    ) \n",
    "\n",
    "head(job_number)"
   ]
  },
  {
   "cell_type": "code",
   "execution_count": null,
   "metadata": {},
   "outputs": [],
   "source": [
    "# see distribution of individuals by number of jobs\n",
    "job_number %>% \n",
    "    count(n_jobs) %>%\n",
    "    mutate(\n",
    "        prop = n/sum(n)\n",
    "    )"
   ]
  },
  {
   "cell_type": "markdown",
   "metadata": {},
   "source": [
    "We can see that most individuals in our sample had either REDACTED or REDACTED jobs in this quarter."
   ]
  },
  {
   "cell_type": "markdown",
   "metadata": {},
   "source": [
    "## 4. References\n",
    "\n",
    "U.S. Bureau of Labor Statistics. (n.d.). Quarterly census of employment and wages: Overview. U.S. Bureau of Labor Statistics. Retrieved May 17, 2022, from https://www.bls.gov/opub/hom/cew/home.htm "
   ]
  }
 ],
 "metadata": {
  "kernelspec": {
   "display_name": "R",
   "language": "R",
   "name": "ir"
  },
  "language_info": {
   "codemirror_mode": "r",
   "file_extension": ".r",
   "mimetype": "text/x-r-source",
   "name": "R",
   "pygments_lexer": "r",
   "version": "3.6.3"
  }
 },
 "nbformat": 4,
 "nbformat_minor": 4
}
