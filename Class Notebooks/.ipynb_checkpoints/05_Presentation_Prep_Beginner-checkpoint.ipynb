{
 "cells": [
  {
   "cell_type": "markdown",
   "metadata": {},
   "source": [
    "<center><br><br>\n",
    "    <h4>TANF Data Collaborative </h4>\n",
    "    <h4>Applied Data Analytics Training | Spring 2022</h4>\n",
    "    <h1>Presentation Prep - Beginner</h1>\n",
    "</center>\n",
    "<center>\n",
    "    <span style=\"font-size: 1.5em;\">\n",
    "        <a href='https://www.coleridgeinitiative.org'>Coleridge Initiative</a>\n",
    "    </span>\n",
    "    <center>Maryah Garner, Rukhshan Arif Mian, Allison Nunez</center>\n",
    "    <a href=\"https://doi.org/10.5281/zenodo.7459704\"><img src=\"https://zenodo.org/badge/DOI/10.5281/zenodo.7459704.svg\" alt=\"DOI\"></a>\n",
    "</center>\n",
    "\n",
    "<br>\n",
    "\n",
    "***"
   ]
  },
  {
   "cell_type": "markdown",
   "metadata": {},
   "source": [
    "**_Presentation Prep Examples & Exercises_**"
   ]
  },
  {
   "cell_type": "markdown",
   "metadata": {},
   "source": [
    "This notebook provides information on how to prepare research output for disclosure control. It outlines how to prepare different kinds of outputs before submitting an export request and gives an overview of the information needed for disclosure review. _Please read through the entire notebook because it will separately discuss all types of outputs that will be flagged in the disclosure review process._\n",
    "\n",
    "\n",
    "For the purposes of this class, the disclosure rules are as follows:"
   ]
  },
  {
   "cell_type": "markdown",
   "metadata": {},
   "source": [
    "# TDC 2022 Class Export Review Guidelines \n",
    "\n",
    "- **Each team will be able to export up to 10 figures/tables**\n",
    "    \n",
    "    \n",
    "- **Every statistic for export should be based on at least 10 individuals and at least 3 employers**.\n",
    "     - Statistics that are based off of 0-9 individuals must be surpressed\n",
    "     - Statistics that are based off of 0-2 employers must be surpressed\n",
    "    \n",
    "    \n",
    "- **All counts will need to be rounded**\n",
    "    - Counts below 1000 should be rounded to the nearest 10\n",
    "    - Counts greater than or equal to 1000 should be rounded to the nearest 100\n",
    "    > For example, a count of 868 would be rounded to 870 and a count of 1868 would be rounded to 1900\n",
    "\n",
    "- **All reported wages will need to be rounded to the nearest hundred** \n",
    "    \n",
    "- **All reported averages will need to be rounded to the nearest hundredth** \n",
    "   \n",
    "   \n",
    "- **All percentages and proportions need to be rounded**\n",
    "    - The same rounding rule that is applied to counts must be applied to both the numerator and denominator\n",
    "    - Percentages must then be rounded to the nearest percent\n",
    "    - Proportions must be rounded to the nearest hundredth\n",
    "\n",
    "\n",
    "- **Exact percentiles can not be exported** \n",
    "    - Instead, for example, you may calculate a “fuzzy median”, by averaging the true 45th and 55th percentiles\n",
    "       > If you are calculating the fuzzy percentiles for wage, you will need to round to the nearest hundred after calculating the fuzzy percentile.\n",
    "\n",
    "       > If you are calculating the fuzzy percentile for a number of individuals, you will need to round to the nearest 10 if the count is less than 1000 and to the nearest hundred if the count is greater than or equal to 1000.\n",
    "  \n",
    "- **Exact Maxima and Minima can not be exported**\n",
    "    - Suppress maximum and minimum values in general. \n",
    "    - You may replace an exact maximum or minimum with a top-coded value or a fuzzy maximum or minimum value. For example: If the maximum value for earnings is 154,325, it could be top-coded as '100,000+'. And a fuzzy maximum value could be: \n",
    "    $$\\frac{95th\\ percentile\\ of\\ earnings + 154325}{2}$$\n",
    " \n",
    " \n",
    "- **Complementary suppression**\n",
    "    - If your figures include totals or are dependent on a preceding or subsequent figures, you need to take into account complementary disclosure risks—that is, whether the figure totals or the separate figures when read together, might disclose information about less then 10 individuals in the data in a way that a single, simpler table would not. Team facilitators and export reviewers will work with you by offering guidance on implementing any necessary complementary suppression techniques.\n"
   ]
  },
  {
   "cell_type": "markdown",
   "metadata": {},
   "source": [
    "##  Supporting Documentation for Exports\n",
    "\n",
    "For each exported figure, you will need to provide a table with **underlying counts** of individuals and employers for each statistic depicted in the figure. \n",
    "\n",
    "- You will need to include both the rounded and the unrounded counts of individuals.\n",
    "\n",
    "- If percentages or proportions are to be exported, you must report both the rounded and the unrounded counts of individuals for the numerator and denominator. You must also report the counts of employers for both the numerator and the denominator\n",
    "\n",
    "**Code**\n",
    "- Please provide the code for every output that needs to be exported and the code generating every table (csv) with underlying counts. It is important for the ADRF staff to have the code to better understand what exactly was done and to be able to replicate results. Understanding how research results are created is important in understanding the research output. Thus, it is important to document every step of the analysis in the Jupyter notebook. "
   ]
  },
  {
   "cell_type": "markdown",
   "metadata": {},
   "source": [
    "# Goal\n",
    "In this notebook we will show you how to implement the above export rules while creating the necessary input files and supporting code to create beautiful visuals that are presentation ready. \n",
    "\n",
    "We will cover the following visualizations in this notebook:\n",
    "- **Bar Plot**: visualizes relationships between numerical and categorical variables\n",
    "- **Bar Plot with distribution bars**: visualizes relationships between numerical and categorical variables\n",
    "- **Line Plot**: is commonly used for time series data to show how a variable changes over time"
   ]
  },
  {
   "cell_type": "markdown",
   "metadata": {},
   "source": [
    "## Colorblind-friendly Palette\n",
    "Throughout this notebook we will use colors from this color-blind friendly selection\n",
    "\n",
    "\"#009E73\", \"#0072B2\", \"#D55E00\", \"#CC79A7\", \"#999999\", \"#E69F00\",  \"#56B4E9\", \"#F0E442\""
   ]
  },
  {
   "cell_type": "markdown",
   "metadata": {},
   "source": [
    "## R Setup"
   ]
  },
  {
   "cell_type": "code",
   "execution_count": null,
   "metadata": {},
   "outputs": [],
   "source": [
    "# switching off warnings\n",
    "options(warn=-1)\n",
    "\n",
    "#database interaction imports\n",
    "suppressMessages(library(odbc))\n",
    "\n",
    "# for data manipulation/visualization\n",
    "suppressMessages(library(tidyverse))\n",
    "\n",
    "# scaling data, calculating percentages, overriding default graphing\n",
    "suppressMessages(library(scales))\n",
    "\n",
    "# to better view images\n",
    "# For easier viewing of graphs\n",
    "# Adjust repr.plot.width and repr.plot.height to change the size of graphs\n",
    "theme_set(theme_gray(base_size = 24))\n",
    "options(repr.plot.width = 20, repr.plot.height = 12)\n",
    "options(warn=0)\n",
    "\n",
    "# implementing option\n",
    "options(scipen = 100) "
   ]
  },
  {
   "cell_type": "markdown",
   "metadata": {},
   "source": [
    "Next, we connect to the database."
   ]
  },
  {
   "cell_type": "code",
   "execution_count": null,
   "metadata": {},
   "outputs": [],
   "source": [
    "# Connect to the database\n",
    "con <- DBI::dbConnect(odbc::odbc(),\n",
    "                     Driver = \"SQL Server\",\n",
    "                     Server = \"msssql01.c7bdq4o2yhxo.us-gov-west-1.rds.amazonaws.com\",\n",
    "                     Trusted_Connection = \"True\")"
   ]
  },
  {
   "cell_type": "markdown",
   "metadata": {},
   "source": [
    "# Summarize Information for the Cohort of Interest\n",
    "For our first visual, we will create a barplot that will summarise information about our cohort of interest. In this example we will visualize the average total months on TANF broken down by number of children comparing TANF recipients from our cohort who are on cases with one adult (Single Adult) and recipients from our cohort who are on cases with more than one adult (Not a Single Adult). As a reminder, our cohort consists of TANF recipients who exited in '2018 Q2'. "
   ]
  },
  {
   "cell_type": "markdown",
   "metadata": {},
   "source": [
    "#### Query the data"
   ]
  },
  {
   "cell_type": "markdown",
   "metadata": {},
   "source": [
    "The number of children (**num_child**) and number of adults (**num_adult**) who are on each case are found in the case_month file. In the following query we will join together the tr_tdc_2022.dbo.**nb_cohort** table we created in the **02_Creating_a_cohort.ipynb**  notebook and the ds_in_fssa.dbo.**case_month** table.\n",
    "- We will LEFT JOIN the case_month to the nb_cohort table by caseid and the year month variables (yr_month from nb_cohort and rptmn from case_month). Since we only have the last yr_month each person had data during '2018 Q2', we are only pulling data from the case_month file for the same year month combination. \n",
    "\n",
    "Note that: \n",
    "- Within`nb_cohort`, the `yr_month` variable is structured in the following way: '2018-05-01' \n",
    "- Within `case_month`, the `rptmn` variable is structured in the following way: '201805'\n",
    "\n",
    "Since we are using these variables as part of our join statement, we will need to align how these are structured. For this purpose, we use the `FORMAT` function in SQL to convert the `yr_month` variable from 'YYYY-MM-DD' to 'YYYY-MM' so that it follows the same format as `rptmn`. "
   ]
  },
  {
   "cell_type": "code",
   "execution_count": null,
   "metadata": {},
   "outputs": [],
   "source": [
    "query <- \"\n",
    "SELECT nb.ssn, nb.caseid, nb.tanf_total_months, nb.yr_month, cm.rptmn, cm.num_child, cm.num_adult\n",
    "FROM tr_tdc_2022.dbo.nb_cohort nb\n",
    "LEFT JOIN  ds_in_fssa.dbo.case_month cm\n",
    "ON nb.caseid = cm.caseid AND FORMAT(nb.yr_month, 'yyyyMM') = cm.rptmn\n",
    ";\n",
    "\"\n",
    "\n",
    "\n",
    "cohort <- dbGetQuery(con, query)\n",
    "\n",
    "head(cohort, 5)"
   ]
  },
  {
   "cell_type": "markdown",
   "metadata": {},
   "source": [
    "First we will look at the number of children who are on the same case as the adults that are in our cohort"
   ]
  },
  {
   "cell_type": "code",
   "execution_count": null,
   "metadata": {},
   "outputs": [],
   "source": [
    "cohort %>%\n",
    "    count(num_child)"
   ]
  },
  {
   "cell_type": "markdown",
   "metadata": {},
   "source": [
    "Next we will look at the the number of adults who are on the same case for the individuals that are in our cohort"
   ]
  },
  {
   "cell_type": "code",
   "execution_count": null,
   "metadata": {},
   "outputs": [],
   "source": [
    "cohort %>%\n",
    "    count(num_adult)"
   ]
  },
  {
   "cell_type": "markdown",
   "metadata": {},
   "source": [
    "####  Regroup the data\n",
    "As you can see, there are fewer than 10 individuals who have REDACTED, REDACTED or REDACTED children associated with their case. Thus, we will have to combine these categories to make it possible to export the data. \n",
    "\n",
    "We suggest the following regrouping: 1 child, 2 children, 3 children, and 4 or more children (4+). Note that this is a  rougher grouping than necessary for export purposes. However, it will help communicate the information in a more visually appealing way. \n",
    "\n",
    "We will also want to regroup the number of adults. To do this we will create a binary variable called `single_adult` that is equal to 1 if there is only one adult on the case and 0 otherwise."
   ]
  },
  {
   "cell_type": "code",
   "execution_count": null,
   "metadata": {},
   "outputs": [],
   "source": [
    "cohort2 <- cohort %>%\n",
    "    # categorical variable for number of children associated with a case\n",
    "    mutate(num_child = ifelse(num_child > 3, \"4+\", num_child),\n",
    "           # categorical variable for number of adults associated with a case\n",
    "           single_adult = ifelse(num_adult == 1, \"Single Adult\", \"Not a Single Adult\"))"
   ]
  },
  {
   "cell_type": "markdown",
   "metadata": {},
   "source": [
    "Count the number of individuals in each children by adult categories to make sure you have at least 10 individuals in each num_child by single_adult group. "
   ]
  },
  {
   "cell_type": "code",
   "execution_count": null,
   "metadata": {},
   "outputs": [],
   "source": [
    "cohort2 %>%\n",
    "    group_by(num_child, single_adult) %>%\n",
    "    summarise(count = n_distinct(ssn))"
   ]
  },
  {
   "cell_type": "markdown",
   "metadata": {},
   "source": [
    "#### Prepare the Data \n",
    "Now we have a sufficent number of individuals in each group, we will calculate the average number of months each group spent on TANF.\n",
    "\n",
    "For each figure/table you create, you should prepare the data for the supplementary table, and then use that data to produce the figure/table.\n",
    "\n",
    "> Since we are reporting the average number of months on TANF for the different groups, we will need to **round these averages to the nearest hundredth**. We will use the rounded averages in the figure and provide both the rounded and unrounded averages in the supplementary table."
   ]
  },
  {
   "cell_type": "code",
   "execution_count": null,
   "metadata": {},
   "outputs": [],
   "source": [
    "Figure_1_data <- cohort2 %>%\n",
    "    # grouping by children + adult categories\n",
    "    group_by(num_child, single_adult) %>%\n",
    "    # calculating average months\n",
    "    summarise(average_months = mean(tanf_total_months),\n",
    "              # rounding average months to nearest hundreth\n",
    "              average_months_rounded = round(average_months, 2),\n",
    "              # counting number of individuals \n",
    "              individuals = n_distinct(ssn)) %>%\n",
    "    ungroup()\n",
    "\n",
    "Figure_1_data\n",
    "              \n",
    "              "
   ]
  },
  {
   "cell_type": "markdown",
   "metadata": {},
   "source": [
    "#### Save the Data \n",
    "Save the data frame Figure_1_data to a csv. \n",
    "> In order to submit the following figure for export, you would need this csv as the supporting table. This table will not be exported, it will be used by the export team to make sure the figure passes the disclosure requirments. As in this example, all supporting tables should be generated programmatically (using only code) and the associated figure should be generated only using data that correspond to that table.\n",
    "\n",
    "> **Note: in order to save the data in this way, you will need a folder called \"Data\" in the same folder that contains your code/notebooks. If you copied over the Module 3 folder, the Data folder should already exist. If not, please first add a Data folder before running this code.**"
   ]
  },
  {
   "cell_type": "code",
   "execution_count": null,
   "metadata": {},
   "outputs": [],
   "source": [
    "write_csv(Figure_1_data, \"Data/Figure_1_data.csv\")"
   ]
  },
  {
   "cell_type": "markdown",
   "metadata": {},
   "source": [
    "We define colors for each category below:"
   ]
  },
  {
   "cell_type": "code",
   "execution_count": null,
   "metadata": {},
   "outputs": [],
   "source": [
    "single_color <- c('Single Adult' = \"#009E73\",\n",
    "                'Not a Single Adult' = \"#0072B2\") \n",
    "single_color"
   ]
  },
  {
   "cell_type": "markdown",
   "metadata": {},
   "source": [
    "## Bar Plot"
   ]
  },
  {
   "cell_type": "markdown",
   "metadata": {},
   "source": [
    "Once we have prepared our data, we can use the following code to create a bar plot that depicts the average number of months on TANF for each sub-category. When creating this graph, we want to compare the average months on TANF for single adults vs. non-single adults based on the different number of children categories. Since the comparison variable is `single_adult`, that is what we will input in the `fill` parameter. "
   ]
  },
  {
   "cell_type": "code",
   "execution_count": null,
   "metadata": {},
   "outputs": [],
   "source": [
    "Figure_1 <- Figure_1_data %>%\n",
    "               # num_child category on the x-axis\n",
    "    ggplot(aes(x = num_child, \n",
    "               # rounded average months on the y-axis\n",
    "               y = average_months_rounded, \n",
    "               # filling bars based on single_adult categories\n",
    "               fill = single_adult)) +\n",
    "    geom_bar(stat = \"identity\", position = 'dodge') +\n",
    "    scale_fill_manual(\"\", values = single_color) +\n",
    "    labs(\n",
    "        x = 'Number of Children', # labelling x axis\n",
    "        y = 'Average Months on TANF', # labelling y axis\n",
    "        # Add a title that conveys the main takeaway of the graph\n",
    "        title = 'On Average, Single Adults Spend Less Time on TANF \\n When There is More than One Child on a Case', # The \\n splits the title into two lines \n",
    "        caption = 'Indiana TANF data (2018 Q2 Exiters)' # cite the source of your data\n",
    "        ) "
   ]
  },
  {
   "cell_type": "markdown",
   "metadata": {},
   "source": [
    "#### Adjusting Font Sizes\n",
    "In order to make the plot presentation ready, we advise using readable font sizes, as the image will be added to either a presentation or report. We use the following code to implement this:"
   ]
  },
  {
   "cell_type": "code",
   "execution_count": null,
   "metadata": {},
   "outputs": [],
   "source": [
    "Figure_1 <- Figure_1 +\n",
    "   theme(\n",
    "        legend.text = element_text(size = 24), # legend text font size\n",
    "        legend.title = element_text(size = 24), # legend title font size\n",
    "        axis.text.x = element_text(size = 24), # x axis label font size\n",
    "        axis.title.x = element_text(size = 24), # x axis title font size\n",
    "        axis.text.y = element_text(size = 24), # y axis label font size\n",
    "        axis.title.y = element_text(size = 24) # y axis title font size\n",
    "    )\n",
    "\n",
    "# Display the graph that we just created\n",
    "Figure_1"
   ]
  },
  {
   "cell_type": "markdown",
   "metadata": {},
   "source": [
    "Note, given the scarcity of non-single adult households, these differences could be driven by a few outliers and you should not be using these differences in averages to make policy recommendations. This is purely for pedagogical purposes."
   ]
  },
  {
   "cell_type": "markdown",
   "metadata": {},
   "source": [
    "# Fuzzy quantiles\n",
    "\n",
    "You might not want a figure that only shows the average number of months, and want to convey information about the distribution of time on TANF for each subgroup. Next we will create a figure that is very similar to the one we just produced except each bar will represent the fuzzy median instead of the mean, and we will include distribution bars on each bar that represent the fuzzy 25th and 75th quantiles of the number of months for each subgroup."
   ]
  },
  {
   "cell_type": "markdown",
   "metadata": {},
   "source": [
    "#### Steps for Export\n",
    "- Counts of individuls for each subgroup (this will be exactly the same as in the figure above)\n",
    "    - Counts below 1000 should be rounded to the nearest ten\n",
    "    - Counts above or equal to 1000 should be rounded to the nearest hundred\n",
    "    \n",
    "For this figure we need to calculate the the fuzzy percentiles. \n",
    "- Fuzzy 25th percentile: Calculate the 20th and 30th percentiles and take the average \n",
    "- Fuzzy median : Calculate the 45th and 55th percentiles and take the average\n",
    "- Fuzzy 75th percentile: Calculate the 70th and 80th percentiles and take the average\n",
    "\n",
    "To get the average we add the percentiles together and divide by 2. For example:\n",
    "$$fuzzy\\  25th\\ = \\frac{20th + 30th}{2}$$\n",
    "\n",
    "> If you are calculating the fuzzy percentiles for wage, you will need to round to the nearest hundred after calculating the fuzzy percentile.\n",
    "\n",
    "> If you are calculating the fuzzy percentile for a number of individuals, you will need to round to the nearest 10 if the count is less than 1000 and to the nearest hundred if the count is greater than or equal to 1000."
   ]
  },
  {
   "cell_type": "markdown",
   "metadata": {},
   "source": [
    "#### Calculate the Quantiles\n",
    "\n",
    "We will be using the cohort2 data frame."
   ]
  },
  {
   "cell_type": "code",
   "execution_count": null,
   "metadata": {},
   "outputs": [],
   "source": [
    "Figure2_data <-  cohort2 %>%\n",
    "    group_by(num_child, single_adult) %>%\n",
    "    summarise(individuls = n_distinct(ssn),\n",
    "              # fuzzy 25th percentile\n",
    "              fuzzy_25 = (quantile(tanf_total_months, .20) + quantile(tanf_total_months, .30))/2,\n",
    "              # fuzzy median (50th percentile)\n",
    "              fuzzy_median = (quantile(tanf_total_months, .45) + quantile(tanf_total_months, .55))/2,\n",
    "              # fuzzy 75th percentile\n",
    "              fuzzy_75 = (quantile(tanf_total_months, .70) + quantile(tanf_total_months, .80))/2) %>%\n",
    "    ungroup()\n",
    "\n",
    "Figure2_data"
   ]
  },
  {
   "cell_type": "markdown",
   "metadata": {},
   "source": [
    "## Bar Plot with Distribution Bars"
   ]
  },
  {
   "cell_type": "markdown",
   "metadata": {},
   "source": [
    "Once we have prepared our data and calculated fuzzy percentiles, we can use the following code to create a bar plot that depicts the (fuzzy) median number of months on TANF for each sub-category. Similar to what we did above, we want to compare the median months on TANF for single adults to that of non-single adults based on the different number of children categories. Since the comparison variable is `single_adult`, that is what we will input in the `fill` parameter. \n",
    "\n",
    "Furthermore, we use the `geom_errorbar` function to add distribution bars that reflect the (fuzzy) 25th and 75th percentiles of months on TANF. \n",
    "\n",
    "> Note: Just because you use the `geom_errorbar` function does not mean you have to depict standard errors. You may use it to depict other distribution information such as the 25th and 75th percentiles. "
   ]
  },
  {
   "cell_type": "code",
   "execution_count": null,
   "metadata": {},
   "outputs": [],
   "source": [
    "Figure_2 <- Figure2_data %>%\n",
    "    ggplot(aes(x = num_child, \n",
    "               y = fuzzy_median, \n",
    "               fill = single_adult)) +\n",
    "    geom_bar(stat=\"identity\", position='dodge') +\n",
    "    # adding distribution bars\n",
    "    geom_errorbar(aes(ymin = fuzzy_25, \n",
    "                      ymax = fuzzy_75),\n",
    "                width = .2,                 \n",
    "                position = position_dodge(.9)) +\n",
    "    scale_fill_manual(\"\", values = single_color) +\n",
    "    labs(\n",
    "        x = 'Number of Children', # labelling x axis\n",
    "        y = 'Median Number of Months on TANF', # labelling y axis\n",
    "        # Add a title that conveys the main takeaway of the graph\n",
    "        title = 'Single Adults Spend Less Time on TANF \\n When There is More than One Child on a Case', # The \\n splits the title into two lines \n",
    "        caption = 'Indiana TANF data (2018 Q2 Exiters)' # cite the source of your data\n",
    "        ) \n",
    "Figure_2"
   ]
  },
  {
   "cell_type": "markdown",
   "metadata": {},
   "source": [
    "Adjust the font size using the code below:"
   ]
  },
  {
   "cell_type": "code",
   "execution_count": null,
   "metadata": {},
   "outputs": [],
   "source": [
    "Figure_2 <- Figure_2 +\n",
    "   theme(\n",
    "        legend.text = element_text(size = 24), # legend text font size\n",
    "        legend.title = element_text(size = 24), # legend title font size\n",
    "        axis.text.x = element_text(size = 24), # x axis label font size\n",
    "        axis.title.x = element_text(size = 24), # x axis title font size\n",
    "        axis.text.y = element_text(size = 24), # y axis label font size\n",
    "        axis.title.y = element_text(size = 24) # y axis title font size\n",
    "    )\n",
    "\n",
    "# Display the graph that we just created\n",
    "Figure_2"
   ]
  },
  {
   "cell_type": "markdown",
   "metadata": {},
   "source": [
    "## Percent employed over time \n",
    "\n",
    "We will create a line graph that depicts the percent of individuals from our cohort employed in '2018 Q3' who were employed over the year following exit broken down by **subgroups**. The information in this figure will be the same as in the last figure that we created in the `04_Characterizing_Demand_Beginner.ipynb` notebook. The focus of this exercise is to create the necessary supporting table and to improve the visual so that it better communicates relevant information."
   ]
  },
  {
   "cell_type": "markdown",
   "metadata": {},
   "source": [
    "#### Read in the Data\n",
    "\n",
    "We read in the `merged_cohort_wages_growth` table that we created in `04_Characterizing_Demand_Beginner.ipynb` notebook. "
   ]
  },
  {
   "cell_type": "code",
   "execution_count": null,
   "metadata": {},
   "outputs": [],
   "source": [
    "query <- \"\n",
    "SELECT *\n",
    "FROM tr_tdc_2022.dbo.merged_cohort_wages_growth\n",
    ";\n",
    "\"\n",
    "\n",
    "\n",
    "cohort_GrowthRate <- dbGetQuery(con, query)\n",
    "\n",
    "head(cohort_GrowthRate, 5)"
   ]
  },
  {
   "cell_type": "markdown",
   "metadata": {},
   "source": [
    "### Supporting Table"
   ]
  },
  {
   "cell_type": "markdown",
   "metadata": {},
   "source": [
    "In the figure we will depict the portion of people employed over time for the different subgroups. Thus the supporting table **must** include the following: \n",
    "- count: The number of people employed in each quarter for each subgroup \n",
    "- num_employers: The number of Employers in each quarter for each subgroup \n",
    "- count_round: The number of people employed in each quarter for each subgroup rounded \n",
    "    - Counts below 1000 should be rounded to the nearest ten\n",
    "    - Counts above or equal to 1000 should be rounded to the nearest hundred\n",
    "- pop: The number of people included in each subgroup\n",
    "- pop_round: The number of people included in each subgroup rounded\n",
    "    - Population below 1000 should be rounded to the nearest ten\n",
    "    - Population above or equal to 1000 should be rounded to the nearest hundred\n",
    "- percent: The percent of people employed in each quarter for each subgroup\n",
    "    - We have to use the rounded count and rounded population to calculate this\n",
    "- percent_round: The percent of people employed in each quarter for each subgroup rounded\n",
    "    - We have to round to the nearest full percent"
   ]
  },
  {
   "cell_type": "code",
   "execution_count": null,
   "metadata": {},
   "outputs": [],
   "source": [
    "Figue4_data <- cohort_GrowthRate %>%\n",
    "    group_by(emp_rate_cat) %>%\n",
    "    mutate(pop = n_distinct(ssn)) %>%\n",
    "    group_by(emp_rate_cat, yr_quarter) %>% \n",
    "    summarise(count = n_distinct(ssn), \n",
    "              # rounding count\n",
    "              cound_round = ifelse(count < 1000, round(count, digits = -1), \n",
    "                                   round(count, digits = -2)),\n",
    "              pop = unique(pop),\n",
    "              # rounding population\n",
    "             pop_round = ifelse(pop < 1000, round(pop, digits = -1), \n",
    "                                round(pop, digits = -2)),\n",
    "             percent = (cound_round/pop_round)*100,\n",
    "              # rounding percent\n",
    "              percent_round = round(percent, digits = 0),\n",
    "             num_employers = n_distinct(Empr_no))\n",
    "\n",
    "\n",
    "Figue4_data"
   ]
  },
  {
   "cell_type": "markdown",
   "metadata": {},
   "source": [
    "### Save the Data\n",
    "> In order to submit the following figure for export, you would need this csv as the supporting table. This table will not be exported, it will be used by the export team to make sure the figure passes the disclosure requirments. As in this example, all supporting tables should be generated programmatically (using only code) and the associated figure should be generated only using data that correspond to that table."
   ]
  },
  {
   "cell_type": "code",
   "execution_count": null,
   "metadata": {},
   "outputs": [],
   "source": [
    "write_csv(Figue4_data, \"Data/Figure4_data.csv\")"
   ]
  },
  {
   "cell_type": "markdown",
   "metadata": {},
   "source": [
    "## Line Plot"
   ]
  },
  {
   "cell_type": "markdown",
   "metadata": {},
   "source": [
    "We define colors that correspond to each type of employer (high growth, medium growth or low growth). This will be reflected in the line plot that we create."
   ]
  },
  {
   "cell_type": "code",
   "execution_count": null,
   "metadata": {},
   "outputs": [],
   "source": [
    "Employer_color <- c(High = \"#D55E00\",\n",
    "                Medium = \"#CC79A7\",\n",
    "                   Low =  \"#999999\") "
   ]
  },
  {
   "cell_type": "markdown",
   "metadata": {},
   "source": [
    "We create a line plot using the code below"
   ]
  },
  {
   "cell_type": "code",
   "execution_count": null,
   "metadata": {},
   "outputs": [],
   "source": [
    "Figure_4 <- Figue4_data %>%\n",
    "    ggplot(aes(x = yr_quarter, \n",
    "               y = percent_round, \n",
    "               group = emp_rate_cat, \n",
    "               color = emp_rate_cat)) +\n",
    "    geom_line(size = 1.3) + \n",
    "    geom_point(size = 5) + \n",
    "    expand_limits(y = 0) +\n",
    "    labs(colour = \"Employment Growth Rate\") + # Chance the title for the legend\n",
    "    scale_fill_manual(\"\", values = Employer_color) +\n",
    "    labs(\n",
    "        # Labelling x axis\n",
    "        x = 'Quarter-Year', \n",
    "        # Labelling y axis\n",
    "        y = 'Percent Employed', \n",
    "        # Add a title that conveys the main takeaway of the graph\n",
    "        title = 'TANF Exiters who are employed by High-Growth employers are the least likely to remain employed', \n",
    "        # cite the source of your data\n",
    "        caption = 'Indiana TANF data (2018Q2 Exiters) \\n Indiana UI Wage records'\n",
    "        )\n",
    "\n",
    "\n"
   ]
  },
  {
   "cell_type": "markdown",
   "metadata": {},
   "source": [
    "We update the font size and display the line plot. "
   ]
  },
  {
   "cell_type": "code",
   "execution_count": null,
   "metadata": {},
   "outputs": [],
   "source": [
    "Figure_4 <- Figure_4 + \n",
    "   theme(\n",
    "        legend.text = element_text(size = 24), # legend text font size\n",
    "        legend.title = element_text(size = 24), # legend title font size\n",
    "        axis.text.x = element_text(size = 24), # x axis label font size\n",
    "        axis.title.x = element_text(size = 24), # x axis title font size\n",
    "        axis.text.y = element_text(size = 24), # y axis label font size\n",
    "        axis.title.y = element_text(size = 24) # y axis title font size\n",
    "    )\n",
    "\n",
    "# Display the graph that we just created\n",
    "Figure_4"
   ]
  },
  {
   "cell_type": "markdown",
   "metadata": {},
   "source": [
    "# **Saving Visuals**"
   ]
  },
  {
   "cell_type": "markdown",
   "metadata": {},
   "source": [
    "In this section, we look at the best ways to export our presentation-ready plot. We use ``ggsave`` to save our plot in a png, jpeg and pdf format without losing quality. In the Example we save Figure_1 but you would want to save each figure that you create for your project. "
   ]
  },
  {
   "cell_type": "markdown",
   "metadata": {},
   "source": [
    "### **PNG**\n",
    "\n",
    "First, we provide an example of using ``ggsave`` with two parameters: `filename` and `plot`."
   ]
  },
  {
   "cell_type": "code",
   "execution_count": null,
   "metadata": {},
   "outputs": [],
   "source": [
    "ggsave(\n",
    "    filename = sprintf(\"Figures\\\\Figure_1.png\"), # saving path\n",
    "    plot = Figure_1 # plot name\n",
    ")"
   ]
  },
  {
   "cell_type": "markdown",
   "metadata": {},
   "source": [
    "This might not be the preferred way of saving a plot since the dimensions of the plot default to 6.67 x 6.67. We suggest looking at the file we just saved in its respective path. You will see how all the labels are cluttered and the graph can not be interpretted. Thus, we recommend using the `width` and `height` parameters in addition to `filename` and `plot`."
   ]
  },
  {
   "cell_type": "code",
   "execution_count": null,
   "metadata": {},
   "outputs": [],
   "source": [
    "ggsave(\n",
    "    filename = sprintf(\"Figures\\\\Figure_1.png\"), # saving path\n",
    "    plot = Figure_1, # plot name\n",
    "    width = 20, # width\n",
    "    height = 12 # height\n",
    ")"
   ]
  },
  {
   "cell_type": "markdown",
   "metadata": {},
   "source": [
    "The code above saves the plots in a format that can be interpretted conveniently. We reuse this code to save in a JPEG and PDF format below:"
   ]
  },
  {
   "cell_type": "markdown",
   "metadata": {},
   "source": [
    "### **JPEG**"
   ]
  },
  {
   "cell_type": "code",
   "execution_count": null,
   "metadata": {},
   "outputs": [],
   "source": [
    "ggsave(\n",
    "    filename = sprintf(\"Figures\\\\Figure_1.jpeg\"), # saving path\n",
    "    plot = Figure_1, # plot name\n",
    "    width = 20, # width\n",
    "    height = 12 # height\n",
    ")"
   ]
  },
  {
   "cell_type": "markdown",
   "metadata": {},
   "source": [
    "### **PDF**"
   ]
  },
  {
   "cell_type": "code",
   "execution_count": null,
   "metadata": {},
   "outputs": [],
   "source": [
    "ggsave(\n",
    "    filename = sprintf(\"Figures\\\\Figure_1.pdf\"), # saving path\n",
    "    plot = Figure_1, # plot name\n",
    "    width = 20, # width\n",
    "    height = 12 # height\n",
    ")"
   ]
  },
  {
   "cell_type": "markdown",
   "metadata": {},
   "source": [
    "## References:\n",
    "- Presentation Preparation, Applied Data Analytics Training, National Center of Science and Engineering Statistics, 2021\n",
    "- Characterizing Demand, Applied Data Analytics Training, TANF Data Collabarative, 2022\n",
    "- Data Visualization, Applied Data Analytics Training, California, 2021"
   ]
  },
  {
   "cell_type": "code",
   "execution_count": null,
   "metadata": {},
   "outputs": [],
   "source": []
  }
 ],
 "metadata": {
  "kernelspec": {
   "display_name": "R",
   "language": "R",
   "name": "ir"
  },
  "language_info": {
   "codemirror_mode": "r",
   "file_extension": ".r",
   "mimetype": "text/x-r-source",
   "name": "R",
   "pygments_lexer": "r",
   "version": "3.6.3"
  },
  "toc": {
   "nav_menu": {},
   "number_sections": false,
   "sideBar": true,
   "skip_h1_title": false,
   "toc_cell": false,
   "toc_position": {},
   "toc_section_display": "block",
   "toc_window_display": false
  }
 },
 "nbformat": 4,
 "nbformat_minor": 4
}
